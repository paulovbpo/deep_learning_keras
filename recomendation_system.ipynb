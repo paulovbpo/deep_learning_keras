{
  "nbformat": 4,
  "nbformat_minor": 0,
  "metadata": {
    "colab": {
      "name": "Sistemas de Recomendação.ipynb",
      "version": "0.3.2",
      "provenance": []
    },
    "kernelspec": {
      "name": "python3",
      "display_name": "Python 3"
    }
  },
  "cells": [
    {
      "cell_type": "markdown",
      "metadata": {
        "id": "aCB1btgTVZPG",
        "colab_type": "text"
      },
      "source": [
        "# Carrega os Dados"
      ]
    },
    {
      "cell_type": "code",
      "metadata": {
        "id": "THsO85nhJv76",
        "colab_type": "code",
        "outputId": "980a03dd-9af3-48fd-9e28-23719ff0cd1f",
        "colab": {
          "base_uri": "https://localhost:8080/",
          "height": 235
        }
      },
      "source": [
        "import pandas as pd\n",
        "filmes = pd.read_csv('movies.csv')\n",
        "filmes.columns = ['Id_Filme','Título','Gêneros'] \n",
        "filmes = filmes.set_index('Id_Filme')  # método para mudar o índice de uma coluna\n",
        "filmes.head()"
      ],
      "execution_count": 0,
      "outputs": [
        {
          "output_type": "execute_result",
          "data": {
            "text/html": [
              "<div>\n",
              "<style scoped>\n",
              "    .dataframe tbody tr th:only-of-type {\n",
              "        vertical-align: middle;\n",
              "    }\n",
              "\n",
              "    .dataframe tbody tr th {\n",
              "        vertical-align: top;\n",
              "    }\n",
              "\n",
              "    .dataframe thead th {\n",
              "        text-align: right;\n",
              "    }\n",
              "</style>\n",
              "<table border=\"1\" class=\"dataframe\">\n",
              "  <thead>\n",
              "    <tr style=\"text-align: right;\">\n",
              "      <th></th>\n",
              "      <th>Título</th>\n",
              "      <th>Gêneros</th>\n",
              "    </tr>\n",
              "    <tr>\n",
              "      <th>Id_Filme</th>\n",
              "      <th></th>\n",
              "      <th></th>\n",
              "    </tr>\n",
              "  </thead>\n",
              "  <tbody>\n",
              "    <tr>\n",
              "      <th>1</th>\n",
              "      <td>Toy Story (1995)</td>\n",
              "      <td>Adventure|Animation|Children|Comedy|Fantasy</td>\n",
              "    </tr>\n",
              "    <tr>\n",
              "      <th>2</th>\n",
              "      <td>Jumanji (1995)</td>\n",
              "      <td>Adventure|Children|Fantasy</td>\n",
              "    </tr>\n",
              "    <tr>\n",
              "      <th>3</th>\n",
              "      <td>Grumpier Old Men (1995)</td>\n",
              "      <td>Comedy|Romance</td>\n",
              "    </tr>\n",
              "    <tr>\n",
              "      <th>4</th>\n",
              "      <td>Waiting to Exhale (1995)</td>\n",
              "      <td>Comedy|Drama|Romance</td>\n",
              "    </tr>\n",
              "    <tr>\n",
              "      <th>5</th>\n",
              "      <td>Father of the Bride Part II (1995)</td>\n",
              "      <td>Comedy</td>\n",
              "    </tr>\n",
              "  </tbody>\n",
              "</table>\n",
              "</div>"
            ],
            "text/plain": [
              "                                      Título                                      Gêneros\n",
              "Id_Filme                                                                                 \n",
              "1                           Toy Story (1995)  Adventure|Animation|Children|Comedy|Fantasy\n",
              "2                             Jumanji (1995)                   Adventure|Children|Fantasy\n",
              "3                    Grumpier Old Men (1995)                               Comedy|Romance\n",
              "4                   Waiting to Exhale (1995)                         Comedy|Drama|Romance\n",
              "5         Father of the Bride Part II (1995)                                       Comedy"
            ]
          },
          "metadata": {
            "tags": []
          },
          "execution_count": 1
        }
      ]
    },
    {
      "cell_type": "code",
      "metadata": {
        "id": "G8D_WzusTKpb",
        "colab_type": "code",
        "outputId": "225f8216-a934-457c-de3e-3bd12ec2dcd4",
        "colab": {
          "base_uri": "https://localhost:8080/",
          "height": 297
        }
      },
      "source": [
        "notas = pd.read_csv('ratings.csv')\n",
        "notas.columns = ['Id_Usuário','Id_Filme','Nota','Momento']\n",
        "notas.describe()   # método que retorna importantes informações numérica dos dados"
      ],
      "execution_count": 0,
      "outputs": [
        {
          "output_type": "execute_result",
          "data": {
            "text/html": [
              "<div>\n",
              "<style scoped>\n",
              "    .dataframe tbody tr th:only-of-type {\n",
              "        vertical-align: middle;\n",
              "    }\n",
              "\n",
              "    .dataframe tbody tr th {\n",
              "        vertical-align: top;\n",
              "    }\n",
              "\n",
              "    .dataframe thead th {\n",
              "        text-align: right;\n",
              "    }\n",
              "</style>\n",
              "<table border=\"1\" class=\"dataframe\">\n",
              "  <thead>\n",
              "    <tr style=\"text-align: right;\">\n",
              "      <th></th>\n",
              "      <th>Id_Usuário</th>\n",
              "      <th>Id_Filme</th>\n",
              "      <th>Nota</th>\n",
              "      <th>Momento</th>\n",
              "    </tr>\n",
              "  </thead>\n",
              "  <tbody>\n",
              "    <tr>\n",
              "      <th>count</th>\n",
              "      <td>100836.000000</td>\n",
              "      <td>100836.000000</td>\n",
              "      <td>100836.000000</td>\n",
              "      <td>1.008360e+05</td>\n",
              "    </tr>\n",
              "    <tr>\n",
              "      <th>mean</th>\n",
              "      <td>326.127564</td>\n",
              "      <td>19435.295718</td>\n",
              "      <td>3.501557</td>\n",
              "      <td>1.205946e+09</td>\n",
              "    </tr>\n",
              "    <tr>\n",
              "      <th>std</th>\n",
              "      <td>182.618491</td>\n",
              "      <td>35530.987199</td>\n",
              "      <td>1.042529</td>\n",
              "      <td>2.162610e+08</td>\n",
              "    </tr>\n",
              "    <tr>\n",
              "      <th>min</th>\n",
              "      <td>1.000000</td>\n",
              "      <td>1.000000</td>\n",
              "      <td>0.500000</td>\n",
              "      <td>8.281246e+08</td>\n",
              "    </tr>\n",
              "    <tr>\n",
              "      <th>25%</th>\n",
              "      <td>177.000000</td>\n",
              "      <td>1199.000000</td>\n",
              "      <td>3.000000</td>\n",
              "      <td>1.019124e+09</td>\n",
              "    </tr>\n",
              "    <tr>\n",
              "      <th>50%</th>\n",
              "      <td>325.000000</td>\n",
              "      <td>2991.000000</td>\n",
              "      <td>3.500000</td>\n",
              "      <td>1.186087e+09</td>\n",
              "    </tr>\n",
              "    <tr>\n",
              "      <th>75%</th>\n",
              "      <td>477.000000</td>\n",
              "      <td>8122.000000</td>\n",
              "      <td>4.000000</td>\n",
              "      <td>1.435994e+09</td>\n",
              "    </tr>\n",
              "    <tr>\n",
              "      <th>max</th>\n",
              "      <td>610.000000</td>\n",
              "      <td>193609.000000</td>\n",
              "      <td>5.000000</td>\n",
              "      <td>1.537799e+09</td>\n",
              "    </tr>\n",
              "  </tbody>\n",
              "</table>\n",
              "</div>"
            ],
            "text/plain": [
              "          Id_Usuário       Id_Filme           Nota       Momento\n",
              "count  100836.000000  100836.000000  100836.000000  1.008360e+05\n",
              "mean      326.127564   19435.295718       3.501557  1.205946e+09\n",
              "std       182.618491   35530.987199       1.042529  2.162610e+08\n",
              "min         1.000000       1.000000       0.500000  8.281246e+08\n",
              "25%       177.000000    1199.000000       3.000000  1.019124e+09\n",
              "50%       325.000000    2991.000000       3.500000  1.186087e+09\n",
              "75%       477.000000    8122.000000       4.000000  1.435994e+09\n",
              "max       610.000000  193609.000000       5.000000  1.537799e+09"
            ]
          },
          "metadata": {
            "tags": []
          },
          "execution_count": 2
        }
      ]
    },
    {
      "cell_type": "markdown",
      "metadata": {
        "id": "h57diuqRVTqP",
        "colab_type": "text"
      },
      "source": [
        "# 1° Tentativa de Recomendação:\n",
        "   **Baseado no Número de Votos**"
      ]
    },
    {
      "cell_type": "code",
      "metadata": {
        "id": "AkPvMdjSUtuY",
        "colab_type": "code",
        "outputId": "95dae096-8c3b-41e9-b12e-4c1292bd0ef9",
        "colab": {
          "base_uri": "https://localhost:8080/",
          "height": 235
        }
      },
      "source": [
        "total_votos = notas['Id_Filme'].value_counts()   # conta o numero de vezes que foi votado cada filme\n",
        "filmes['Total_Votos'] = total_votos     # atribui a series(variável) criada anteriormente a uma nova coluna do DF filmes\n",
        "filmes.sort_values('Total_Votos', ascending = False).head()  # ordena de forma decrescente o total de votos"
      ],
      "execution_count": 0,
      "outputs": [
        {
          "output_type": "execute_result",
          "data": {
            "text/html": [
              "<div>\n",
              "<style scoped>\n",
              "    .dataframe tbody tr th:only-of-type {\n",
              "        vertical-align: middle;\n",
              "    }\n",
              "\n",
              "    .dataframe tbody tr th {\n",
              "        vertical-align: top;\n",
              "    }\n",
              "\n",
              "    .dataframe thead th {\n",
              "        text-align: right;\n",
              "    }\n",
              "</style>\n",
              "<table border=\"1\" class=\"dataframe\">\n",
              "  <thead>\n",
              "    <tr style=\"text-align: right;\">\n",
              "      <th></th>\n",
              "      <th>Título</th>\n",
              "      <th>Gêneros</th>\n",
              "      <th>Total_Votos</th>\n",
              "    </tr>\n",
              "    <tr>\n",
              "      <th>Id_Filme</th>\n",
              "      <th></th>\n",
              "      <th></th>\n",
              "      <th></th>\n",
              "    </tr>\n",
              "  </thead>\n",
              "  <tbody>\n",
              "    <tr>\n",
              "      <th>356</th>\n",
              "      <td>Forrest Gump (1994)</td>\n",
              "      <td>Comedy|Drama|Romance|War</td>\n",
              "      <td>329.0</td>\n",
              "    </tr>\n",
              "    <tr>\n",
              "      <th>318</th>\n",
              "      <td>Shawshank Redemption, The (1994)</td>\n",
              "      <td>Crime|Drama</td>\n",
              "      <td>317.0</td>\n",
              "    </tr>\n",
              "    <tr>\n",
              "      <th>296</th>\n",
              "      <td>Pulp Fiction (1994)</td>\n",
              "      <td>Comedy|Crime|Drama|Thriller</td>\n",
              "      <td>307.0</td>\n",
              "    </tr>\n",
              "    <tr>\n",
              "      <th>593</th>\n",
              "      <td>Silence of the Lambs, The (1991)</td>\n",
              "      <td>Crime|Horror|Thriller</td>\n",
              "      <td>279.0</td>\n",
              "    </tr>\n",
              "    <tr>\n",
              "      <th>2571</th>\n",
              "      <td>Matrix, The (1999)</td>\n",
              "      <td>Action|Sci-Fi|Thriller</td>\n",
              "      <td>278.0</td>\n",
              "    </tr>\n",
              "  </tbody>\n",
              "</table>\n",
              "</div>"
            ],
            "text/plain": [
              "                                    Título  ... Total_Votos\n",
              "Id_Filme                                    ...            \n",
              "356                    Forrest Gump (1994)  ...       329.0\n",
              "318       Shawshank Redemption, The (1994)  ...       317.0\n",
              "296                    Pulp Fiction (1994)  ...       307.0\n",
              "593       Silence of the Lambs, The (1991)  ...       279.0\n",
              "2571                    Matrix, The (1999)  ...       278.0\n",
              "\n",
              "[5 rows x 3 columns]"
            ]
          },
          "metadata": {
            "tags": []
          },
          "execution_count": 3
        }
      ]
    },
    {
      "cell_type": "code",
      "metadata": {
        "id": "ez6FroJUV2ZX",
        "colab_type": "code",
        "outputId": "b4967536-e646-470d-c722-7f03b4cbc37e",
        "colab": {
          "base_uri": "https://localhost:8080/",
          "height": 85
        }
      },
      "source": [
        "filmes.loc[700]   # método para localizar determinado dado"
      ],
      "execution_count": 0,
      "outputs": [
        {
          "output_type": "execute_result",
          "data": {
            "text/plain": [
              "Título         Angus (1995)\n",
              "Gêneros              Comedy\n",
              "Total_Votos               7\n",
              "Name: 700, dtype: object"
            ]
          },
          "metadata": {
            "tags": []
          },
          "execution_count": 4
        }
      ]
    },
    {
      "cell_type": "markdown",
      "metadata": {
        "id": "Pkuhq1HLaTW-",
        "colab_type": "text"
      },
      "source": [
        "# 2° Tentativa de Recomendação:\n",
        "  **Baseado na Média das Notas**"
      ]
    },
    {
      "cell_type": "code",
      "metadata": {
        "id": "zhemJFfiWqqx",
        "colab_type": "code",
        "outputId": "206310cc-2b4b-42da-c056-1baf92c62c9a",
        "colab": {
          "base_uri": "https://localhost:8080/",
          "height": 235
        }
      },
      "source": [
        "media_notas = notas.groupby('Id_Filme').mean()['Nota']  # agrupa a coluna do Id_Filme pela media da coluna 'Nota'\n",
        "filmes['Média_Notas'] = media_notas  # atribui a series(variável) criada anteriormente a uma nova coluna do DF filmes\n",
        "filmes.sort_values('Média_Notas', ascending = False).head() # ordena de forma decrescente a média de notas "
      ],
      "execution_count": 0,
      "outputs": [
        {
          "output_type": "execute_result",
          "data": {
            "text/html": [
              "<div>\n",
              "<style scoped>\n",
              "    .dataframe tbody tr th:only-of-type {\n",
              "        vertical-align: middle;\n",
              "    }\n",
              "\n",
              "    .dataframe tbody tr th {\n",
              "        vertical-align: top;\n",
              "    }\n",
              "\n",
              "    .dataframe thead th {\n",
              "        text-align: right;\n",
              "    }\n",
              "</style>\n",
              "<table border=\"1\" class=\"dataframe\">\n",
              "  <thead>\n",
              "    <tr style=\"text-align: right;\">\n",
              "      <th></th>\n",
              "      <th>Título</th>\n",
              "      <th>Gêneros</th>\n",
              "      <th>Total_Votos</th>\n",
              "      <th>Média_Notas</th>\n",
              "    </tr>\n",
              "    <tr>\n",
              "      <th>Id_Filme</th>\n",
              "      <th></th>\n",
              "      <th></th>\n",
              "      <th></th>\n",
              "      <th></th>\n",
              "    </tr>\n",
              "  </thead>\n",
              "  <tbody>\n",
              "    <tr>\n",
              "      <th>88448</th>\n",
              "      <td>Paper Birds (Pájaros de papel) (2010)</td>\n",
              "      <td>Comedy|Drama</td>\n",
              "      <td>1.0</td>\n",
              "      <td>5.0</td>\n",
              "    </tr>\n",
              "    <tr>\n",
              "      <th>100556</th>\n",
              "      <td>Act of Killing, The (2012)</td>\n",
              "      <td>Documentary</td>\n",
              "      <td>1.0</td>\n",
              "      <td>5.0</td>\n",
              "    </tr>\n",
              "    <tr>\n",
              "      <th>143031</th>\n",
              "      <td>Jump In! (2007)</td>\n",
              "      <td>Comedy|Drama|Romance</td>\n",
              "      <td>1.0</td>\n",
              "      <td>5.0</td>\n",
              "    </tr>\n",
              "    <tr>\n",
              "      <th>143511</th>\n",
              "      <td>Human (2015)</td>\n",
              "      <td>Documentary</td>\n",
              "      <td>1.0</td>\n",
              "      <td>5.0</td>\n",
              "    </tr>\n",
              "    <tr>\n",
              "      <th>143559</th>\n",
              "      <td>L.A. Slasher (2015)</td>\n",
              "      <td>Comedy|Crime|Fantasy</td>\n",
              "      <td>1.0</td>\n",
              "      <td>5.0</td>\n",
              "    </tr>\n",
              "  </tbody>\n",
              "</table>\n",
              "</div>"
            ],
            "text/plain": [
              "                                         Título  ... Média_Notas\n",
              "Id_Filme                                         ...            \n",
              "88448     Paper Birds (Pájaros de papel) (2010)  ...         5.0\n",
              "100556               Act of Killing, The (2012)  ...         5.0\n",
              "143031                          Jump In! (2007)  ...         5.0\n",
              "143511                             Human (2015)  ...         5.0\n",
              "143559                      L.A. Slasher (2015)  ...         5.0\n",
              "\n",
              "[5 rows x 4 columns]"
            ]
          },
          "metadata": {
            "tags": []
          },
          "execution_count": 5
        }
      ]
    },
    {
      "cell_type": "markdown",
      "metadata": {
        "id": "N6ITmuirfu8f",
        "colab_type": "text"
      },
      "source": [
        "# 3° Tentativa de Recomendação:\n",
        "  **Média das Notas com Filtragem dos Números de Votos**"
      ]
    },
    {
      "cell_type": "code",
      "metadata": {
        "id": "c7yq7iG2alJG",
        "colab_type": "code",
        "outputId": "f9d41901-6bd3-4656-b976-0abfcbe12471",
        "colab": {
          "base_uri": "https://localhost:8080/",
          "height": 235
        }
      },
      "source": [
        "filmes_mais_50_votos = filmes.query('Total_Votos >= 50')\n",
        "filmes_mais_50_votos.sort_values('Média_Notas', ascending = False).head() \n",
        "# método query filtra o conjunto de dados baseado em uma condição "
      ],
      "execution_count": 0,
      "outputs": [
        {
          "output_type": "execute_result",
          "data": {
            "text/html": [
              "<div>\n",
              "<style scoped>\n",
              "    .dataframe tbody tr th:only-of-type {\n",
              "        vertical-align: middle;\n",
              "    }\n",
              "\n",
              "    .dataframe tbody tr th {\n",
              "        vertical-align: top;\n",
              "    }\n",
              "\n",
              "    .dataframe thead th {\n",
              "        text-align: right;\n",
              "    }\n",
              "</style>\n",
              "<table border=\"1\" class=\"dataframe\">\n",
              "  <thead>\n",
              "    <tr style=\"text-align: right;\">\n",
              "      <th></th>\n",
              "      <th>Título</th>\n",
              "      <th>Gêneros</th>\n",
              "      <th>Total_Votos</th>\n",
              "      <th>Média_Notas</th>\n",
              "    </tr>\n",
              "    <tr>\n",
              "      <th>Id_Filme</th>\n",
              "      <th></th>\n",
              "      <th></th>\n",
              "      <th></th>\n",
              "      <th></th>\n",
              "    </tr>\n",
              "  </thead>\n",
              "  <tbody>\n",
              "    <tr>\n",
              "      <th>318</th>\n",
              "      <td>Shawshank Redemption, The (1994)</td>\n",
              "      <td>Crime|Drama</td>\n",
              "      <td>317.0</td>\n",
              "      <td>4.429022</td>\n",
              "    </tr>\n",
              "    <tr>\n",
              "      <th>858</th>\n",
              "      <td>Godfather, The (1972)</td>\n",
              "      <td>Crime|Drama</td>\n",
              "      <td>192.0</td>\n",
              "      <td>4.289062</td>\n",
              "    </tr>\n",
              "    <tr>\n",
              "      <th>2959</th>\n",
              "      <td>Fight Club (1999)</td>\n",
              "      <td>Action|Crime|Drama|Thriller</td>\n",
              "      <td>218.0</td>\n",
              "      <td>4.272936</td>\n",
              "    </tr>\n",
              "    <tr>\n",
              "      <th>1276</th>\n",
              "      <td>Cool Hand Luke (1967)</td>\n",
              "      <td>Drama</td>\n",
              "      <td>57.0</td>\n",
              "      <td>4.271930</td>\n",
              "    </tr>\n",
              "    <tr>\n",
              "      <th>750</th>\n",
              "      <td>Dr. Strangelove or: How I Learned to Stop Worr...</td>\n",
              "      <td>Comedy|War</td>\n",
              "      <td>97.0</td>\n",
              "      <td>4.268041</td>\n",
              "    </tr>\n",
              "  </tbody>\n",
              "</table>\n",
              "</div>"
            ],
            "text/plain": [
              "                                                     Título  ... Média_Notas\n",
              "Id_Filme                                                     ...            \n",
              "318                        Shawshank Redemption, The (1994)  ...    4.429022\n",
              "858                                   Godfather, The (1972)  ...    4.289062\n",
              "2959                                      Fight Club (1999)  ...    4.272936\n",
              "1276                                  Cool Hand Luke (1967)  ...    4.271930\n",
              "750       Dr. Strangelove or: How I Learned to Stop Worr...  ...    4.268041\n",
              "\n",
              "[5 rows x 4 columns]"
            ]
          },
          "metadata": {
            "tags": []
          },
          "execution_count": 6
        }
      ]
    },
    {
      "cell_type": "markdown",
      "metadata": {
        "id": "sb8Wf0RQ50NI",
        "colab_type": "text"
      },
      "source": [
        "# 4° Tentativa de Recomendação\n",
        "**Filmes assistidos e Gêneros**"
      ]
    },
    {
      "cell_type": "code",
      "metadata": {
        "id": "FmX4-hCJf8ZI",
        "colab_type": "code",
        "outputId": "e2833e98-b071-418e-b788-bf03bab8f133",
        "colab": {
          "base_uri": "https://localhost:8080/",
          "height": 297
        }
      },
      "source": [
        "filmes_assistidos = [1, 17, 19, 22, 29, 44, 66]\n",
        "filmes.loc[filmes_assistidos]"
      ],
      "execution_count": 0,
      "outputs": [
        {
          "output_type": "execute_result",
          "data": {
            "text/html": [
              "<div>\n",
              "<style scoped>\n",
              "    .dataframe tbody tr th:only-of-type {\n",
              "        vertical-align: middle;\n",
              "    }\n",
              "\n",
              "    .dataframe tbody tr th {\n",
              "        vertical-align: top;\n",
              "    }\n",
              "\n",
              "    .dataframe thead th {\n",
              "        text-align: right;\n",
              "    }\n",
              "</style>\n",
              "<table border=\"1\" class=\"dataframe\">\n",
              "  <thead>\n",
              "    <tr style=\"text-align: right;\">\n",
              "      <th></th>\n",
              "      <th>Título</th>\n",
              "      <th>Gêneros</th>\n",
              "      <th>Total_Votos</th>\n",
              "      <th>Média_Notas</th>\n",
              "    </tr>\n",
              "    <tr>\n",
              "      <th>Id_Filme</th>\n",
              "      <th></th>\n",
              "      <th></th>\n",
              "      <th></th>\n",
              "      <th></th>\n",
              "    </tr>\n",
              "  </thead>\n",
              "  <tbody>\n",
              "    <tr>\n",
              "      <th>1</th>\n",
              "      <td>Toy Story (1995)</td>\n",
              "      <td>Adventure|Animation|Children|Comedy|Fantasy</td>\n",
              "      <td>215.0</td>\n",
              "      <td>3.920930</td>\n",
              "    </tr>\n",
              "    <tr>\n",
              "      <th>17</th>\n",
              "      <td>Sense and Sensibility (1995)</td>\n",
              "      <td>Drama|Romance</td>\n",
              "      <td>67.0</td>\n",
              "      <td>3.776119</td>\n",
              "    </tr>\n",
              "    <tr>\n",
              "      <th>19</th>\n",
              "      <td>Ace Ventura: When Nature Calls (1995)</td>\n",
              "      <td>Comedy</td>\n",
              "      <td>88.0</td>\n",
              "      <td>2.727273</td>\n",
              "    </tr>\n",
              "    <tr>\n",
              "      <th>22</th>\n",
              "      <td>Copycat (1995)</td>\n",
              "      <td>Crime|Drama|Horror|Mystery|Thriller</td>\n",
              "      <td>36.0</td>\n",
              "      <td>3.222222</td>\n",
              "    </tr>\n",
              "    <tr>\n",
              "      <th>29</th>\n",
              "      <td>City of Lost Children, The (Cité des enfants p...</td>\n",
              "      <td>Adventure|Drama|Fantasy|Mystery|Sci-Fi</td>\n",
              "      <td>38.0</td>\n",
              "      <td>4.013158</td>\n",
              "    </tr>\n",
              "    <tr>\n",
              "      <th>44</th>\n",
              "      <td>Mortal Kombat (1995)</td>\n",
              "      <td>Action|Adventure|Fantasy</td>\n",
              "      <td>46.0</td>\n",
              "      <td>2.543478</td>\n",
              "    </tr>\n",
              "    <tr>\n",
              "      <th>66</th>\n",
              "      <td>Lawnmower Man 2: Beyond Cyberspace (1996)</td>\n",
              "      <td>Action|Sci-Fi|Thriller</td>\n",
              "      <td>9.0</td>\n",
              "      <td>2.500000</td>\n",
              "    </tr>\n",
              "  </tbody>\n",
              "</table>\n",
              "</div>"
            ],
            "text/plain": [
              "                                                     Título  ... Média_Notas\n",
              "Id_Filme                                                     ...            \n",
              "1                                          Toy Story (1995)  ...    3.920930\n",
              "17                             Sense and Sensibility (1995)  ...    3.776119\n",
              "19                    Ace Ventura: When Nature Calls (1995)  ...    2.727273\n",
              "22                                           Copycat (1995)  ...    3.222222\n",
              "29        City of Lost Children, The (Cité des enfants p...  ...    4.013158\n",
              "44                                     Mortal Kombat (1995)  ...    2.543478\n",
              "66                Lawnmower Man 2: Beyond Cyberspace (1996)  ...    2.500000\n",
              "\n",
              "[7 rows x 4 columns]"
            ]
          },
          "metadata": {
            "tags": []
          },
          "execution_count": 7
        }
      ]
    },
    {
      "cell_type": "code",
      "metadata": {
        "id": "Qwm2m5Hk6-H7",
        "colab_type": "code",
        "outputId": "8ace2d60-ba84-4836-9d77-dc645dc44e4f",
        "colab": {
          "base_uri": "https://localhost:8080/",
          "height": 173
        }
      },
      "source": [
        "# filtra os generos iguais a estes e filmes com mais de 50 votos\n",
        "acao_aventura_fantasia = filmes_mais_50_votos.query(\"Gêneros == 'Action|Adventure|Fantasy'\")\n",
        "\n",
        "acao_aventura_fantasia.drop(filmes_assistidos, errors = 'ignore').sort_values('Média_Notas', ascending = False).head()\n",
        "# método drop para retirar filmes desses gêneros que ja foram assitidos, e ignorar os erros pois dentro dos filmes assistidos existem de outros generos"
      ],
      "execution_count": 0,
      "outputs": [
        {
          "output_type": "execute_result",
          "data": {
            "text/html": [
              "<div>\n",
              "<style scoped>\n",
              "    .dataframe tbody tr th:only-of-type {\n",
              "        vertical-align: middle;\n",
              "    }\n",
              "\n",
              "    .dataframe tbody tr th {\n",
              "        vertical-align: top;\n",
              "    }\n",
              "\n",
              "    .dataframe thead th {\n",
              "        text-align: right;\n",
              "    }\n",
              "</style>\n",
              "<table border=\"1\" class=\"dataframe\">\n",
              "  <thead>\n",
              "    <tr style=\"text-align: right;\">\n",
              "      <th></th>\n",
              "      <th>Título</th>\n",
              "      <th>Gêneros</th>\n",
              "      <th>Total_Votos</th>\n",
              "      <th>Média_Notas</th>\n",
              "    </tr>\n",
              "    <tr>\n",
              "      <th>Id_Filme</th>\n",
              "      <th></th>\n",
              "      <th></th>\n",
              "      <th></th>\n",
              "      <th></th>\n",
              "    </tr>\n",
              "  </thead>\n",
              "  <tbody>\n",
              "    <tr>\n",
              "      <th>2115</th>\n",
              "      <td>Indiana Jones and the Temple of Doom (1984)</td>\n",
              "      <td>Action|Adventure|Fantasy</td>\n",
              "      <td>108.0</td>\n",
              "      <td>3.638889</td>\n",
              "    </tr>\n",
              "    <tr>\n",
              "      <th>45722</th>\n",
              "      <td>Pirates of the Caribbean: Dead Man's Chest (2006)</td>\n",
              "      <td>Action|Adventure|Fantasy</td>\n",
              "      <td>72.0</td>\n",
              "      <td>3.506944</td>\n",
              "    </tr>\n",
              "    <tr>\n",
              "      <th>653</th>\n",
              "      <td>Dragonheart (1996)</td>\n",
              "      <td>Action|Adventure|Fantasy</td>\n",
              "      <td>65.0</td>\n",
              "      <td>3.092308</td>\n",
              "    </tr>\n",
              "  </tbody>\n",
              "</table>\n",
              "</div>"
            ],
            "text/plain": [
              "                                                     Título  ... Média_Notas\n",
              "Id_Filme                                                     ...            \n",
              "2115            Indiana Jones and the Temple of Doom (1984)  ...    3.638889\n",
              "45722     Pirates of the Caribbean: Dead Man's Chest (2006)  ...    3.506944\n",
              "653                                      Dragonheart (1996)  ...    3.092308\n",
              "\n",
              "[3 rows x 4 columns]"
            ]
          },
          "metadata": {
            "tags": []
          },
          "execution_count": 8
        }
      ]
    },
    {
      "cell_type": "markdown",
      "metadata": {
        "id": "tSm28dLyDIXR",
        "colab_type": "text"
      },
      "source": [
        "# 5° Tentativa de Recomendação\n",
        "**Filmes similares que outras pessoas assistiram**"
      ]
    },
    {
      "cell_type": "code",
      "metadata": {
        "id": "zXL_pM1pPdhm",
        "colab_type": "code",
        "colab": {}
      },
      "source": [
        "import numpy as np\n",
        "# função para calcular a distância entre dois vetores\n",
        "def distancia_vetores(a,b):\n",
        "  return np.linalg.norm(a - b)"
      ],
      "execution_count": 0,
      "outputs": []
    },
    {
      "cell_type": "code",
      "metadata": {
        "id": "tf5PMSYS8tW_",
        "colab_type": "code",
        "colab": {}
      },
      "source": [
        "# função para filtrar as notas de um usuário específico\n",
        "def notas_usuario(usuario):\n",
        "  notas_usuario = notas.query(\"Id_Usuário == %d\" %usuario) \n",
        "  notas_usuario = notas_usuario[['Id_Filme','Nota']].set_index('Id_Filme')  # seleciona apenas as colunas do IdFilme e Nota, além de substituir o index\n",
        "  return notas_usuario"
      ],
      "execution_count": 0,
      "outputs": []
    },
    {
      "cell_type": "code",
      "metadata": {
        "id": "dMihhrzPJ6j6",
        "colab_type": "code",
        "colab": {}
      },
      "source": [
        "# função para calcular a distância entre dois usuários\n",
        "def distancia_usuarios(user_1,user_2):\n",
        "  notas1 = notas_usuario(user_1)\n",
        "  notas2 = notas_usuario(user_2)\n",
        "  diferencas = notas1.join(notas2, lsuffix = \"_Esquerda\", rsuffix=\"_Direita\").dropna() # método dropna para exlcuir os filmes que apenas o usuario1 assistiu\n",
        "  # método join para juntar os DF, tendo que passar sufixos para o nome da coluna Nota para diferencia-las\n",
        "  \n",
        "  \n",
        "  minimo = 5\n",
        "  if(len(diferencas)< minimo):    # para desconsiderar usuarios que possuam um mínimo de filmes em comum\n",
        "  # return [user_1, user_2, 9999] \n",
        "    return None\n",
        "    \n",
        "  \n",
        "  distancia = distancia_vetores(diferencas['Nota_Esquerda'],diferencas['Nota_Direita'])\n",
        "  return [user_1, user_2, distancia]"
      ],
      "execution_count": 0,
      "outputs": []
    },
    {
      "cell_type": "code",
      "metadata": {
        "id": "Vl6ij3XwQHlx",
        "colab_type": "code",
        "colab": {}
      },
      "source": [
        "# função para calcular a distância entre um usuário e o resto\n",
        "def distancia_todos(usuario):\n",
        "  todos_usuarios = notas['Id_Usuário'].unique()   # método unique para receber todos os usuários do DF\n",
        "  distancias = [distancia_usuarios(usuario, usuario_id) for usuario_id in todos_usuarios] # um loop para percorrer cada usuario\n",
        "  distancias = pd.DataFrame(distancias, columns = ['Usuário_Escolhido','Todos_Usuários','Distância'])  # transforma a variável distancias em uma DF para poder maniupala-la melhor  \n",
        "  return distancias"
      ],
      "execution_count": 0,
      "outputs": []
    },
    {
      "cell_type": "code",
      "metadata": {
        "id": "z1vlPQzskY6z",
        "colab_type": "code",
        "colab": {}
      },
      "source": [
        "# função para ordenar a distancia entre os usuários\n",
        "def ordem_distancia(usuario):\n",
        "  distancias = distancia_todos(usuario)\n",
        "  distancias = distancias.sort_values('Distância')  # coloca em ordem crescente\n",
        "  distancias = distancias.set_index('Todos_Usuários').drop(usuario)  # coloca a coluna de todos os usuarios como índice e retira a 1° linha para não comparar com o proprio usuario\n",
        "  return distancias"
      ],
      "execution_count": 0,
      "outputs": []
    },
    {
      "cell_type": "code",
      "metadata": {
        "id": "FW8ZDYcyTNBE",
        "colab_type": "code",
        "outputId": "e24e3578-a911-4c9a-8da3-853c5169f40b",
        "colab": {
          "base_uri": "https://localhost:8080/",
          "height": 340
        }
      },
      "source": [
        "distancia_todos(1).head()"
      ],
      "execution_count": 0,
      "outputs": [
        {
          "output_type": "error",
          "ename": "TypeError",
          "evalue": "ignored",
          "traceback": [
            "\u001b[0;31m---------------------------------------------------------------------------\u001b[0m",
            "\u001b[0;31mTypeError\u001b[0m                                 Traceback (most recent call last)",
            "\u001b[0;32m<ipython-input-14-d82af876795e>\u001b[0m in \u001b[0;36m<module>\u001b[0;34m()\u001b[0m\n\u001b[0;32m----> 1\u001b[0;31m \u001b[0mdistancia_todos\u001b[0m\u001b[0;34m(\u001b[0m\u001b[0;36m1\u001b[0m\u001b[0;34m)\u001b[0m\u001b[0;34m.\u001b[0m\u001b[0mhead\u001b[0m\u001b[0;34m(\u001b[0m\u001b[0;34m)\u001b[0m\u001b[0;34m\u001b[0m\u001b[0;34m\u001b[0m\u001b[0m\n\u001b[0m",
            "\u001b[0;32m<ipython-input-12-9f447fcb1178>\u001b[0m in \u001b[0;36mdistancia_todos\u001b[0;34m(usuario)\u001b[0m\n\u001b[1;32m      2\u001b[0m   \u001b[0mtodos_usuarios\u001b[0m \u001b[0;34m=\u001b[0m \u001b[0mnotas\u001b[0m\u001b[0;34m[\u001b[0m\u001b[0;34m'Id_Usuário'\u001b[0m\u001b[0;34m]\u001b[0m\u001b[0;34m.\u001b[0m\u001b[0munique\u001b[0m\u001b[0;34m(\u001b[0m\u001b[0;34m)\u001b[0m   \u001b[0;31m# método unique para receber todos os usuários do DF\u001b[0m\u001b[0;34m\u001b[0m\u001b[0;34m\u001b[0m\u001b[0m\n\u001b[1;32m      3\u001b[0m   \u001b[0mdistancias\u001b[0m \u001b[0;34m=\u001b[0m \u001b[0;34m[\u001b[0m\u001b[0mdistancia_usuarios\u001b[0m\u001b[0;34m(\u001b[0m\u001b[0musuario\u001b[0m\u001b[0;34m,\u001b[0m \u001b[0musuario_id\u001b[0m\u001b[0;34m)\u001b[0m \u001b[0;32mfor\u001b[0m \u001b[0musuario_id\u001b[0m \u001b[0;32min\u001b[0m \u001b[0mtodos_usuarios\u001b[0m\u001b[0;34m]\u001b[0m \u001b[0;31m# um loop para percorrer cada usuario\u001b[0m\u001b[0;34m\u001b[0m\u001b[0;34m\u001b[0m\u001b[0m\n\u001b[0;32m----> 4\u001b[0;31m   \u001b[0mdistancias\u001b[0m \u001b[0;34m=\u001b[0m \u001b[0mpd\u001b[0m\u001b[0;34m.\u001b[0m\u001b[0mDataFrame\u001b[0m\u001b[0;34m(\u001b[0m\u001b[0mdistancias\u001b[0m\u001b[0;34m,\u001b[0m \u001b[0mcolumns\u001b[0m \u001b[0;34m=\u001b[0m \u001b[0;34m[\u001b[0m\u001b[0;34m'Usuário_Escolhido'\u001b[0m\u001b[0;34m,\u001b[0m\u001b[0;34m'Todos_Usuários'\u001b[0m\u001b[0;34m,\u001b[0m\u001b[0;34m'Distância'\u001b[0m\u001b[0;34m]\u001b[0m\u001b[0;34m)\u001b[0m  \u001b[0;31m# transforma a variável distancias em uma DF para poder maniupala-la melhor\u001b[0m\u001b[0;34m\u001b[0m\u001b[0;34m\u001b[0m\u001b[0m\n\u001b[0m\u001b[1;32m      5\u001b[0m   \u001b[0;32mreturn\u001b[0m \u001b[0mdistancias\u001b[0m\u001b[0;34m\u001b[0m\u001b[0;34m\u001b[0m\u001b[0m\n",
            "\u001b[0;32m/usr/local/lib/python3.6/dist-packages/pandas/core/frame.py\u001b[0m in \u001b[0;36m__init__\u001b[0;34m(self, data, index, columns, dtype, copy)\u001b[0m\n\u001b[1;32m    433\u001b[0m                     \u001b[0;32mif\u001b[0m \u001b[0mis_named_tuple\u001b[0m\u001b[0;34m(\u001b[0m\u001b[0mdata\u001b[0m\u001b[0;34m[\u001b[0m\u001b[0;36m0\u001b[0m\u001b[0;34m]\u001b[0m\u001b[0;34m)\u001b[0m \u001b[0;32mand\u001b[0m \u001b[0mcolumns\u001b[0m \u001b[0;32mis\u001b[0m \u001b[0;32mNone\u001b[0m\u001b[0;34m:\u001b[0m\u001b[0;34m\u001b[0m\u001b[0;34m\u001b[0m\u001b[0m\n\u001b[1;32m    434\u001b[0m                         \u001b[0mcolumns\u001b[0m \u001b[0;34m=\u001b[0m \u001b[0mdata\u001b[0m\u001b[0;34m[\u001b[0m\u001b[0;36m0\u001b[0m\u001b[0;34m]\u001b[0m\u001b[0;34m.\u001b[0m\u001b[0m_fields\u001b[0m\u001b[0;34m\u001b[0m\u001b[0;34m\u001b[0m\u001b[0m\n\u001b[0;32m--> 435\u001b[0;31m                     \u001b[0marrays\u001b[0m\u001b[0;34m,\u001b[0m \u001b[0mcolumns\u001b[0m \u001b[0;34m=\u001b[0m \u001b[0mto_arrays\u001b[0m\u001b[0;34m(\u001b[0m\u001b[0mdata\u001b[0m\u001b[0;34m,\u001b[0m \u001b[0mcolumns\u001b[0m\u001b[0;34m,\u001b[0m \u001b[0mdtype\u001b[0m\u001b[0;34m=\u001b[0m\u001b[0mdtype\u001b[0m\u001b[0;34m)\u001b[0m\u001b[0;34m\u001b[0m\u001b[0;34m\u001b[0m\u001b[0m\n\u001b[0m\u001b[1;32m    436\u001b[0m                     \u001b[0mcolumns\u001b[0m \u001b[0;34m=\u001b[0m \u001b[0mensure_index\u001b[0m\u001b[0;34m(\u001b[0m\u001b[0mcolumns\u001b[0m\u001b[0;34m)\u001b[0m\u001b[0;34m\u001b[0m\u001b[0;34m\u001b[0m\u001b[0m\n\u001b[1;32m    437\u001b[0m \u001b[0;34m\u001b[0m\u001b[0m\n",
            "\u001b[0;32m/usr/local/lib/python3.6/dist-packages/pandas/core/internals/construction.py\u001b[0m in \u001b[0;36mto_arrays\u001b[0;34m(data, columns, coerce_float, dtype)\u001b[0m\n\u001b[1;32m    402\u001b[0m     \u001b[0;32mif\u001b[0m \u001b[0misinstance\u001b[0m\u001b[0;34m(\u001b[0m\u001b[0mdata\u001b[0m\u001b[0;34m[\u001b[0m\u001b[0;36m0\u001b[0m\u001b[0;34m]\u001b[0m\u001b[0;34m,\u001b[0m \u001b[0;34m(\u001b[0m\u001b[0mlist\u001b[0m\u001b[0;34m,\u001b[0m \u001b[0mtuple\u001b[0m\u001b[0;34m)\u001b[0m\u001b[0;34m)\u001b[0m\u001b[0;34m:\u001b[0m\u001b[0;34m\u001b[0m\u001b[0;34m\u001b[0m\u001b[0m\n\u001b[1;32m    403\u001b[0m         return _list_to_arrays(data, columns, coerce_float=coerce_float,\n\u001b[0;32m--> 404\u001b[0;31m                                dtype=dtype)\n\u001b[0m\u001b[1;32m    405\u001b[0m     \u001b[0;32melif\u001b[0m \u001b[0misinstance\u001b[0m\u001b[0;34m(\u001b[0m\u001b[0mdata\u001b[0m\u001b[0;34m[\u001b[0m\u001b[0;36m0\u001b[0m\u001b[0;34m]\u001b[0m\u001b[0;34m,\u001b[0m \u001b[0mcompat\u001b[0m\u001b[0;34m.\u001b[0m\u001b[0mMapping\u001b[0m\u001b[0;34m)\u001b[0m\u001b[0;34m:\u001b[0m\u001b[0;34m\u001b[0m\u001b[0;34m\u001b[0m\u001b[0m\n\u001b[1;32m    406\u001b[0m         return _list_of_dict_to_arrays(data, columns,\n",
            "\u001b[0;32m/usr/local/lib/python3.6/dist-packages/pandas/core/internals/construction.py\u001b[0m in \u001b[0;36m_list_to_arrays\u001b[0;34m(data, columns, coerce_float, dtype)\u001b[0m\n\u001b[1;32m    432\u001b[0m     \u001b[0;32melse\u001b[0m\u001b[0;34m:\u001b[0m\u001b[0;34m\u001b[0m\u001b[0;34m\u001b[0m\u001b[0m\n\u001b[1;32m    433\u001b[0m         \u001b[0;31m# list of lists\u001b[0m\u001b[0;34m\u001b[0m\u001b[0;34m\u001b[0m\u001b[0;34m\u001b[0m\u001b[0m\n\u001b[0;32m--> 434\u001b[0;31m         \u001b[0mcontent\u001b[0m \u001b[0;34m=\u001b[0m \u001b[0mlist\u001b[0m\u001b[0;34m(\u001b[0m\u001b[0mlib\u001b[0m\u001b[0;34m.\u001b[0m\u001b[0mto_object_array\u001b[0m\u001b[0;34m(\u001b[0m\u001b[0mdata\u001b[0m\u001b[0;34m)\u001b[0m\u001b[0;34m.\u001b[0m\u001b[0mT\u001b[0m\u001b[0;34m)\u001b[0m\u001b[0;34m\u001b[0m\u001b[0;34m\u001b[0m\u001b[0m\n\u001b[0m\u001b[1;32m    435\u001b[0m     return _convert_object_array(content, columns, dtype=dtype,\n\u001b[1;32m    436\u001b[0m                                  coerce_float=coerce_float)\n",
            "\u001b[0;32mpandas/_libs/lib.pyx\u001b[0m in \u001b[0;36mpandas._libs.lib.to_object_array\u001b[0;34m()\u001b[0m\n",
            "\u001b[0;31mTypeError\u001b[0m: object of type 'NoneType' has no len()"
          ]
        }
      ]
    },
    {
      "cell_type": "markdown",
      "metadata": {
        "id": "31idAJYBU52s",
        "colab_type": "text"
      },
      "source": [
        "# 6° Tentativa de Recomendação\n",
        "**Filmes similares da pessoa mais próxima**"
      ]
    },
    {
      "cell_type": "code",
      "metadata": {
        "id": "S_U8svZHc85k",
        "colab_type": "code",
        "colab": {}
      },
      "source": [
        "# função para achar usuários com notas mais próximas, passando a quantidade de usuários que é para ser analisado\n",
        "def mais_proximos(usuario, num_usuarios = None):\n",
        "  distancias = distancia_todos(usuario, num_usuarios = num_usuarios)\n",
        "  distancias = distancias.sort_values('Distância')  # coloca em ordem crescente\n",
        "  distancias = distancias.set_index('Todos_Usuários').drop(usuario)  # coloca a coluna de todos os usuarios como índice e retira a 1° linha para não comparar com o proprio usuario\n",
        "  return distancias"
      ],
      "execution_count": 0,
      "outputs": []
    },
    {
      "cell_type": "code",
      "metadata": {
        "id": "tvSRu3-tg9UZ",
        "colab_type": "code",
        "colab": {}
      },
      "source": [
        "def distancia_todos(usuario, num_usuarios = None):\n",
        "  todos_usuarios = notas['Id_Usuário'].unique()   # método unique para receber todos os usuários do DF\n",
        "  if num_usuarios:\n",
        "    todos_usuarios = todos_usuarios[:num_usuarios]   # para percorrer até o número desejado de usuários\n",
        "    \n",
        "  distancias = [distancia_usuarios(usuario, usuario_id) for usuario_id in todos_usuarios] # um loop para percorrer cada usuario\n",
        "  distancias = list(filter(None,distancias))    # para filtrar os usuários que possuem muito pouco em comum\n",
        "  distancias = pd.DataFrame(distancias, columns = ['Usuário_Escolhido','Todos_Usuários','Distância'])  # transforma a variável distancias em uma DF para poder maniupala-la melhor  \n",
        "  return distancias"
      ],
      "execution_count": 0,
      "outputs": []
    },
    {
      "cell_type": "code",
      "metadata": {
        "id": "xA0KTIQkW_QK",
        "colab_type": "code",
        "colab": {}
      },
      "source": [
        "# função que recomenda baseado no que a pessoa mais similar a ela viu\n",
        "def recomendar(usuario, num_usuarios = None):\n",
        "  notas_usuario_escolhido = notas_usuario(usuario)  # pega as notas do usuario escolhido\n",
        "  filmes_vistos = notas_usuario_escolhido.index     # extrai os filmes ja vistos por ele\n",
        "\n",
        "\n",
        "  similares = mais_proximos(usuario, num_usuarios = num_usuarios) # pega os usuarios mais similares\n",
        "  similar = similares.iloc[0].name  # pega o índice (name) da primeira linha(iloc), para selecionar o usuário mais similar\n",
        "  notas_similar = notas_usuario(similar)  # extrai as notas do usuario mais similiar\n",
        "  notas_similar = notas_similar.drop(filmes_vistos, errors = 'ignore')  # retira os filmes ja vistos pelo usuario escolhido\n",
        "  recomendacao = notas_similar.sort_values('Nota', ascending = False).join(filmes)  # ordena de acordo com as notas que a pessoa similar deu, e junta com o DF de filmes(1° criado)\n",
        "  return recomendacao"
      ],
      "execution_count": 0,
      "outputs": []
    },
    {
      "cell_type": "code",
      "metadata": {
        "id": "MwCLeKmQXFVc",
        "colab_type": "code",
        "colab": {}
      },
      "source": [
        "recomendar(1).head()"
      ],
      "execution_count": 0,
      "outputs": []
    },
    {
      "cell_type": "markdown",
      "metadata": {
        "id": "JmvVsPqPlF3v",
        "colab_type": "text"
      },
      "source": [
        "# 7° Tentativa de Recomendação\n",
        "**Filmes similares DAS PESSOAS mais próximas**"
      ]
    },
    {
      "cell_type": "code",
      "metadata": {
        "id": "S5QWlrbKPVjP",
        "colab_type": "code",
        "colab": {}
      },
      "source": [
        "# praticamente igual a função mais_proximos porem com o nome mais usual(também conhecido como KNN), além de passar a quantidade de usuários mais próximos\n",
        "def k_nearest_neighbors(usuario, k_mais_proximos = 10 ,num_usuarios = None):\n",
        "  distancias = distancia_todos(usuario, num_usuarios = num_usuarios)\n",
        "  distancias = distancias.sort_values('Distância')  # coloca em ordem crescente\n",
        "  distancias = distancias.set_index('Todos_Usuários').drop(usuario)  # coloca a coluna de todos os usuarios como índice e retira a 1° linha para não comparar com o proprio usuario\n",
        "  return distancias.head(k_mais_proximos)"
      ],
      "execution_count": 0,
      "outputs": []
    },
    {
      "cell_type": "code",
      "metadata": {
        "id": "DCeXdw7Xijge",
        "colab_type": "code",
        "colab": {}
      },
      "source": [
        "# função que recomenda baseado no que as pessoas mais similares a ela viram\n",
        "def recomendam(usuario, k_mais_proximos = 10, num_usuarios = None):\n",
        "  notas_usuario_escolhido = notas_usuario(usuario)  # pega as notas do usuario escolhido\n",
        "  filmes_vistos = notas_usuario_escolhido.index     # extrai os filmes ja vistos por ele\n",
        "\n",
        "  similares = k_nearest_neighbors(usuario, k_mais_proximos = k_mais_proximos , num_usuarios = num_usuarios) # pega os usuarios mais similares\n",
        "  usuarios_similares = similares.index   # pega o índice dos usuários mais similares\n",
        "  notas_similares = notas.set_index('Id_Usuário').loc[usuarios_similares]  # dentro do Id_Usuario, do DF notas, localizar os usuários similares \n",
        "  recomendacao = notas_similares.groupby('Id_Filme').mean()[['Nota']]  # agrupa pelos filmes e retorna a média das notas dos usuários similares, usando dois colchetes para retornar um DF\n",
        "  recomendacao = recomendacao.sort_values('Nota', ascending = False).join(filmes) \n",
        "  return recomendacao"
      ],
      "execution_count": 0,
      "outputs": []
    },
    {
      "cell_type": "code",
      "metadata": {
        "id": "-JQWRUoqRKTL",
        "colab_type": "code",
        "colab": {}
      },
      "source": [
        "recomendam(1).head()"
      ],
      "execution_count": 0,
      "outputs": []
    },
    {
      "cell_type": "markdown",
      "metadata": {
        "id": "Gjmi8ilUN34e",
        "colab_type": "text"
      },
      "source": [
        "# Testar um Novo Usuário"
      ]
    },
    {
      "cell_type": "code",
      "metadata": {
        "id": "3ZULUQdFZYJF",
        "colab_type": "code",
        "colab": {}
      },
      "source": [
        "# função para adicionar um novo usuário (com filmes e notas dadas) no DataFrame notas\n",
        "def novo_usuario(dados):\n",
        "  novo_usuario = notas['Id_Usuário'].max()+1   # cria o Id do novo usuário, que será o último Id existente + 1\n",
        "  notas_novo_usuario = pd.DataFrame(dados,columns = ['Id_Filme','Nota'])  # cria um DF com os filmes e notas do novo usuário  \n",
        "  notas_novo_usuario['Id_Usuário'] = novo_usuario   # adiciona o Id criado as notas e filmes dele\n",
        "  return pd.concat([notas,notas_novo_usuario], sort=True)   # junta o DF das notas do usuario novo ao DF de notas, entre colchetes pois recebe uma lista"
      ],
      "execution_count": 0,
      "outputs": []
    },
    {
      "cell_type": "code",
      "metadata": {
        "id": "cvI2Sd_3ZY36",
        "colab_type": "code",
        "colab": {}
      },
      "source": [
        "notas = novo_usuario([[58559,2],[33794,2],[5349,2],[8636,2],[1704,5]])\n",
        "notas.tail(10)"
      ],
      "execution_count": 0,
      "outputs": []
    },
    {
      "cell_type": "code",
      "metadata": {
        "id": "RAPjbuOUTcTY",
        "colab_type": "code",
        "colab": {}
      },
      "source": [
        "recomendam(612).head()"
      ],
      "execution_count": 0,
      "outputs": []
    },
    {
      "cell_type": "markdown",
      "metadata": {
        "id": "DwKjbel7WFON",
        "colab_type": "text"
      },
      "source": [
        "# Filtragem\n",
        "**KNN para Filmes com Mais de 50 Votos**"
      ]
    },
    {
      "cell_type": "code",
      "metadata": {
        "id": "m49ryvDkaHgV",
        "colab_type": "code",
        "colab": {}
      },
      "source": [
        "notas = notas.set_index('Id_Filme').loc[filmes_mais_50_votos.index]   # substitui o índice para ser Id_Filme\n",
        "notas.head()"
      ],
      "execution_count": 0,
      "outputs": []
    },
    {
      "cell_type": "code",
      "metadata": {
        "id": "Nfk3RpUJXZfF",
        "colab_type": "code",
        "colab": {}
      },
      "source": [
        "notas = notas.reset_index()    # reseta o índice\n",
        "notas.head()"
      ],
      "execution_count": 0,
      "outputs": []
    },
    {
      "cell_type": "markdown",
      "metadata": {
        "id": "KJywMVPbcq87",
        "colab_type": "text"
      },
      "source": [
        "**Mínimo de usuários com recomendações**"
      ]
    },
    {
      "cell_type": "code",
      "metadata": {
        "id": "rP3QM-6ydT5y",
        "colab_type": "code",
        "colab": {}
      },
      "source": [
        "def k_nearest_neighbors(usuario, k_mais_proximos = 10 ,num_usuarios = None):\n",
        "  distancias = distancia_todos(usuario, num_usuarios = num_usuarios)\n",
        "  distancias = distancias.sort_values('Distância')  \n",
        "  distancias = distancias.set_index('Todos_Usuários').drop(usuario, errors = 'ignore')    # adiciona o 'errors = 'ignore'' \n",
        "  return distancias.head(k_mais_proximos)"
      ],
      "execution_count": 0,
      "outputs": []
    },
    {
      "cell_type": "code",
      "metadata": {
        "id": "0IymclWwYS2e",
        "colab_type": "code",
        "colab": {}
      },
      "source": [
        "def recomendam(usuario, k_mais_proximos = 10, num_usuarios = None):\n",
        "  notas_usuario_escolhido = notas_usuario(usuario) \n",
        "  filmes_vistos = notas_usuario_escolhido.index     \n",
        "\n",
        "  similares = k_nearest_neighbors(usuario, k_mais_proximos = k_mais_proximos , num_usuarios = num_usuarios)\n",
        "  usuarios_similares = similares.index\n",
        "  notas_similares = notas.set_index('Id_Usuário').loc[usuarios_similares]\n",
        "  recomendacao = notas_similares.groupby('Id_Filme').mean()[['Nota']]\n",
        "  aparicoes = notas_similares.groupby('Id_Filme').count()[['Nota']]   # conta o número de vezes que cada filme é votado pelos usuários similares e transforma aparicoes em DF\n",
        "  \n",
        "  filtro_minimo = k_mais_proximos/2   # 5\n",
        "  recomendacao = recomendacao.join(aparicoes, lsuffix = '_Média_Usuários', rsuffix = '_Aparições_Usuários')   # junta a recomendacao com a aparições passando sufixos para diferenciar as colunas das notas\n",
        "  recomendacao = recomendacao.query(\"Nota_Aparições_Usuários >= %.2f\" %filtro_minimo)  # Logo filtra aparições menores do que 5\n",
        "  recomendacao = recomendacao.sort_values('Nota_Média_Usuários', ascending = False).join(filmes)   # atualizar Nota para Nota_Média_Usuários\n",
        "  recomendacao = recomendacao.drop(filmes_vistos,errors = 'ignore')  # para retirar filmes ja vistos\n",
        "  return recomendacao"
      ],
      "execution_count": 0,
      "outputs": []
    },
    {
      "cell_type": "code",
      "metadata": {
        "id": "BrsfCDItdCUb",
        "colab_type": "code",
        "colab": {}
      },
      "source": [
        "ecomendam(612).head()"
      ],
      "execution_count": 0,
      "outputs": []
    },
    {
      "cell_type": "code",
      "metadata": {
        "id": "c3SspNi5dgpP",
        "colab_type": "code",
        "colab": {}
      },
      "source": [
        "recomendam(612, k_mais_proximos = 20).head()"
      ],
      "execution_count": 0,
      "outputs": []
    },
    {
      "cell_type": "code",
      "metadata": {
        "id": "MfzDJTCXjuWR",
        "colab_type": "code",
        "colab": {}
      },
      "source": [
        "recomendam(1).head()"
      ],
      "execution_count": 0,
      "outputs": []
    },
    {
      "cell_type": "code",
      "metadata": {
        "id": "m5ZvNB7JoVM5",
        "colab_type": "code",
        "colab": {}
      },
      "source": [
        ""
      ],
      "execution_count": 0,
      "outputs": []
    }
  ]
}