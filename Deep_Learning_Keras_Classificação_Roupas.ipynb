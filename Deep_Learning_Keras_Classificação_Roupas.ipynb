{
  "nbformat": 4,
  "nbformat_minor": 0,
  "metadata": {
    "colab": {
      "name": "Deep Learning_Keras_Classificação_Roupas",
      "version": "0.3.2",
      "provenance": [],
      "include_colab_link": true
    },
    "kernelspec": {
      "name": "python3",
      "display_name": "Python 3"
    }
  },
  "cells": [
    {
      "cell_type": "markdown",
      "metadata": {
        "id": "view-in-github",
        "colab_type": "text"
      },
      "source": [
        "<a href=\"https://colab.research.google.com/github/paulovbpo/deep_learning_keras/blob/master/Deep_Learning_Keras_Classifica%C3%A7%C3%A3o_Roupas.ipynb\" target=\"_parent\"><img src=\"https://colab.research.google.com/assets/colab-badge.svg\" alt=\"Open In Colab\"/></a>"
      ]
    },
    {
      "cell_type": "markdown",
      "metadata": {
        "id": "Eq9xgCWvge78",
        "colab_type": "text"
      },
      "source": [
        "# Importando as bibliotecas"
      ]
    },
    {
      "cell_type": "code",
      "metadata": {
        "id": "7BpDI9VetGA1",
        "colab_type": "code",
        "colab": {}
      },
      "source": [
        "import tensorflow\n",
        "from tensorflow import keras\n",
        "import matplotlib.pyplot as plt\n",
        "import numpy as np\n",
        "from tensorflow.keras.models import load_model"
      ],
      "execution_count": 0,
      "outputs": []
    },
    {
      "cell_type": "markdown",
      "metadata": {
        "id": "gIn0tfrlgq5M",
        "colab_type": "text"
      },
      "source": [
        "# Carregando o dataset"
      ]
    },
    {
      "cell_type": "code",
      "metadata": {
        "id": "xAQMBfvKfvLc",
        "colab_type": "code",
        "colab": {}
      },
      "source": [
        "dataset = keras.datasets.fashion_mnist\n",
        "((x_treino, y_treino),(x_teste,y_teste)) = dataset.load_data()"
      ],
      "execution_count": 0,
      "outputs": []
    },
    {
      "cell_type": "markdown",
      "metadata": {
        "id": "FqtUdPlKgu7k",
        "colab_type": "text"
      },
      "source": [
        "# Exploração dos dados\n"
      ]
    },
    {
      "cell_type": "code",
      "metadata": {
        "id": "wzOdapxZfYIC",
        "colab_type": "code",
        "outputId": "d40ecfed-e5cf-4ff2-eb92-ed65fd133c63",
        "colab": {
          "base_uri": "https://localhost:8080/",
          "height": 34
        }
      },
      "source": [
        "len(x_treino)\n",
        "len(x_teste)\n",
        "x_treino.shape   #retorna a quantidade de elementos(imagens) da tupla, o numero de colunas, e o numero de linhas.\n",
        "y_treino.min()\n",
        "y_treino.max()"
      ],
      "execution_count": 0,
      "outputs": [
        {
          "output_type": "execute_result",
          "data": {
            "text/plain": [
              "9"
            ]
          },
          "metadata": {
            "tags": []
          },
          "execution_count": 32
        }
      ]
    },
    {
      "cell_type": "markdown",
      "metadata": {
        "id": "pgvsp4I-g4Ss",
        "colab_type": "text"
      },
      "source": [
        "# Exibição dos dados"
      ]
    },
    {
      "cell_type": "code",
      "metadata": {
        "id": "75IoYkFDusgm",
        "colab_type": "code",
        "outputId": "40ba20a2-1839-4b80-c906-c8de43ab9978",
        "colab": {
          "base_uri": "https://localhost:8080/",
          "height": 240
        }
      },
      "source": [
        "total_classificacoes = 10\n",
        "nomes_classificacao = ['camiseta', 'calça', 'pullover', 'vestido', 'casaco', 'sandália', 'camisa', 'tênis', 'bolsa', 'bota']\n",
        "\n",
        "for imagem in range(10):\n",
        "  plt.subplot(2,5, imagem+1)\n",
        "  plt.imshow(x_treino[imagem])\n",
        "  plt.title(nomes_classificacao[y_treino[imagem]])"
      ],
      "execution_count": 0,
      "outputs": [
        {
          "output_type": "display_data",
          "data": {
            "image/png": "[encoded data removed]",
            "text/plain": [
              "<Figure size 432x288 with 10 Axes>"
            ]
          },
          "metadata": {
            "tags": []
          }
        }
      ]
    },
    {
      "cell_type": "code",
      "metadata": {
        "id": "YQjcdu0dCHvG",
        "colab_type": "code",
        "outputId": "9f4083e4-89bb-41ee-80b0-a72b212fed62",
        "colab": {
          "base_uri": "https://localhost:8080/",
          "height": 286
        }
      },
      "source": [
        "plt.imshow(x_treino[0])\n",
        "plt.colorbar()   # mostra a gradação das cores de 0 a 255 pixels"
      ],
      "execution_count": 0,
      "outputs": [
        {
          "output_type": "execute_result",
          "data": {
            "text/plain": [
              "<matplotlib.colorbar.Colorbar at 0x7f9a591c57b8>"
            ]
          },
          "metadata": {
            "tags": []
          },
          "execution_count": 34
        },
        {
          "output_type": "display_data",
          "data": {
            "image/png": "[encoded data removed]",
            "text/plain": [
              "<Figure size 432x288 with 2 Axes>"
            ]
          },
          "metadata": {
            "tags": []
          }
        }
      ]
    },
    {
      "cell_type": "markdown",
      "metadata": {
        "id": "THE3jBcNW5ak",
        "colab_type": "text"
      },
      "source": [
        "# Normalização"
      ]
    },
    {
      "cell_type": "code",
      "metadata": {
        "id": "24xT2BYGW4sG",
        "colab_type": "code",
        "colab": {}
      },
      "source": [
        "x_treino = x_treino/float(255)  # em vez de passar 256 valores, passa valores decimais de 0 a 1"
      ],
      "execution_count": 0,
      "outputs": []
    },
    {
      "cell_type": "markdown",
      "metadata": {
        "id": "n4ZO2kc7s2-q",
        "colab_type": "text"
      },
      "source": [
        "# Criando, Compilando e Treinando o modelo da RNA"
      ]
    },
    {
      "cell_type": "code",
      "metadata": {
        "id": "-W2UQMAfdODC",
        "colab_type": "code",
        "outputId": "d1a14f11-eb9e-4838-96e9-08393e915780",
        "colab": {
          "base_uri": "https://localhost:8080/",
          "height": 204
        }
      },
      "source": [
        "# é usual contar o número de camadas sem levar em conta a de entrada, logo esse modelo teria 3 camadas apenas.\n",
        "# ao tentar aumentar o numero de camadas ocultas aumentou o numero de perda(loss)\n",
        "modelo = keras.Sequential([\n",
        "                          keras.layers.Flatten(input_shape=(28,28)), # camada de entrada que achata os 28x28 pixels das imagens em uma array de 784 pixels\n",
        "                          keras.layers.Dense(256, activation = tensorflow.nn.relu),  # 1° camada oculta com 256 neurônios, passando uma função de ativação ReLU (uma função não linear)\n",
        "                          keras.layers.Dropout(0.2), # 2° camada oculta, deixa 'adormecido' uma porcentagem de neurônios da camada oculta, serve para normalizar\n",
        "                          keras.layers.Dense(10, activation = tensorflow.nn.softmax) # camada de saída, com 10 neurônios que é equivalente ao total de classificações, e softmax como função de ativação\n",
        "])\n",
        "\n",
        "# compilando\n",
        "modelo.compile(optimizer='adam',loss='sparse_categorical_crossentropy', metrics = ['accuracy']) # define os algoritmos do otimizador, do calculo do erro (perda), e da metrica de acerto.\n",
        "\n",
        "# treinando \n",
        "historico = modelo.fit(x_treino, y_treino, epochs = 5, validation_split = 0.2) # treina, define o numero de épocas, e separa 20% para validação"
      ],
      "execution_count": 0,
      "outputs": [
        {
          "output_type": "stream",
          "text": [
            "Train on 48000 samples, validate on 12000 samples\n",
            "Epoch 1/5\n",
            "48000/48000 [==============================] - 5s 96us/sample - loss: 0.5301 - acc: 0.8126 - val_loss: 0.4216 - val_acc: 0.8480\n",
            "Epoch 2/5\n",
            "48000/48000 [==============================] - 5s 94us/sample - loss: 0.3972 - acc: 0.8555 - val_loss: 0.3732 - val_acc: 0.8581\n",
            "Epoch 3/5\n",
            "48000/48000 [==============================] - 4s 94us/sample - loss: 0.3606 - acc: 0.8670 - val_loss: 0.3591 - val_acc: 0.8692\n",
            "Epoch 4/5\n",
            "48000/48000 [==============================] - 4s 92us/sample - loss: 0.3396 - acc: 0.8738 - val_loss: 0.3475 - val_acc: 0.8740\n",
            "Epoch 5/5\n",
            "48000/48000 [==============================] - 4s 92us/sample - loss: 0.3238 - acc: 0.8789 - val_loss: 0.3305 - val_acc: 0.8794\n"
          ],
          "name": "stdout"
        }
      ]
    },
    {
      "cell_type": "markdown",
      "metadata": {
        "id": "BvFn8ZS1TtDB",
        "colab_type": "text"
      },
      "source": [
        "# Salvando e Carregando o Modelo"
      ]
    },
    {
      "cell_type": "code",
      "metadata": {
        "id": "rKKVYQEKTr-1",
        "colab_type": "code",
        "colab": {}
      },
      "source": [
        "modelo.save('rna_alura.h5')  # salvar no formato h5\n",
        "modelo_salvo = load_model('rna_alura.h5')"
      ],
      "execution_count": 0,
      "outputs": []
    },
    {
      "cell_type": "markdown",
      "metadata": {
        "id": "Vhynp0HXOCe-",
        "colab_type": "text"
      },
      "source": [
        "# Gráfico do Histórico da Acurácia"
      ]
    },
    {
      "cell_type": "code",
      "metadata": {
        "id": "HLS-lANaL8HH",
        "colab_type": "code",
        "outputId": "a4bbba43-cd43-41d4-a9c3-0294755c0983",
        "colab": {
          "base_uri": "https://localhost:8080/",
          "height": 316
        }
      },
      "source": [
        "plt.plot(historico.history['acc'])\n",
        "plt.plot(historico.history['val_acc'])\n",
        "plt.title('Acurácia por Épocas')\n",
        "plt.xlabel('Épocas')\n",
        "plt.ylabel('Acurácia')\n",
        "plt.legend(['Treino','Validação'])"
      ],
      "execution_count": 0,
      "outputs": [
        {
          "output_type": "execute_result",
          "data": {
            "text/plain": [
              "<matplotlib.legend.Legend at 0x7f9a585130f0>"
            ]
          },
          "metadata": {
            "tags": []
          },
          "execution_count": 37
        },
        {
          "output_type": "display_data",
          "data": {
            "image/png": "[encoded data removed]",
            "text/plain": [
              "<Figure size 432x288 with 1 Axes>"
            ]
          },
          "metadata": {
            "tags": []
          }
        }
      ]
    },
    {
      "cell_type": "markdown",
      "metadata": {
        "id": "F94uDElvOMEd",
        "colab_type": "text"
      },
      "source": [
        "# Gráfico do Histórico da Perda"
      ]
    },
    {
      "cell_type": "code",
      "metadata": {
        "id": "Ba2PQ9B0OL1m",
        "colab_type": "code",
        "outputId": "f22c26b2-89cd-42d3-d8fd-e82e8ab9febb",
        "colab": {
          "base_uri": "https://localhost:8080/",
          "height": 316
        }
      },
      "source": [
        "plt.plot(historico.history['loss'])\n",
        "plt.plot(historico.history['val_loss'])\n",
        "plt.title('Perda por Épocas')\n",
        "plt.xlabel('Épocas')\n",
        "plt.ylabel('Perda')\n",
        "plt.legend(['Treino','Validação'])"
      ],
      "execution_count": 0,
      "outputs": [
        {
          "output_type": "execute_result",
          "data": {
            "text/plain": [
              "<matplotlib.legend.Legend at 0x7f9a5848cdd8>"
            ]
          },
          "metadata": {
            "tags": []
          },
          "execution_count": 38
        },
        {
          "output_type": "display_data",
          "data": {
            "image/png": "[encoded data removed]",
            "text/plain": [
              "<Figure size 432x288 with 1 Axes>"
            ]
          },
          "metadata": {
            "tags": []
          }
        }
      ]
    },
    {
      "cell_type": "markdown",
      "metadata": {
        "id": "dj3Bz7cntcHe",
        "colab_type": "text"
      },
      "source": [
        "# Testando o Modelo"
      ]
    },
    {
      "cell_type": "code",
      "metadata": {
        "id": "ekvkdm14tQQV",
        "colab_type": "code",
        "outputId": "6e420775-434c-4c51-fa03-306409987622",
        "colab": {
          "base_uri": "https://localhost:8080/",
          "height": 51
        }
      },
      "source": [
        "testes = modelo.predict(x_teste)\n",
        "modelo.evaluate(x_teste,y_teste)\n"
      ],
      "execution_count": 0,
      "outputs": [
        {
          "output_type": "stream",
          "text": [
            "10000/10000 [==============================] - 0s 37us/sample - loss: 58.7081 - acc: 0.8475\n"
          ],
          "name": "stdout"
        },
        {
          "output_type": "execute_result",
          "data": {
            "text/plain": [
              "[58.70809483823776, 0.8475]"
            ]
          },
          "metadata": {
            "tags": []
          },
          "execution_count": 39
        }
      ]
    },
    {
      "cell_type": "code",
      "metadata": {
        "id": "CHmJt1JvuYbX",
        "colab_type": "code",
        "colab": {}
      },
      "source": [
        ""
      ],
      "execution_count": 0,
      "outputs": []
    }
  ]
}