{
  "nbformat": 4,
  "nbformat_minor": 0,
  "metadata": {
    "colab": {
      "name": "Deep Learning_Keras_Classificação_Roupas",
      "provenance": [],
      "include_colab_link": true
    },
    "kernelspec": {
      "name": "python3",
      "display_name": "Python 3"
    }
  },
  "cells": [
    {
      "cell_type": "markdown",
      "metadata": {
        "id": "view-in-github",
        "colab_type": "text"
      },
      "source": [
        "<a href=\"https://colab.research.google.com/github/paulovbpo/deep_learning_keras/blob/master/Deep_Learning_Keras_Classifica%C3%A7%C3%A3o_Roupas.ipynb\" target=\"_parent\"><img src=\"https://colab.research.google.com/assets/colab-badge.svg\" alt=\"Open In Colab\"/></a>"
      ]
    },
    {
      "cell_type": "markdown",
      "metadata": {
        "id": "Eq9xgCWvge78",
        "colab_type": "text"
      },
      "source": [
        "# Importando as bibliotecas"
      ]
    },
    {
      "cell_type": "code",
      "metadata": {
        "id": "7BpDI9VetGA1",
        "colab_type": "code",
        "colab": {}
      },
      "source": [
        "import tensorflow\n",
        "from tensorflow import keras\n",
        "import matplotlib.pyplot as plt\n",
        "import numpy as np\n",
        "from tensorflow.keras.models import load_model"
      ],
      "execution_count": 0,
      "outputs": []
    },
    {
      "cell_type": "markdown",
      "metadata": {
        "id": "gIn0tfrlgq5M",
        "colab_type": "text"
      },
      "source": [
        "# Carregando o dataset"
      ]
    },
    {
      "cell_type": "code",
      "metadata": {
        "id": "xAQMBfvKfvLc",
        "colab_type": "code",
        "colab": {
          "base_uri": "https://localhost:8080/",
          "height": 0
        },
        "outputId": "de370ba6-6842-4ff8-f707-20859a6b5638"
      },
      "source": [
        "dataset = keras.datasets.fashion_mnist\n",
        "((x_treino, y_treino),(x_teste,y_teste)) = dataset.load_data()"
      ],
      "execution_count": 2,
      "outputs": [
        {
          "output_type": "stream",
          "text": [
            "Downloading data from https://storage.googleapis.com/tensorflow/tf-keras-datasets/train-labels-idx1-ubyte.gz\n",
            "32768/29515 [=================================] - 0s 0us/step\n",
            "Downloading data from https://storage.googleapis.com/tensorflow/tf-keras-datasets/train-images-idx3-ubyte.gz\n",
            "26427392/26421880 [==============================] - 1s 0us/step\n",
            "Downloading data from https://storage.googleapis.com/tensorflow/tf-keras-datasets/t10k-labels-idx1-ubyte.gz\n",
            "8192/5148 [===============================================] - 0s 0us/step\n",
            "Downloading data from https://storage.googleapis.com/tensorflow/tf-keras-datasets/t10k-images-idx3-ubyte.gz\n",
            "4423680/4422102 [==============================] - 1s 0us/step\n"
          ],
          "name": "stdout"
        }
      ]
    },
    {
      "cell_type": "markdown",
      "metadata": {
        "id": "FqtUdPlKgu7k",
        "colab_type": "text"
      },
      "source": [
        "# Exploração dos dados\n"
      ]
    },
    {
      "cell_type": "code",
      "metadata": {
        "id": "wzOdapxZfYIC",
        "colab_type": "code",
        "outputId": "eec309a9-f510-4c68-c1e2-44a7828a6772",
        "colab": {
          "base_uri": "https://localhost:8080/",
          "height": 0
        }
      },
      "source": [
        "len(x_treino)\n",
        "len(x_teste)\n",
        "x_treino.shape   #retorna a quantidade de elementos(imagens) da tupla, o numero de colunas, e o numero de linhas.\n",
        "y_treino.min()\n",
        "y_treino.max()"
      ],
      "execution_count": 3,
      "outputs": [
        {
          "output_type": "execute_result",
          "data": {
            "text/plain": [
              "9"
            ]
          },
          "metadata": {
            "tags": []
          },
          "execution_count": 3
        }
      ]
    },
    {
      "cell_type": "markdown",
      "metadata": {
        "id": "pgvsp4I-g4Ss",
        "colab_type": "text"
      },
      "source": [
        "# Exibição dos dados"
      ]
    },
    {
      "cell_type": "code",
      "metadata": {
        "id": "75IoYkFDusgm",
        "colab_type": "code",
        "outputId": "5517ceed-b6fc-4bfa-bf96-0b76e523dc5b",
        "colab": {
          "base_uri": "https://localhost:8080/",
          "height": 0
        }
      },
      "source": [
        "total_classificacoes = 10\n",
        "nomes_classificacao = ['camiseta', 'calça', 'pullover', 'vestido', 'casaco', 'sandália', 'camisa', 'tênis', 'bolsa', 'bota']\n",
        "\n",
        "for imagem in range(10):\n",
        "  plt.subplot(2,5, imagem+1)\n",
        "  plt.imshow(x_treino[imagem])\n",
        "  plt.title(nomes_classificacao[y_treino[imagem]])"
      ],
      "execution_count": 4,
      "outputs": [
        {
          "output_type": "display_data",
          "data": {
            "image/png": "[encoded data removed]",
            "text/plain": [
              "<Figure size 432x288 with 10 Axes>"
            ]
          },
          "metadata": {
            "tags": []
          }
        }
      ]
    },
    {
      "cell_type": "code",
      "metadata": {
        "id": "YQjcdu0dCHvG",
        "colab_type": "code",
        "outputId": "dc57b7aa-6c62-4b28-cfbf-06878ce41eaf",
        "colab": {
          "base_uri": "https://localhost:8080/",
          "height": 0
        }
      },
      "source": [
        "plt.imshow(x_treino[0])\n",
        "plt.colorbar()   # mostra a gradação das cores de 0 a 255 pixels"
      ],
      "execution_count": 5,
      "outputs": [
        {
          "output_type": "execute_result",
          "data": {
            "text/plain": [
              "<matplotlib.colorbar.Colorbar at 0x7f1ccc506080>"
            ]
          },
          "metadata": {
            "tags": []
          },
          "execution_count": 5
        },
        {
          "output_type": "display_data",
          "data": {
            "image/png": "[encoded data removed]",
            "text/plain": [
              "<Figure size 432x288 with 2 Axes>"
            ]
          },
          "metadata": {
            "tags": []
          }
        }
      ]
    },
    {
      "cell_type": "markdown",
      "metadata": {
        "id": "THE3jBcNW5ak",
        "colab_type": "text"
      },
      "source": [
        "# Normalização"
      ]
    },
    {
      "cell_type": "code",
      "metadata": {
        "id": "24xT2BYGW4sG",
        "colab_type": "code",
        "colab": {}
      },
      "source": [
        "x_treino = x_treino/float(255)  # em vez de passar 256 valores, passa valores decimais de 0 a 1"
      ],
      "execution_count": 0,
      "outputs": []
    },
    {
      "cell_type": "markdown",
      "metadata": {
        "id": "n4ZO2kc7s2-q",
        "colab_type": "text"
      },
      "source": [
        "# Criando, Compilando e Treinando o modelo da RNA"
      ]
    },
    {
      "cell_type": "code",
      "metadata": {
        "id": "-W2UQMAfdODC",
        "colab_type": "code",
        "outputId": "a9178539-2091-4600-8303-9027ff6098b2",
        "colab": {
          "base_uri": "https://localhost:8080/",
          "height": 204
        }
      },
      "source": [
        "# é usual contar o número de camadas sem levar em conta a de entrada, logo esse modelo teria 3 camadas apenas.\n",
        "# ao tentar aumentar o numero de camadas ocultas aumentou o numero de perda(loss)\n",
        "modelo = keras.Sequential([\n",
        "                          keras.layers.Flatten(input_shape=(28,28)), # camada de entrada que achata os 28x28 pixels das imagens em uma array de 784 pixels\n",
        "                          keras.layers.Dense(256, activation = tensorflow.nn.relu),  # 1° camada oculta com 256 neurônios, passando uma função de ativação ReLU (uma função não linear)\n",
        "                          keras.layers.Dropout(0.2), # 2° camada oculta, deixa 'adormecido' uma porcentagem de neurônios da camada oculta, serve para normalizar\n",
        "                          keras.layers.Dense(10, activation = tensorflow.nn.softmax) # camada de saída, com 10 neurônios que é equivalente ao total de classificações, e softmax como função de ativação\n",
        "])\n",
        "\n",
        "#lr: learning rate - taxa de aprendizado/ o padrão é 0.001\n",
        "adam = keras.optimizers.Adam(lr = 0.002)\n",
        "# com 0.5 fica com uma perda muito alta e acurácia muito baixa\n",
        "\n",
        "# O EarlyStopping quando atinge um limite de um determinado parâmetro é parado mais cedo o treinamento, para não precisar percorrer todas as épocas\n",
        "parando_cedo = [keras.callbacks.EarlyStopping(monitor = 'val_loss'),\n",
        "                keras.callbacks.ModelCheckpoint(filepath = 'melhor_modelo_hdf5',\n",
        "                                                 modelo = 'val_loss', save_best_only = True)]\n",
        "# O ModelCheckpoint serve para salvar a configuração do melhor modelo\n",
        "\n",
        "\n",
        "# compilando\n",
        "modelo.compile(optimizer = adam, loss = 'sparse_categorical_crossentropy', metrics = ['accuracy']) # define os algoritmos do otimizador, do calculo do erro (perda), e da metrica de acerto.\n",
        "\n",
        "# treinando \n",
        "historico = modelo.fit(x_treino, y_treino, batch_size = 480, epochs = 5, validation_split = 0.2, callbacks = parando_cedo) # treina, define o numero de épocas, e separa 20% para validação\n",
        "# batch_size é quantidade de conjuntos treinados por vez, ajuda a diminuir o tempo de processamento"
      ],
      "execution_count": 39,
      "outputs": [
        {
          "output_type": "stream",
          "text": [
            "Train on 48000 samples, validate on 12000 samples\n",
            "Epoch 1/5\n",
            "48000/48000 [==============================] - 2s 51us/sample - loss: 0.6569 - acc: 0.7686 - val_loss: 0.4511 - val_acc: 0.8444\n",
            "Epoch 2/5\n",
            "48000/48000 [==============================] - 2s 35us/sample - loss: 0.4391 - acc: 0.8453 - val_loss: 0.3998 - val_acc: 0.8589\n",
            "Epoch 3/5\n",
            "48000/48000 [==============================] - 2s 35us/sample - loss: 0.3907 - acc: 0.8601 - val_loss: 0.3816 - val_acc: 0.8609\n",
            "Epoch 4/5\n",
            "48000/48000 [==============================] - 2s 35us/sample - loss: 0.3657 - acc: 0.8688 - val_loss: 0.3570 - val_acc: 0.8702\n",
            "Epoch 5/5\n",
            "48000/48000 [==============================] - 2s 35us/sample - loss: 0.3403 - acc: 0.8766 - val_loss: 0.3448 - val_acc: 0.8780\n"
          ],
          "name": "stdout"
        }
      ]
    },
    {
      "cell_type": "markdown",
      "metadata": {
        "id": "A7Vhh487F-AS",
        "colab_type": "text"
      },
      "source": [
        "**OBS: Hiperparâmetros são todos os parâmetros que se pode ajustar antes de treinar o modelo, exemplos: num de camadas, num de neurônios, lr, batch_size, épocas, etc..\n",
        "Já os parâmetros são os pesos e bias.**"
      ]
    },
    {
      "cell_type": "code",
      "metadata": {
        "id": "K9pnPt59KFO1",
        "colab_type": "code",
        "colab": {
          "base_uri": "https://localhost:8080/",
          "height": 799
        },
        "outputId": "ee2bbfd1-99f3-468e-832e-deafd39fb61f"
      },
      "source": [
        "# retorna a configuração total do modelo\n",
        "modelo.get_config()"
      ],
      "execution_count": 37,
      "outputs": [
        {
          "output_type": "execute_result",
          "data": {
            "text/plain": [
              "{'layers': [{'class_name': 'Flatten',\n",
              "   'config': {'batch_input_shape': (None, 28, 28),\n",
              "    'data_format': 'channels_last',\n",
              "    'dtype': 'float32',\n",
              "    'name': 'flatten_6',\n",
              "    'trainable': True}},\n",
              "  {'class_name': 'Dense',\n",
              "   'config': {'activation': 'relu',\n",
              "    'activity_regularizer': None,\n",
              "    'bias_constraint': None,\n",
              "    'bias_initializer': {'class_name': 'Zeros',\n",
              "     'config': {'dtype': 'float32'}},\n",
              "    'bias_regularizer': None,\n",
              "    'dtype': 'float32',\n",
              "    'kernel_constraint': None,\n",
              "    'kernel_initializer': {'class_name': 'GlorotUniform',\n",
              "     'config': {'dtype': 'float32', 'seed': None}},\n",
              "    'kernel_regularizer': None,\n",
              "    'name': 'dense_12',\n",
              "    'trainable': True,\n",
              "    'units': 256,\n",
              "    'use_bias': True}},\n",
              "  {'class_name': 'Dropout',\n",
              "   'config': {'dtype': 'float32',\n",
              "    'name': 'dropout_6',\n",
              "    'noise_shape': None,\n",
              "    'rate': 0.2,\n",
              "    'seed': None,\n",
              "    'trainable': True}},\n",
              "  {'class_name': 'Dense',\n",
              "   'config': {'activation': 'softmax',\n",
              "    'activity_regularizer': None,\n",
              "    'bias_constraint': None,\n",
              "    'bias_initializer': {'class_name': 'Zeros',\n",
              "     'config': {'dtype': 'float32'}},\n",
              "    'bias_regularizer': None,\n",
              "    'dtype': 'float32',\n",
              "    'kernel_constraint': None,\n",
              "    'kernel_initializer': {'class_name': 'GlorotUniform',\n",
              "     'config': {'dtype': 'float32', 'seed': None}},\n",
              "    'kernel_regularizer': None,\n",
              "    'name': 'dense_13',\n",
              "    'trainable': True,\n",
              "    'units': 10,\n",
              "    'use_bias': True}}],\n",
              " 'name': 'sequential_6'}"
            ]
          },
          "metadata": {
            "tags": []
          },
          "execution_count": 37
        }
      ]
    },
    {
      "cell_type": "markdown",
      "metadata": {
        "id": "Hn1fNG_AUR6n",
        "colab_type": "text"
      },
      "source": [
        "# Sumário do Modelo"
      ]
    },
    {
      "cell_type": "code",
      "metadata": {
        "id": "8EyR1iLTOf24",
        "colab_type": "code",
        "colab": {
          "base_uri": "https://localhost:8080/",
          "height": 0
        },
        "outputId": "1298f027-9f52-4f14-a50d-d7a299e1b070"
      },
      "source": [
        "# resumo do modelo\n",
        "sumario_modelo = modelo.summary()"
      ],
      "execution_count": 8,
      "outputs": [
        {
          "output_type": "stream",
          "text": [
            "Model: \"sequential\"\n",
            "_________________________________________________________________\n",
            "Layer (type)                 Output Shape              Param #   \n",
            "=================================================================\n",
            "flatten (Flatten)            (None, 784)               0         \n",
            "_________________________________________________________________\n",
            "dense (Dense)                (None, 256)               200960    \n",
            "_________________________________________________________________\n",
            "dropout (Dropout)            (None, 256)               0         \n",
            "_________________________________________________________________\n",
            "dense_1 (Dense)              (None, 10)                2570      \n",
            "=================================================================\n",
            "Total params: 203,530\n",
            "Trainable params: 203,530\n",
            "Non-trainable params: 0\n",
            "_________________________________________________________________\n"
          ],
          "name": "stdout"
        }
      ]
    },
    {
      "cell_type": "markdown",
      "metadata": {
        "id": "MDI9zdaiWiL3",
        "colab_type": "text"
      },
      "source": [
        "# Pesos e Vieses(Bias)"
      ]
    },
    {
      "cell_type": "code",
      "metadata": {
        "id": "cEaWdatHSkSq",
        "colab_type": "code",
        "colab": {
          "base_uri": "https://localhost:8080/",
          "height": 0
        },
        "outputId": "ef961a6c-0e02-4b23-cbe8-a7a09b23be90"
      },
      "source": [
        "# mostra os pesos da camada 1, que é a camada dense\n",
        "# os pesos medem as características mais importantes do modelo\n",
        "pesos_camada_dense = modelo.layers[1].get_weights()[0]\n",
        "pesos_camada_dense"
      ],
      "execution_count": 9,
      "outputs": [
        {
          "output_type": "execute_result",
          "data": {
            "text/plain": [
              "array([[ 0.04649221,  0.07223742, -0.02309503, ..., -0.06324992,\n",
              "        -0.00248838,  0.05805543],\n",
              "       [-0.08416895,  0.05612224,  0.05520856, ...,  0.0504124 ,\n",
              "        -0.00450379, -0.09692895],\n",
              "       [ 0.22650722, -0.01623684,  0.0069731 , ..., -0.0560036 ,\n",
              "        -0.02831468,  0.04965855],\n",
              "       ...,\n",
              "       [ 0.01320785, -0.04142103,  0.01924284, ...,  0.00300138,\n",
              "        -0.04057437, -0.11139137],\n",
              "       [ 0.15972628, -0.08690394, -0.0130431 , ...,  0.11551469,\n",
              "        -0.08700916,  0.05525341],\n",
              "       [ 0.19088398, -0.03837525,  0.04847915, ..., -0.03094795,\n",
              "        -0.11170067, -0.22084352]], dtype=float32)"
            ]
          },
          "metadata": {
            "tags": []
          },
          "execution_count": 9
        }
      ]
    },
    {
      "cell_type": "code",
      "metadata": {
        "id": "jqHFVaEbWq4l",
        "colab_type": "code",
        "colab": {
          "base_uri": "https://localhost:8080/",
          "height": 0
        },
        "outputId": "dd4bce7b-b8f7-443a-f626-54f90915c519"
      },
      "source": [
        "# mudando o índice de 0 para 1 passa a mostrar os vieses(bias) da mesma camada\n",
        "# o bias mede a distância que falta para o resultado esperado\n",
        "vieses_camada_dense = modelo.layers[1].get_weights()[1]\n",
        "vieses_camada_dense"
      ],
      "execution_count": 10,
      "outputs": [
        {
          "output_type": "execute_result",
          "data": {
            "text/plain": [
              "array([-5.67697398e-02,  1.47648022e-01,  1.63436607e-02,  2.15024680e-01,\n",
              "       -6.12272397e-02,  3.47555012e-01,  3.80361937e-02, -1.04140207e-01,\n",
              "       -6.52386458e-04,  3.45910907e-01,  1.02595806e-01,  1.63051903e-01,\n",
              "        3.88310826e-03,  1.47293493e-01,  2.03892261e-01, -8.41406435e-02,\n",
              "       -6.91583008e-02,  2.75191605e-01,  1.07785858e-01,  3.17068920e-02,\n",
              "       -3.27494234e-01, -1.37351811e-01,  8.52490440e-02,  1.47780687e-01,\n",
              "        3.42526108e-01,  9.47263986e-02,  1.32390454e-01, -1.21869324e-02,\n",
              "       -1.35764703e-01,  8.54119807e-02,  2.70512283e-01,  2.94769645e-01,\n",
              "        3.26178461e-01, -1.52565576e-02,  1.46273971e-01,  2.94320047e-01,\n",
              "        1.67865708e-01,  3.97461623e-01, -5.86667918e-02, -1.10172324e-01,\n",
              "        1.57071561e-01,  1.24326073e-01,  7.18928277e-02,  4.36491929e-02,\n",
              "        4.84676242e-01,  2.18184572e-02,  1.71036776e-02, -2.29182001e-02,\n",
              "        1.90284416e-01,  1.10772885e-01, -1.83138371e-01, -2.40752380e-02,\n",
              "        1.84144482e-01,  2.62641162e-01,  3.56686473e-01,  1.01766050e-01,\n",
              "        1.57883435e-01, -1.63376644e-01,  1.08568501e-02, -2.46656276e-02,\n",
              "        2.77481765e-01,  1.02480903e-01,  6.82308301e-02, -1.37726283e-02,\n",
              "        3.19763571e-01,  4.89031643e-01, -1.33993775e-02,  5.71260378e-02,\n",
              "        9.71793085e-02, -1.51119277e-01,  4.40174729e-01,  1.23137413e-02,\n",
              "        2.63836771e-01,  6.56679040e-04, -1.02560734e-02,  2.31143698e-01,\n",
              "       -2.76681371e-02,  1.03444725e-01,  2.60033011e-01,  2.96839744e-01,\n",
              "       -1.53735206e-02,  2.04289943e-01,  2.82687604e-01,  1.22887686e-01,\n",
              "       -1.42042749e-02, -1.45837329e-02,  4.39039730e-02,  1.54303789e-01,\n",
              "        1.11630403e-01, -1.32039711e-02,  5.15680611e-02,  1.08313099e-01,\n",
              "        4.57141638e-01,  3.56780142e-02, -2.23512817e-02,  7.41881505e-02,\n",
              "        2.66568903e-02, -1.66567657e-02, -1.75747409e-01, -1.38274627e-02,\n",
              "        3.40608537e-01,  1.13826357e-01, -1.24189071e-02,  3.03558528e-01,\n",
              "       -1.41100085e-03,  2.04943776e-01, -2.47626975e-02,  8.60109180e-02,\n",
              "       -3.34047377e-01,  1.41219795e-01, -4.91321012e-02,  1.84241995e-01,\n",
              "       -9.02730301e-02,  8.84521678e-02,  1.78362653e-01, -1.39134349e-02,\n",
              "        1.88630614e-02,  2.05150232e-01,  1.60452258e-02, -6.38313144e-02,\n",
              "       -1.95973963e-02,  1.24544337e-01, -2.06236482e-01, -7.17293704e-03,\n",
              "        1.53736293e-01,  2.24924702e-02,  1.52052954e-01, -3.21090221e-02,\n",
              "        9.13673490e-02,  3.16883683e-01,  2.27917090e-01,  8.74745399e-02,\n",
              "        2.38969833e-01,  2.16346726e-01, -1.62247643e-02,  4.65902127e-03,\n",
              "       -3.29333276e-01, -9.18782353e-02,  7.56089203e-03,  3.52973759e-01,\n",
              "        3.03144574e-01, -7.96758085e-02, -1.31814763e-01, -2.13859454e-01,\n",
              "       -2.46913191e-02,  1.15667172e-01,  3.29729319e-01,  8.49560350e-02,\n",
              "        1.43932939e-01,  2.96660691e-01,  3.16803344e-02, -7.65449042e-03,\n",
              "        2.53459603e-01,  7.28270411e-02, -3.15335616e-02,  1.15565285e-01,\n",
              "        3.00003618e-01, -2.09162775e-02,  5.11853874e-01, -5.38682304e-02,\n",
              "        1.48082480e-01, -7.83309117e-02,  1.61322445e-01,  2.34859139e-01,\n",
              "       -1.61122363e-02, -2.59409137e-02,  4.31101434e-02, -9.20107439e-02,\n",
              "        1.56872556e-01,  1.54687271e-01,  1.59867644e-01,  1.13938004e-01,\n",
              "       -8.58464688e-02,  3.36912006e-01,  2.96469569e-01,  2.74972469e-01,\n",
              "       -3.04979738e-02, -6.11124281e-03, -9.94967297e-03, -1.34362146e-01,\n",
              "        2.30141133e-01,  2.53185421e-01, -1.65471788e-02, -3.41261039e-04,\n",
              "        2.09688634e-01,  1.95101500e-01, -6.61532059e-02,  3.04813445e-01,\n",
              "        1.04084283e-01,  3.11523825e-01,  1.90365046e-01, -1.31249307e-02,\n",
              "        3.04773808e-01,  2.54787624e-01, -9.41946451e-03, -1.66681129e-02,\n",
              "        2.64047921e-01,  1.17760926e-01, -9.90092289e-03,  2.55485088e-01,\n",
              "        1.88798264e-01,  9.82191861e-02,  1.66763186e-01, -7.14402944e-02,\n",
              "        3.34064126e-01,  9.51704532e-02,  2.07505226e-02,  1.02475822e-01,\n",
              "        4.66576926e-02, -6.75376877e-02, -1.65752709e-01, -3.01828563e-01,\n",
              "        1.20137677e-01,  1.62031308e-01, -1.06287766e-02,  3.55211049e-01,\n",
              "        1.38593940e-02,  2.70687371e-01,  1.95968851e-01,  2.66098946e-01,\n",
              "        1.81019560e-01,  1.48688495e-01,  4.02170513e-03,  3.61168794e-02,\n",
              "       -3.89111601e-02, -1.29460275e-01, -9.62168851e-04,  1.38140827e-01,\n",
              "        1.84583828e-01, -1.00212230e-03,  1.99770600e-01, -9.87060554e-03,\n",
              "       -2.19096050e-01,  1.03417397e-01, -1.00338705e-01,  2.14830354e-01,\n",
              "        3.28580499e-01,  2.61205047e-01,  1.52557671e-01,  3.41369696e-02,\n",
              "        7.22093806e-02, -2.44739756e-01,  2.64242470e-01,  5.17293692e-01,\n",
              "        7.18533024e-02,  2.27107644e-01,  1.63005337e-01,  2.54950136e-01,\n",
              "        2.12104786e-02,  4.46148902e-01,  3.98019105e-01,  4.37801555e-02,\n",
              "        2.81750083e-01,  2.69080251e-01, -1.28624327e-02,  9.27118137e-02],\n",
              "      dtype=float32)"
            ]
          },
          "metadata": {
            "tags": []
          },
          "execution_count": 10
        }
      ]
    },
    {
      "cell_type": "markdown",
      "metadata": {
        "id": "bj7CAhKEkmIv",
        "colab_type": "text"
      },
      "source": [
        "**Obs: quando a rede esta errando os valores propagados serão recalculados e assim, por ter errado, o peso será diminuido e o viés aumentado, já que vai ter se afastado do resultado ideal.**"
      ]
    },
    {
      "cell_type": "markdown",
      "metadata": {
        "id": "BvFn8ZS1TtDB",
        "colab_type": "text"
      },
      "source": [
        "# Salvando e Carregando o Modelo"
      ]
    },
    {
      "cell_type": "code",
      "metadata": {
        "id": "rKKVYQEKTr-1",
        "colab_type": "code",
        "colab": {
          "base_uri": "https://localhost:8080/",
          "height": 139
        },
        "outputId": "e6efb444-604b-4f78-e8ff-1ec6e08601d7"
      },
      "source": [
        "modelo.save('rna_alura.h5')  # salvar no formato h5\n",
        "modelo_salvo = load_model('rna_alura.h5')"
      ],
      "execution_count": 11,
      "outputs": [
        {
          "output_type": "stream",
          "text": [
            "WARNING:tensorflow:From /usr/local/lib/python3.6/dist-packages/tensorflow_core/python/ops/init_ops.py:97: calling GlorotUniform.__init__ (from tensorflow.python.ops.init_ops) with dtype is deprecated and will be removed in a future version.\n",
            "Instructions for updating:\n",
            "Call initializer instance with the dtype argument instead of passing it to the constructor\n",
            "WARNING:tensorflow:From /usr/local/lib/python3.6/dist-packages/tensorflow_core/python/ops/init_ops.py:97: calling Zeros.__init__ (from tensorflow.python.ops.init_ops) with dtype is deprecated and will be removed in a future version.\n",
            "Instructions for updating:\n",
            "Call initializer instance with the dtype argument instead of passing it to the constructor\n"
          ],
          "name": "stdout"
        }
      ]
    },
    {
      "cell_type": "markdown",
      "metadata": {
        "id": "Vhynp0HXOCe-",
        "colab_type": "text"
      },
      "source": [
        "# Gráfico do Histórico da Acurácia"
      ]
    },
    {
      "cell_type": "code",
      "metadata": {
        "id": "HLS-lANaL8HH",
        "colab_type": "code",
        "outputId": "f5f80175-1ccb-47fa-c2fc-1ddfa5765581",
        "colab": {
          "base_uri": "https://localhost:8080/",
          "height": 0
        }
      },
      "source": [
        "plt.plot(historico.history['acc'])\n",
        "plt.plot(historico.history['val_acc'])\n",
        "plt.title('Acurácia por Épocas')\n",
        "plt.xlabel('Épocas')\n",
        "plt.ylabel('Acurácia')\n",
        "plt.legend(['Treino','Validação'])"
      ],
      "execution_count": 12,
      "outputs": [
        {
          "output_type": "execute_result",
          "data": {
            "text/plain": [
              "<matplotlib.legend.Legend at 0x7f1cad844128>"
            ]
          },
          "metadata": {
            "tags": []
          },
          "execution_count": 12
        },
        {
          "output_type": "display_data",
          "data": {
            "image/png": "[encoded data removed]",
            "text/plain": [
              "<Figure size 432x288 with 1 Axes>"
            ]
          },
          "metadata": {
            "tags": []
          }
        }
      ]
    },
    {
      "cell_type": "markdown",
      "metadata": {
        "id": "F94uDElvOMEd",
        "colab_type": "text"
      },
      "source": [
        "# Gráfico do Histórico da Perda"
      ]
    },
    {
      "cell_type": "code",
      "metadata": {
        "id": "Ba2PQ9B0OL1m",
        "colab_type": "code",
        "outputId": "dc14ab9e-3431-443d-91cf-084c9971b135",
        "colab": {
          "base_uri": "https://localhost:8080/",
          "height": 0
        }
      },
      "source": [
        "plt.plot(historico.history['loss'])\n",
        "plt.plot(historico.history['val_loss'])\n",
        "plt.title('Perda por Épocas')\n",
        "plt.xlabel('Épocas')\n",
        "plt.ylabel('Perda')\n",
        "plt.legend(['Treino','Validação'])"
      ],
      "execution_count": 13,
      "outputs": [
        {
          "output_type": "execute_result",
          "data": {
            "text/plain": [
              "<matplotlib.legend.Legend at 0x7f1cad7aa0b8>"
            ]
          },
          "metadata": {
            "tags": []
          },
          "execution_count": 13
        },
        {
          "output_type": "display_data",
          "data": {
            "image/png": "[encoded data removed]",
            "text/plain": [
              "<Figure size 432x288 with 1 Axes>"
            ]
          },
          "metadata": {
            "tags": []
          }
        }
      ]
    },
    {
      "cell_type": "markdown",
      "metadata": {
        "id": "dj3Bz7cntcHe",
        "colab_type": "text"
      },
      "source": [
        "# Testando o Modelo"
      ]
    },
    {
      "cell_type": "code",
      "metadata": {
        "id": "ekvkdm14tQQV",
        "colab_type": "code",
        "outputId": "cec98e7a-1e0e-4713-8db3-6a286dfc3afc",
        "colab": {
          "base_uri": "https://localhost:8080/",
          "height": 0
        }
      },
      "source": [
        "testes = modelo.predict(x_teste)\n",
        "modelo.evaluate(x_teste,y_teste)\n"
      ],
      "execution_count": 14,
      "outputs": [
        {
          "output_type": "stream",
          "text": [
            "10000/10000 [==============================] - 0s 41us/sample - loss: 65.5461 - acc: 0.8411\n"
          ],
          "name": "stdout"
        },
        {
          "output_type": "execute_result",
          "data": {
            "text/plain": [
              "[65.54608510878086, 0.8411]"
            ]
          },
          "metadata": {
            "tags": []
          },
          "execution_count": 14
        }
      ]
    },
    {
      "cell_type": "markdown",
      "metadata": {
        "id": "70hjr7-OiO9k",
        "colab_type": "text"
      },
      "source": [
        "# Testando Com Pesos Zerados\n",
        "**Obs: Apenas para aprender, não vale a pena zera-los**"
      ]
    },
    {
      "cell_type": "code",
      "metadata": {
        "id": "agyGwC0ViPWq",
        "colab_type": "code",
        "colab": {
          "base_uri": "https://localhost:8080/",
          "height": 0
        },
        "outputId": "6a93a9e1-6282-4709-c56f-e2fc3997ae3f"
      },
      "source": [
        "pesos_camada_dense.shape"
      ],
      "execution_count": 15,
      "outputs": [
        {
          "output_type": "execute_result",
          "data": {
            "text/plain": [
              "(784, 256)"
            ]
          },
          "metadata": {
            "tags": []
          },
          "execution_count": 15
        }
      ]
    },
    {
      "cell_type": "code",
      "metadata": {
        "id": "qsvC5njoibo6",
        "colab_type": "code",
        "colab": {
          "base_uri": "https://localhost:8080/",
          "height": 0
        },
        "outputId": "aadc057d-10e2-41de-c1da-5e8f04f5fa9a"
      },
      "source": [
        "pesos_camada_dense_zerados = np.zeros((784, 256))\n",
        "\n",
        "pesos_camada_dense_zerados"
      ],
      "execution_count": 16,
      "outputs": [
        {
          "output_type": "execute_result",
          "data": {
            "text/plain": [
              "array([[0., 0., 0., ..., 0., 0., 0.],\n",
              "       [0., 0., 0., ..., 0., 0., 0.],\n",
              "       [0., 0., 0., ..., 0., 0., 0.],\n",
              "       ...,\n",
              "       [0., 0., 0., ..., 0., 0., 0.],\n",
              "       [0., 0., 0., ..., 0., 0., 0.],\n",
              "       [0., 0., 0., ..., 0., 0., 0.]])"
            ]
          },
          "metadata": {
            "tags": []
          },
          "execution_count": 16
        }
      ]
    },
    {
      "cell_type": "code",
      "metadata": {
        "id": "yM84w2Nfl26h",
        "colab_type": "code",
        "colab": {
          "base_uri": "https://localhost:8080/",
          "height": 0
        },
        "outputId": "0241ecb0-91fb-434d-81bb-9cf98f69afeb"
      },
      "source": [
        "modelo.layers[1].set_weights([pesos_camada_dense_zerados, vieses_camada_dense])\n",
        "\n",
        "modelo.layers[1].get_weights()"
      ],
      "execution_count": 17,
      "outputs": [
        {
          "output_type": "execute_result",
          "data": {
            "text/plain": [
              "[array([[0., 0., 0., ..., 0., 0., 0.],\n",
              "        [0., 0., 0., ..., 0., 0., 0.],\n",
              "        [0., 0., 0., ..., 0., 0., 0.],\n",
              "        ...,\n",
              "        [0., 0., 0., ..., 0., 0., 0.],\n",
              "        [0., 0., 0., ..., 0., 0., 0.],\n",
              "        [0., 0., 0., ..., 0., 0., 0.]], dtype=float32),\n",
              " array([-5.67697398e-02,  1.47648022e-01,  1.63436607e-02,  2.15024680e-01,\n",
              "        -6.12272397e-02,  3.47555012e-01,  3.80361937e-02, -1.04140207e-01,\n",
              "        -6.52386458e-04,  3.45910907e-01,  1.02595806e-01,  1.63051903e-01,\n",
              "         3.88310826e-03,  1.47293493e-01,  2.03892261e-01, -8.41406435e-02,\n",
              "        -6.91583008e-02,  2.75191605e-01,  1.07785858e-01,  3.17068920e-02,\n",
              "        -3.27494234e-01, -1.37351811e-01,  8.52490440e-02,  1.47780687e-01,\n",
              "         3.42526108e-01,  9.47263986e-02,  1.32390454e-01, -1.21869324e-02,\n",
              "        -1.35764703e-01,  8.54119807e-02,  2.70512283e-01,  2.94769645e-01,\n",
              "         3.26178461e-01, -1.52565576e-02,  1.46273971e-01,  2.94320047e-01,\n",
              "         1.67865708e-01,  3.97461623e-01, -5.86667918e-02, -1.10172324e-01,\n",
              "         1.57071561e-01,  1.24326073e-01,  7.18928277e-02,  4.36491929e-02,\n",
              "         4.84676242e-01,  2.18184572e-02,  1.71036776e-02, -2.29182001e-02,\n",
              "         1.90284416e-01,  1.10772885e-01, -1.83138371e-01, -2.40752380e-02,\n",
              "         1.84144482e-01,  2.62641162e-01,  3.56686473e-01,  1.01766050e-01,\n",
              "         1.57883435e-01, -1.63376644e-01,  1.08568501e-02, -2.46656276e-02,\n",
              "         2.77481765e-01,  1.02480903e-01,  6.82308301e-02, -1.37726283e-02,\n",
              "         3.19763571e-01,  4.89031643e-01, -1.33993775e-02,  5.71260378e-02,\n",
              "         9.71793085e-02, -1.51119277e-01,  4.40174729e-01,  1.23137413e-02,\n",
              "         2.63836771e-01,  6.56679040e-04, -1.02560734e-02,  2.31143698e-01,\n",
              "        -2.76681371e-02,  1.03444725e-01,  2.60033011e-01,  2.96839744e-01,\n",
              "        -1.53735206e-02,  2.04289943e-01,  2.82687604e-01,  1.22887686e-01,\n",
              "        -1.42042749e-02, -1.45837329e-02,  4.39039730e-02,  1.54303789e-01,\n",
              "         1.11630403e-01, -1.32039711e-02,  5.15680611e-02,  1.08313099e-01,\n",
              "         4.57141638e-01,  3.56780142e-02, -2.23512817e-02,  7.41881505e-02,\n",
              "         2.66568903e-02, -1.66567657e-02, -1.75747409e-01, -1.38274627e-02,\n",
              "         3.40608537e-01,  1.13826357e-01, -1.24189071e-02,  3.03558528e-01,\n",
              "        -1.41100085e-03,  2.04943776e-01, -2.47626975e-02,  8.60109180e-02,\n",
              "        -3.34047377e-01,  1.41219795e-01, -4.91321012e-02,  1.84241995e-01,\n",
              "        -9.02730301e-02,  8.84521678e-02,  1.78362653e-01, -1.39134349e-02,\n",
              "         1.88630614e-02,  2.05150232e-01,  1.60452258e-02, -6.38313144e-02,\n",
              "        -1.95973963e-02,  1.24544337e-01, -2.06236482e-01, -7.17293704e-03,\n",
              "         1.53736293e-01,  2.24924702e-02,  1.52052954e-01, -3.21090221e-02,\n",
              "         9.13673490e-02,  3.16883683e-01,  2.27917090e-01,  8.74745399e-02,\n",
              "         2.38969833e-01,  2.16346726e-01, -1.62247643e-02,  4.65902127e-03,\n",
              "        -3.29333276e-01, -9.18782353e-02,  7.56089203e-03,  3.52973759e-01,\n",
              "         3.03144574e-01, -7.96758085e-02, -1.31814763e-01, -2.13859454e-01,\n",
              "        -2.46913191e-02,  1.15667172e-01,  3.29729319e-01,  8.49560350e-02,\n",
              "         1.43932939e-01,  2.96660691e-01,  3.16803344e-02, -7.65449042e-03,\n",
              "         2.53459603e-01,  7.28270411e-02, -3.15335616e-02,  1.15565285e-01,\n",
              "         3.00003618e-01, -2.09162775e-02,  5.11853874e-01, -5.38682304e-02,\n",
              "         1.48082480e-01, -7.83309117e-02,  1.61322445e-01,  2.34859139e-01,\n",
              "        -1.61122363e-02, -2.59409137e-02,  4.31101434e-02, -9.20107439e-02,\n",
              "         1.56872556e-01,  1.54687271e-01,  1.59867644e-01,  1.13938004e-01,\n",
              "        -8.58464688e-02,  3.36912006e-01,  2.96469569e-01,  2.74972469e-01,\n",
              "        -3.04979738e-02, -6.11124281e-03, -9.94967297e-03, -1.34362146e-01,\n",
              "         2.30141133e-01,  2.53185421e-01, -1.65471788e-02, -3.41261039e-04,\n",
              "         2.09688634e-01,  1.95101500e-01, -6.61532059e-02,  3.04813445e-01,\n",
              "         1.04084283e-01,  3.11523825e-01,  1.90365046e-01, -1.31249307e-02,\n",
              "         3.04773808e-01,  2.54787624e-01, -9.41946451e-03, -1.66681129e-02,\n",
              "         2.64047921e-01,  1.17760926e-01, -9.90092289e-03,  2.55485088e-01,\n",
              "         1.88798264e-01,  9.82191861e-02,  1.66763186e-01, -7.14402944e-02,\n",
              "         3.34064126e-01,  9.51704532e-02,  2.07505226e-02,  1.02475822e-01,\n",
              "         4.66576926e-02, -6.75376877e-02, -1.65752709e-01, -3.01828563e-01,\n",
              "         1.20137677e-01,  1.62031308e-01, -1.06287766e-02,  3.55211049e-01,\n",
              "         1.38593940e-02,  2.70687371e-01,  1.95968851e-01,  2.66098946e-01,\n",
              "         1.81019560e-01,  1.48688495e-01,  4.02170513e-03,  3.61168794e-02,\n",
              "        -3.89111601e-02, -1.29460275e-01, -9.62168851e-04,  1.38140827e-01,\n",
              "         1.84583828e-01, -1.00212230e-03,  1.99770600e-01, -9.87060554e-03,\n",
              "        -2.19096050e-01,  1.03417397e-01, -1.00338705e-01,  2.14830354e-01,\n",
              "         3.28580499e-01,  2.61205047e-01,  1.52557671e-01,  3.41369696e-02,\n",
              "         7.22093806e-02, -2.44739756e-01,  2.64242470e-01,  5.17293692e-01,\n",
              "         7.18533024e-02,  2.27107644e-01,  1.63005337e-01,  2.54950136e-01,\n",
              "         2.12104786e-02,  4.46148902e-01,  3.98019105e-01,  4.37801555e-02,\n",
              "         2.81750083e-01,  2.69080251e-01, -1.28624327e-02,  9.27118137e-02],\n",
              "       dtype=float32)]"
            ]
          },
          "metadata": {
            "tags": []
          },
          "execution_count": 17
        }
      ]
    },
    {
      "cell_type": "code",
      "metadata": {
        "id": "SlYdil-qjvLY",
        "colab_type": "code",
        "colab": {
          "base_uri": "https://localhost:8080/",
          "height": 0
        },
        "outputId": "4d122cb9-7bfc-4ff8-90d6-f2e6bb29894e"
      },
      "source": [
        "modelo.compile(optimizer='adam',loss='sparse_categorical_crossentropy', metrics = ['accuracy']) \n",
        "\n",
        "historico = modelo.fit(x_treino, y_treino, epochs = 5, validation_split = 0.2) "
      ],
      "execution_count": 18,
      "outputs": [
        {
          "output_type": "stream",
          "text": [
            "Train on 48000 samples, validate on 12000 samples\n",
            "Epoch 1/5\n",
            "48000/48000 [==============================] - 5s 107us/sample - loss: 0.5278 - acc: 0.8100 - val_loss: 0.4115 - val_acc: 0.8472\n",
            "Epoch 2/5\n",
            "48000/48000 [==============================] - 5s 107us/sample - loss: 0.4043 - acc: 0.8520 - val_loss: 0.3874 - val_acc: 0.8546\n",
            "Epoch 3/5\n",
            "48000/48000 [==============================] - 5s 104us/sample - loss: 0.3719 - acc: 0.8632 - val_loss: 0.3730 - val_acc: 0.8654\n",
            "Epoch 4/5\n",
            "48000/48000 [==============================] - 5s 103us/sample - loss: 0.3508 - acc: 0.8709 - val_loss: 0.3404 - val_acc: 0.8768\n",
            "Epoch 5/5\n",
            "48000/48000 [==============================] - 5s 111us/sample - loss: 0.3329 - acc: 0.8770 - val_loss: 0.3391 - val_acc: 0.8790\n"
          ],
          "name": "stdout"
        }
      ]
    },
    {
      "cell_type": "code",
      "metadata": {
        "id": "fZ3H_Ru0kJuy",
        "colab_type": "code",
        "colab": {
          "base_uri": "https://localhost:8080/",
          "height": 0
        },
        "outputId": "0ba62852-9ff8-45f7-8d1f-bbbd8bee4c4f"
      },
      "source": [
        "plt.plot(historico.history['acc'])\n",
        "plt.plot(historico.history['val_acc'])\n",
        "plt.title('Acurácia por Épocas')\n",
        "plt.xlabel('Épocas')\n",
        "plt.ylabel('Acurácia')\n",
        "plt.legend(['Treino','Validação'])"
      ],
      "execution_count": 19,
      "outputs": [
        {
          "output_type": "execute_result",
          "data": {
            "text/plain": [
              "<matplotlib.legend.Legend at 0x7f1caa6d3fd0>"
            ]
          },
          "metadata": {
            "tags": []
          },
          "execution_count": 19
        },
        {
          "output_type": "display_data",
          "data": {
            "image/png": "[encoded data removed]",
            "text/plain": [
              "<Figure size 432x288 with 1 Axes>"
            ]
          },
          "metadata": {
            "tags": []
          }
        }
      ]
    },
    {
      "cell_type": "code",
      "metadata": {
        "id": "jjXs1XYEkMnS",
        "colab_type": "code",
        "colab": {
          "base_uri": "https://localhost:8080/",
          "height": 0
        },
        "outputId": "4fba9697-aba3-4e88-b64c-fe1833cd6f40"
      },
      "source": [
        "plt.plot(historico.history['loss'])\n",
        "plt.plot(historico.history['val_loss'])\n",
        "plt.title('Perda por Épocas')\n",
        "plt.xlabel('Épocas')\n",
        "plt.ylabel('Perda')\n",
        "plt.legend(['Treino','Validação'])"
      ],
      "execution_count": 20,
      "outputs": [
        {
          "output_type": "execute_result",
          "data": {
            "text/plain": [
              "<matplotlib.legend.Legend at 0x7f1caa644b00>"
            ]
          },
          "metadata": {
            "tags": []
          },
          "execution_count": 20
        },
        {
          "output_type": "display_data",
          "data": {
            "image/png": "[encoded data removed]",
            "text/plain": [
              "<Figure size 432x288 with 1 Axes>"
            ]
          },
          "metadata": {
            "tags": []
          }
        }
      ]
    },
    {
      "cell_type": "markdown",
      "metadata": {
        "id": "j0d1Im5VlGwq",
        "colab_type": "text"
      },
      "source": [
        "# Testando com Valores Aleatórios nos Pesos\n",
        "**Obs: Apenas para aprender, não vale a pena deixa-los aleatórios**"
      ]
    },
    {
      "cell_type": "code",
      "metadata": {
        "id": "aY8y_AVAlHOv",
        "colab_type": "code",
        "colab": {
          "base_uri": "https://localhost:8080/",
          "height": 0
        },
        "outputId": "09961f74-5fc5-4cce-c8dc-8bda3cb5d6d0"
      },
      "source": [
        "pesos_camada_dense_aleatorios = np.random.rand(784, 256)\n",
        "pesos_camada_dense_aleatorios"
      ],
      "execution_count": 21,
      "outputs": [
        {
          "output_type": "execute_result",
          "data": {
            "text/plain": [
              "array([[0.07400211, 0.64605226, 0.55313022, ..., 0.34216692, 0.00913578,\n",
              "        0.1872681 ],\n",
              "       [0.4416164 , 0.54591081, 0.12892996, ..., 0.92501676, 0.94544556,\n",
              "        0.97022025],\n",
              "       [0.68128204, 0.63756246, 0.14501729, ..., 0.56693501, 0.16532256,\n",
              "        0.25375323],\n",
              "       ...,\n",
              "       [0.56785868, 0.62093872, 0.74734968, ..., 0.49495583, 0.35161489,\n",
              "        0.54967078],\n",
              "       [0.56774034, 0.34356439, 0.21903563, ..., 0.96762395, 0.14938226,\n",
              "        0.69307746],\n",
              "       [0.57825359, 0.07803585, 0.67088946, ..., 0.08699651, 0.14742408,\n",
              "        0.75372012]])"
            ]
          },
          "metadata": {
            "tags": []
          },
          "execution_count": 21
        }
      ]
    },
    {
      "cell_type": "code",
      "metadata": {
        "id": "kMftgU6zlv1R",
        "colab_type": "code",
        "colab": {
          "base_uri": "https://localhost:8080/",
          "height": 0
        },
        "outputId": "352b08d4-fcaa-4d7a-ffd0-f4138336a729"
      },
      "source": [
        "modelo.layers[1].set_weights([pesos_camada_dense_aleatorios, vieses_camada_dense])\n",
        "\n",
        "modelo.layers[1].get_weights()"
      ],
      "execution_count": 22,
      "outputs": [
        {
          "output_type": "execute_result",
          "data": {
            "text/plain": [
              "[array([[0.07400211, 0.64605224, 0.5531302 , ..., 0.34216693, 0.00913578,\n",
              "         0.18726811],\n",
              "        [0.44161642, 0.54591084, 0.12892996, ..., 0.92501676, 0.94544554,\n",
              "         0.97022027],\n",
              "        [0.68128204, 0.63756245, 0.14501728, ..., 0.566935  , 0.16532257,\n",
              "         0.25375322],\n",
              "        ...,\n",
              "        [0.5678587 , 0.6209387 , 0.7473497 , ..., 0.49495584, 0.3516149 ,\n",
              "         0.54967076],\n",
              "        [0.5677403 , 0.3435644 , 0.21903563, ..., 0.96762395, 0.14938226,\n",
              "         0.69307745],\n",
              "        [0.57825357, 0.07803585, 0.67088944, ..., 0.08699651, 0.14742409,\n",
              "         0.7537201 ]], dtype=float32),\n",
              " array([-5.67697398e-02,  1.47648022e-01,  1.63436607e-02,  2.15024680e-01,\n",
              "        -6.12272397e-02,  3.47555012e-01,  3.80361937e-02, -1.04140207e-01,\n",
              "        -6.52386458e-04,  3.45910907e-01,  1.02595806e-01,  1.63051903e-01,\n",
              "         3.88310826e-03,  1.47293493e-01,  2.03892261e-01, -8.41406435e-02,\n",
              "        -6.91583008e-02,  2.75191605e-01,  1.07785858e-01,  3.17068920e-02,\n",
              "        -3.27494234e-01, -1.37351811e-01,  8.52490440e-02,  1.47780687e-01,\n",
              "         3.42526108e-01,  9.47263986e-02,  1.32390454e-01, -1.21869324e-02,\n",
              "        -1.35764703e-01,  8.54119807e-02,  2.70512283e-01,  2.94769645e-01,\n",
              "         3.26178461e-01, -1.52565576e-02,  1.46273971e-01,  2.94320047e-01,\n",
              "         1.67865708e-01,  3.97461623e-01, -5.86667918e-02, -1.10172324e-01,\n",
              "         1.57071561e-01,  1.24326073e-01,  7.18928277e-02,  4.36491929e-02,\n",
              "         4.84676242e-01,  2.18184572e-02,  1.71036776e-02, -2.29182001e-02,\n",
              "         1.90284416e-01,  1.10772885e-01, -1.83138371e-01, -2.40752380e-02,\n",
              "         1.84144482e-01,  2.62641162e-01,  3.56686473e-01,  1.01766050e-01,\n",
              "         1.57883435e-01, -1.63376644e-01,  1.08568501e-02, -2.46656276e-02,\n",
              "         2.77481765e-01,  1.02480903e-01,  6.82308301e-02, -1.37726283e-02,\n",
              "         3.19763571e-01,  4.89031643e-01, -1.33993775e-02,  5.71260378e-02,\n",
              "         9.71793085e-02, -1.51119277e-01,  4.40174729e-01,  1.23137413e-02,\n",
              "         2.63836771e-01,  6.56679040e-04, -1.02560734e-02,  2.31143698e-01,\n",
              "        -2.76681371e-02,  1.03444725e-01,  2.60033011e-01,  2.96839744e-01,\n",
              "        -1.53735206e-02,  2.04289943e-01,  2.82687604e-01,  1.22887686e-01,\n",
              "        -1.42042749e-02, -1.45837329e-02,  4.39039730e-02,  1.54303789e-01,\n",
              "         1.11630403e-01, -1.32039711e-02,  5.15680611e-02,  1.08313099e-01,\n",
              "         4.57141638e-01,  3.56780142e-02, -2.23512817e-02,  7.41881505e-02,\n",
              "         2.66568903e-02, -1.66567657e-02, -1.75747409e-01, -1.38274627e-02,\n",
              "         3.40608537e-01,  1.13826357e-01, -1.24189071e-02,  3.03558528e-01,\n",
              "        -1.41100085e-03,  2.04943776e-01, -2.47626975e-02,  8.60109180e-02,\n",
              "        -3.34047377e-01,  1.41219795e-01, -4.91321012e-02,  1.84241995e-01,\n",
              "        -9.02730301e-02,  8.84521678e-02,  1.78362653e-01, -1.39134349e-02,\n",
              "         1.88630614e-02,  2.05150232e-01,  1.60452258e-02, -6.38313144e-02,\n",
              "        -1.95973963e-02,  1.24544337e-01, -2.06236482e-01, -7.17293704e-03,\n",
              "         1.53736293e-01,  2.24924702e-02,  1.52052954e-01, -3.21090221e-02,\n",
              "         9.13673490e-02,  3.16883683e-01,  2.27917090e-01,  8.74745399e-02,\n",
              "         2.38969833e-01,  2.16346726e-01, -1.62247643e-02,  4.65902127e-03,\n",
              "        -3.29333276e-01, -9.18782353e-02,  7.56089203e-03,  3.52973759e-01,\n",
              "         3.03144574e-01, -7.96758085e-02, -1.31814763e-01, -2.13859454e-01,\n",
              "        -2.46913191e-02,  1.15667172e-01,  3.29729319e-01,  8.49560350e-02,\n",
              "         1.43932939e-01,  2.96660691e-01,  3.16803344e-02, -7.65449042e-03,\n",
              "         2.53459603e-01,  7.28270411e-02, -3.15335616e-02,  1.15565285e-01,\n",
              "         3.00003618e-01, -2.09162775e-02,  5.11853874e-01, -5.38682304e-02,\n",
              "         1.48082480e-01, -7.83309117e-02,  1.61322445e-01,  2.34859139e-01,\n",
              "        -1.61122363e-02, -2.59409137e-02,  4.31101434e-02, -9.20107439e-02,\n",
              "         1.56872556e-01,  1.54687271e-01,  1.59867644e-01,  1.13938004e-01,\n",
              "        -8.58464688e-02,  3.36912006e-01,  2.96469569e-01,  2.74972469e-01,\n",
              "        -3.04979738e-02, -6.11124281e-03, -9.94967297e-03, -1.34362146e-01,\n",
              "         2.30141133e-01,  2.53185421e-01, -1.65471788e-02, -3.41261039e-04,\n",
              "         2.09688634e-01,  1.95101500e-01, -6.61532059e-02,  3.04813445e-01,\n",
              "         1.04084283e-01,  3.11523825e-01,  1.90365046e-01, -1.31249307e-02,\n",
              "         3.04773808e-01,  2.54787624e-01, -9.41946451e-03, -1.66681129e-02,\n",
              "         2.64047921e-01,  1.17760926e-01, -9.90092289e-03,  2.55485088e-01,\n",
              "         1.88798264e-01,  9.82191861e-02,  1.66763186e-01, -7.14402944e-02,\n",
              "         3.34064126e-01,  9.51704532e-02,  2.07505226e-02,  1.02475822e-01,\n",
              "         4.66576926e-02, -6.75376877e-02, -1.65752709e-01, -3.01828563e-01,\n",
              "         1.20137677e-01,  1.62031308e-01, -1.06287766e-02,  3.55211049e-01,\n",
              "         1.38593940e-02,  2.70687371e-01,  1.95968851e-01,  2.66098946e-01,\n",
              "         1.81019560e-01,  1.48688495e-01,  4.02170513e-03,  3.61168794e-02,\n",
              "        -3.89111601e-02, -1.29460275e-01, -9.62168851e-04,  1.38140827e-01,\n",
              "         1.84583828e-01, -1.00212230e-03,  1.99770600e-01, -9.87060554e-03,\n",
              "        -2.19096050e-01,  1.03417397e-01, -1.00338705e-01,  2.14830354e-01,\n",
              "         3.28580499e-01,  2.61205047e-01,  1.52557671e-01,  3.41369696e-02,\n",
              "         7.22093806e-02, -2.44739756e-01,  2.64242470e-01,  5.17293692e-01,\n",
              "         7.18533024e-02,  2.27107644e-01,  1.63005337e-01,  2.54950136e-01,\n",
              "         2.12104786e-02,  4.46148902e-01,  3.98019105e-01,  4.37801555e-02,\n",
              "         2.81750083e-01,  2.69080251e-01, -1.28624327e-02,  9.27118137e-02],\n",
              "       dtype=float32)]"
            ]
          },
          "metadata": {
            "tags": []
          },
          "execution_count": 22
        }
      ]
    },
    {
      "cell_type": "code",
      "metadata": {
        "id": "yT3PTvlrmRQq",
        "colab_type": "code",
        "colab": {
          "base_uri": "https://localhost:8080/",
          "height": 0
        },
        "outputId": "f1aad5c7-b144-4148-9706-a7f0ccf280de"
      },
      "source": [
        "modelo.compile(optimizer='adam',loss='sparse_categorical_crossentropy', metrics = ['accuracy']) \n",
        "\n",
        "historico = modelo.fit(x_treino, y_treino, epochs = 5, validation_split = 0.2) "
      ],
      "execution_count": 23,
      "outputs": [
        {
          "output_type": "stream",
          "text": [
            "Train on 48000 samples, validate on 12000 samples\n",
            "Epoch 1/5\n",
            "48000/48000 [==============================] - 5s 107us/sample - loss: 117.9314 - acc: 0.4104 - val_loss: 16.7461 - val_acc: 0.7261\n",
            "Epoch 2/5\n",
            "48000/48000 [==============================] - 5s 107us/sample - loss: 31.3853 - acc: 0.6274 - val_loss: 9.8167 - val_acc: 0.7648\n",
            "Epoch 3/5\n",
            "48000/48000 [==============================] - 6s 116us/sample - loss: 14.5720 - acc: 0.6927 - val_loss: 6.4944 - val_acc: 0.7692\n",
            "Epoch 4/5\n",
            "48000/48000 [==============================] - 6s 116us/sample - loss: 7.5801 - acc: 0.7221 - val_loss: 3.9525 - val_acc: 0.7870\n",
            "Epoch 5/5\n",
            "48000/48000 [==============================] - 6s 115us/sample - loss: 4.0189 - acc: 0.7540 - val_loss: 3.1688 - val_acc: 0.7712\n"
          ],
          "name": "stdout"
        }
      ]
    },
    {
      "cell_type": "code",
      "metadata": {
        "id": "qUmlCzWJmSLp",
        "colab_type": "code",
        "colab": {
          "base_uri": "https://localhost:8080/",
          "height": 0
        },
        "outputId": "5d3d16db-4a90-4448-d07e-67e80e124957"
      },
      "source": [
        "plt.plot(historico.history['acc'])\n",
        "plt.plot(historico.history['val_acc'])\n",
        "plt.title('Acurácia por Épocas')\n",
        "plt.xlabel('Épocas')\n",
        "plt.ylabel('Acurácia')\n",
        "plt.legend(['Treino','Validação'])"
      ],
      "execution_count": 24,
      "outputs": [
        {
          "output_type": "execute_result",
          "data": {
            "text/plain": [
              "<matplotlib.legend.Legend at 0x7f1caa531f60>"
            ]
          },
          "metadata": {
            "tags": []
          },
          "execution_count": 24
        },
        {
          "output_type": "display_data",
          "data": {
            "image/png": "[encoded data removed]",
            "text/plain": [
              "<Figure size 432x288 with 1 Axes>"
            ]
          },
          "metadata": {
            "tags": []
          }
        }
      ]
    },
    {
      "cell_type": "code",
      "metadata": {
        "id": "0s9HyLXHmUoA",
        "colab_type": "code",
        "colab": {
          "base_uri": "https://localhost:8080/",
          "height": 0
        },
        "outputId": "af89268f-49bf-47d7-d9f3-4890fa1951c0"
      },
      "source": [
        "plt.plot(historico.history['loss'])\n",
        "plt.plot(historico.history['val_loss'])\n",
        "plt.title('Perda por Épocas')\n",
        "plt.xlabel('Épocas')\n",
        "plt.ylabel('Perda')\n",
        "plt.legend(['Treino','Validação'])"
      ],
      "execution_count": 25,
      "outputs": [
        {
          "output_type": "execute_result",
          "data": {
            "text/plain": [
              "<matplotlib.legend.Legend at 0x7f1caa459978>"
            ]
          },
          "metadata": {
            "tags": []
          },
          "execution_count": 25
        },
        {
          "output_type": "display_data",
          "data": {
            "image/png": "[encoded data removed]",
            "text/plain": [
              "<Figure size 432x288 with 1 Axes>"
            ]
          },
          "metadata": {
            "tags": []
          }
        }
      ]
    },
    {
      "cell_type": "markdown",
      "metadata": {
        "id": "ZUj7nQOQtf_m",
        "colab_type": "text"
      },
      "source": [
        "# Testanto com Pesos e Viéses Zerados/Aleatórios\n",
        "**Percebe-se que os pesos tem maior influência na rede**"
      ]
    },
    {
      "cell_type": "code",
      "metadata": {
        "id": "Ij2MMHL4t25m",
        "colab_type": "code",
        "colab": {
          "base_uri": "https://localhost:8080/",
          "height": 0
        },
        "outputId": "79ec0116-a3f2-43cd-f226-2382a1421a3b"
      },
      "source": [
        "vieses_camada_dense.shape"
      ],
      "execution_count": 26,
      "outputs": [
        {
          "output_type": "execute_result",
          "data": {
            "text/plain": [
              "(256,)"
            ]
          },
          "metadata": {
            "tags": []
          },
          "execution_count": 26
        }
      ]
    },
    {
      "cell_type": "code",
      "metadata": {
        "id": "M3upyBWrtgWG",
        "colab_type": "code",
        "colab": {
          "base_uri": "https://localhost:8080/",
          "height": 0
        },
        "outputId": "06e05c0d-a71a-476c-f08b-85b19da1e25c"
      },
      "source": [
        "vieses_camada_dense_zerados = np.zeros((256,))\n",
        "\n",
        "modelo.layers[1].set_weights([pesos_camada_dense_aleatorios, vieses_camada_dense_zerados])\n",
        "\n",
        "modelo.layers[1].get_weights()\n"
      ],
      "execution_count": 27,
      "outputs": [
        {
          "output_type": "execute_result",
          "data": {
            "text/plain": [
              "[array([[0.07400211, 0.64605224, 0.5531302 , ..., 0.34216693, 0.00913578,\n",
              "         0.18726811],\n",
              "        [0.44161642, 0.54591084, 0.12892996, ..., 0.92501676, 0.94544554,\n",
              "         0.97022027],\n",
              "        [0.68128204, 0.63756245, 0.14501728, ..., 0.566935  , 0.16532257,\n",
              "         0.25375322],\n",
              "        ...,\n",
              "        [0.5678587 , 0.6209387 , 0.7473497 , ..., 0.49495584, 0.3516149 ,\n",
              "         0.54967076],\n",
              "        [0.5677403 , 0.3435644 , 0.21903563, ..., 0.96762395, 0.14938226,\n",
              "         0.69307745],\n",
              "        [0.57825357, 0.07803585, 0.67088944, ..., 0.08699651, 0.14742409,\n",
              "         0.7537201 ]], dtype=float32),\n",
              " array([0., 0., 0., 0., 0., 0., 0., 0., 0., 0., 0., 0., 0., 0., 0., 0., 0.,\n",
              "        0., 0., 0., 0., 0., 0., 0., 0., 0., 0., 0., 0., 0., 0., 0., 0., 0.,\n",
              "        0., 0., 0., 0., 0., 0., 0., 0., 0., 0., 0., 0., 0., 0., 0., 0., 0.,\n",
              "        0., 0., 0., 0., 0., 0., 0., 0., 0., 0., 0., 0., 0., 0., 0., 0., 0.,\n",
              "        0., 0., 0., 0., 0., 0., 0., 0., 0., 0., 0., 0., 0., 0., 0., 0., 0.,\n",
              "        0., 0., 0., 0., 0., 0., 0., 0., 0., 0., 0., 0., 0., 0., 0., 0., 0.,\n",
              "        0., 0., 0., 0., 0., 0., 0., 0., 0., 0., 0., 0., 0., 0., 0., 0., 0.,\n",
              "        0., 0., 0., 0., 0., 0., 0., 0., 0., 0., 0., 0., 0., 0., 0., 0., 0.,\n",
              "        0., 0., 0., 0., 0., 0., 0., 0., 0., 0., 0., 0., 0., 0., 0., 0., 0.,\n",
              "        0., 0., 0., 0., 0., 0., 0., 0., 0., 0., 0., 0., 0., 0., 0., 0., 0.,\n",
              "        0., 0., 0., 0., 0., 0., 0., 0., 0., 0., 0., 0., 0., 0., 0., 0., 0.,\n",
              "        0., 0., 0., 0., 0., 0., 0., 0., 0., 0., 0., 0., 0., 0., 0., 0., 0.,\n",
              "        0., 0., 0., 0., 0., 0., 0., 0., 0., 0., 0., 0., 0., 0., 0., 0., 0.,\n",
              "        0., 0., 0., 0., 0., 0., 0., 0., 0., 0., 0., 0., 0., 0., 0., 0., 0.,\n",
              "        0., 0., 0., 0., 0., 0., 0., 0., 0., 0., 0., 0., 0., 0., 0., 0., 0.,\n",
              "        0.], dtype=float32)]"
            ]
          },
          "metadata": {
            "tags": []
          },
          "execution_count": 27
        }
      ]
    },
    {
      "cell_type": "code",
      "metadata": {
        "id": "6E_w_YBwuSq9",
        "colab_type": "code",
        "colab": {
          "base_uri": "https://localhost:8080/",
          "height": 0
        },
        "outputId": "fcdc3f5f-2bc9-4270-9a97-ae930ccba0fb"
      },
      "source": [
        "modelo.compile(optimizer='adam',loss='sparse_categorical_crossentropy', metrics = ['accuracy']) \n",
        "\n",
        "historico = modelo.fit(x_treino, y_treino, epochs = 5, validation_split = 0.2) "
      ],
      "execution_count": 28,
      "outputs": [
        {
          "output_type": "stream",
          "text": [
            "Train on 48000 samples, validate on 12000 samples\n",
            "Epoch 1/5\n",
            "48000/48000 [==============================] - 5s 113us/sample - loss: 35.8085 - acc: 0.4098 - val_loss: 9.9257 - val_acc: 0.5891\n",
            "Epoch 2/5\n",
            "48000/48000 [==============================] - 5s 108us/sample - loss: 10.4428 - acc: 0.5805 - val_loss: 3.8403 - val_acc: 0.7072\n",
            "Epoch 3/5\n",
            "48000/48000 [==============================] - 6s 115us/sample - loss: 5.7435 - acc: 0.6413 - val_loss: 2.9794 - val_acc: 0.7135\n",
            "Epoch 4/5\n",
            "48000/48000 [==============================] - 5s 114us/sample - loss: 3.7288 - acc: 0.6840 - val_loss: 2.2345 - val_acc: 0.7416\n",
            "Epoch 5/5\n",
            "48000/48000 [==============================] - 5s 113us/sample - loss: 2.1932 - acc: 0.7210 - val_loss: 1.5682 - val_acc: 0.7563\n"
          ],
          "name": "stdout"
        }
      ]
    },
    {
      "cell_type": "code",
      "metadata": {
        "id": "VF9yh2j1uZS1",
        "colab_type": "code",
        "colab": {
          "base_uri": "https://localhost:8080/",
          "height": 0
        },
        "outputId": "9c216d72-f138-471d-aee1-82e0d6d8907a"
      },
      "source": [
        "plt.plot(historico.history['acc'])\n",
        "plt.plot(historico.history['val_acc'])\n",
        "plt.title('Acurácia por Épocas')\n",
        "plt.xlabel('Épocas')\n",
        "plt.ylabel('Acurácia')\n",
        "plt.legend(['Treino','Validação'])"
      ],
      "execution_count": 29,
      "outputs": [
        {
          "output_type": "execute_result",
          "data": {
            "text/plain": [
              "<matplotlib.legend.Legend at 0x7f1caa372d68>"
            ]
          },
          "metadata": {
            "tags": []
          },
          "execution_count": 29
        },
        {
          "output_type": "display_data",
          "data": {
            "image/png": "[encoded data removed]",
            "text/plain": [
              "<Figure size 432x288 with 1 Axes>"
            ]
          },
          "metadata": {
            "tags": []
          }
        }
      ]
    }
  ]
}