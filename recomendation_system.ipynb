{
  "nbformat": 4,
  "nbformat_minor": 0,
  "metadata": {
    "colab": {
      "name": "recomendation_system.ipynb",
      "provenance": [],
      "collapsed_sections": [],
      "include_colab_link": true
    },
    "kernelspec": {
      "name": "python3",
      "display_name": "Python 3"
    }
  },
  "cells": [
    {
      "cell_type": "markdown",
      "metadata": {
        "id": "view-in-github",
        "colab_type": "text"
      },
      "source": [
        "<a href=\"https://colab.research.google.com/github/paulovbpo/machine_learning_alura/blob/master/recomendation_system.ipynb\" target=\"_parent\"><img src=\"https://colab.research.google.com/assets/colab-badge.svg\" alt=\"Open In Colab\"/></a>"
      ]
    },
    {
      "cell_type": "markdown",
      "metadata": {
        "id": "aCB1btgTVZPG",
        "colab_type": "text"
      },
      "source": [
        "# Carrega os Dados"
      ]
    },
    {
      "cell_type": "code",
      "metadata": {
        "id": "THsO85nhJv76",
        "colab_type": "code",
        "outputId": "02c96b53-658d-43ca-9df3-74e353547bb3",
        "colab": {
          "base_uri": "https://localhost:8080/",
          "height": 227
        }
      },
      "source": [
        "import pandas as pd\n",
        "filmes = pd.read_csv('movies.csv')\n",
        "filmes.columns = ['Id_Filme','Título','Gêneros'] \n",
        "filmes = filmes.set_index('Id_Filme')  # método para mudar o índice de uma coluna\n",
        "filmes.head()"
      ],
      "execution_count": 4,
      "outputs": [
        {
          "output_type": "execute_result",
          "data": {
            "text/html": [
              "<div>\n",
              "<style scoped>\n",
              "    .dataframe tbody tr th:only-of-type {\n",
              "        vertical-align: middle;\n",
              "    }\n",
              "\n",
              "    .dataframe tbody tr th {\n",
              "        vertical-align: top;\n",
              "    }\n",
              "\n",
              "    .dataframe thead th {\n",
              "        text-align: right;\n",
              "    }\n",
              "</style>\n",
              "<table border=\"1\" class=\"dataframe\">\n",
              "  <thead>\n",
              "    <tr style=\"text-align: right;\">\n",
              "      <th></th>\n",
              "      <th>Título</th>\n",
              "      <th>Gêneros</th>\n",
              "    </tr>\n",
              "    <tr>\n",
              "      <th>Id_Filme</th>\n",
              "      <th></th>\n",
              "      <th></th>\n",
              "    </tr>\n",
              "  </thead>\n",
              "  <tbody>\n",
              "    <tr>\n",
              "      <th>1</th>\n",
              "      <td>Toy Story (1995)</td>\n",
              "      <td>Adventure|Animation|Children|Comedy|Fantasy</td>\n",
              "    </tr>\n",
              "    <tr>\n",
              "      <th>2</th>\n",
              "      <td>Jumanji (1995)</td>\n",
              "      <td>Adventure|Children|Fantasy</td>\n",
              "    </tr>\n",
              "    <tr>\n",
              "      <th>3</th>\n",
              "      <td>Grumpier Old Men (1995)</td>\n",
              "      <td>Comedy|Romance</td>\n",
              "    </tr>\n",
              "    <tr>\n",
              "      <th>4</th>\n",
              "      <td>Waiting to Exhale (1995)</td>\n",
              "      <td>Comedy|Drama|Romance</td>\n",
              "    </tr>\n",
              "    <tr>\n",
              "      <th>5</th>\n",
              "      <td>Father of the Bride Part II (1995)</td>\n",
              "      <td>Comedy</td>\n",
              "    </tr>\n",
              "  </tbody>\n",
              "</table>\n",
              "</div>"
            ],
            "text/plain": [
              "                                      Título                                      Gêneros\n",
              "Id_Filme                                                                                 \n",
              "1                           Toy Story (1995)  Adventure|Animation|Children|Comedy|Fantasy\n",
              "2                             Jumanji (1995)                   Adventure|Children|Fantasy\n",
              "3                    Grumpier Old Men (1995)                               Comedy|Romance\n",
              "4                   Waiting to Exhale (1995)                         Comedy|Drama|Romance\n",
              "5         Father of the Bride Part II (1995)                                       Comedy"
            ]
          },
          "metadata": {
            "tags": []
          },
          "execution_count": 4
        }
      ]
    },
    {
      "cell_type": "code",
      "metadata": {
        "id": "G8D_WzusTKpb",
        "colab_type": "code",
        "outputId": "781f63e1-f30d-4625-8c03-1e91c7f9cb6a",
        "colab": {
          "base_uri": "https://localhost:8080/",
          "height": 287
        }
      },
      "source": [
        "notas = pd.read_csv('ratings.csv')\n",
        "notas.columns = ['Id_Usuário','Id_Filme','Nota','Momento']\n",
        "notas.describe()   # método que retorna importantes informações numérica dos dados"
      ],
      "execution_count": 5,
      "outputs": [
        {
          "output_type": "execute_result",
          "data": {
            "text/html": [
              "<div>\n",
              "<style scoped>\n",
              "    .dataframe tbody tr th:only-of-type {\n",
              "        vertical-align: middle;\n",
              "    }\n",
              "\n",
              "    .dataframe tbody tr th {\n",
              "        vertical-align: top;\n",
              "    }\n",
              "\n",
              "    .dataframe thead th {\n",
              "        text-align: right;\n",
              "    }\n",
              "</style>\n",
              "<table border=\"1\" class=\"dataframe\">\n",
              "  <thead>\n",
              "    <tr style=\"text-align: right;\">\n",
              "      <th></th>\n",
              "      <th>Id_Usuário</th>\n",
              "      <th>Id_Filme</th>\n",
              "      <th>Nota</th>\n",
              "      <th>Momento</th>\n",
              "    </tr>\n",
              "  </thead>\n",
              "  <tbody>\n",
              "    <tr>\n",
              "      <th>count</th>\n",
              "      <td>100836.000000</td>\n",
              "      <td>100836.000000</td>\n",
              "      <td>100836.000000</td>\n",
              "      <td>1.008360e+05</td>\n",
              "    </tr>\n",
              "    <tr>\n",
              "      <th>mean</th>\n",
              "      <td>326.127564</td>\n",
              "      <td>19435.295718</td>\n",
              "      <td>3.501557</td>\n",
              "      <td>1.205946e+09</td>\n",
              "    </tr>\n",
              "    <tr>\n",
              "      <th>std</th>\n",
              "      <td>182.618491</td>\n",
              "      <td>35530.987199</td>\n",
              "      <td>1.042529</td>\n",
              "      <td>2.162610e+08</td>\n",
              "    </tr>\n",
              "    <tr>\n",
              "      <th>min</th>\n",
              "      <td>1.000000</td>\n",
              "      <td>1.000000</td>\n",
              "      <td>0.500000</td>\n",
              "      <td>8.281246e+08</td>\n",
              "    </tr>\n",
              "    <tr>\n",
              "      <th>25%</th>\n",
              "      <td>177.000000</td>\n",
              "      <td>1199.000000</td>\n",
              "      <td>3.000000</td>\n",
              "      <td>1.019124e+09</td>\n",
              "    </tr>\n",
              "    <tr>\n",
              "      <th>50%</th>\n",
              "      <td>325.000000</td>\n",
              "      <td>2991.000000</td>\n",
              "      <td>3.500000</td>\n",
              "      <td>1.186087e+09</td>\n",
              "    </tr>\n",
              "    <tr>\n",
              "      <th>75%</th>\n",
              "      <td>477.000000</td>\n",
              "      <td>8122.000000</td>\n",
              "      <td>4.000000</td>\n",
              "      <td>1.435994e+09</td>\n",
              "    </tr>\n",
              "    <tr>\n",
              "      <th>max</th>\n",
              "      <td>610.000000</td>\n",
              "      <td>193609.000000</td>\n",
              "      <td>5.000000</td>\n",
              "      <td>1.537799e+09</td>\n",
              "    </tr>\n",
              "  </tbody>\n",
              "</table>\n",
              "</div>"
            ],
            "text/plain": [
              "          Id_Usuário       Id_Filme           Nota       Momento\n",
              "count  100836.000000  100836.000000  100836.000000  1.008360e+05\n",
              "mean      326.127564   19435.295718       3.501557  1.205946e+09\n",
              "std       182.618491   35530.987199       1.042529  2.162610e+08\n",
              "min         1.000000       1.000000       0.500000  8.281246e+08\n",
              "25%       177.000000    1199.000000       3.000000  1.019124e+09\n",
              "50%       325.000000    2991.000000       3.500000  1.186087e+09\n",
              "75%       477.000000    8122.000000       4.000000  1.435994e+09\n",
              "max       610.000000  193609.000000       5.000000  1.537799e+09"
            ]
          },
          "metadata": {
            "tags": []
          },
          "execution_count": 5
        }
      ]
    },
    {
      "cell_type": "markdown",
      "metadata": {
        "id": "h57diuqRVTqP",
        "colab_type": "text"
      },
      "source": [
        "# 1° Tentativa de Recomendação:\n",
        "   **Baseado no Número de Votos**"
      ]
    },
    {
      "cell_type": "code",
      "metadata": {
        "id": "AkPvMdjSUtuY",
        "colab_type": "code",
        "colab": {
          "base_uri": "https://localhost:8080/",
          "height": 227
        },
        "outputId": "6e63cf75-e6b7-4165-b032-83991d3e6da6"
      },
      "source": [
        "total_votos = notas['Id_Filme'].value_counts()   # conta o numero de vezes que foi votado cada filme\n",
        "filmes['Total_Votos'] = total_votos     # atribui a series(variável) criada anteriormente a uma nova coluna do DF filmes\n",
        "filmes.sort_values('Total_Votos', ascending = False).head()  # ordena de forma decrescente o total de votos"
      ],
      "execution_count": 6,
      "outputs": [
        {
          "output_type": "execute_result",
          "data": {
            "text/html": [
              "<div>\n",
              "<style scoped>\n",
              "    .dataframe tbody tr th:only-of-type {\n",
              "        vertical-align: middle;\n",
              "    }\n",
              "\n",
              "    .dataframe tbody tr th {\n",
              "        vertical-align: top;\n",
              "    }\n",
              "\n",
              "    .dataframe thead th {\n",
              "        text-align: right;\n",
              "    }\n",
              "</style>\n",
              "<table border=\"1\" class=\"dataframe\">\n",
              "  <thead>\n",
              "    <tr style=\"text-align: right;\">\n",
              "      <th></th>\n",
              "      <th>Título</th>\n",
              "      <th>Gêneros</th>\n",
              "      <th>Total_Votos</th>\n",
              "    </tr>\n",
              "    <tr>\n",
              "      <th>Id_Filme</th>\n",
              "      <th></th>\n",
              "      <th></th>\n",
              "      <th></th>\n",
              "    </tr>\n",
              "  </thead>\n",
              "  <tbody>\n",
              "    <tr>\n",
              "      <th>356</th>\n",
              "      <td>Forrest Gump (1994)</td>\n",
              "      <td>Comedy|Drama|Romance|War</td>\n",
              "      <td>329.0</td>\n",
              "    </tr>\n",
              "    <tr>\n",
              "      <th>318</th>\n",
              "      <td>Shawshank Redemption, The (1994)</td>\n",
              "      <td>Crime|Drama</td>\n",
              "      <td>317.0</td>\n",
              "    </tr>\n",
              "    <tr>\n",
              "      <th>296</th>\n",
              "      <td>Pulp Fiction (1994)</td>\n",
              "      <td>Comedy|Crime|Drama|Thriller</td>\n",
              "      <td>307.0</td>\n",
              "    </tr>\n",
              "    <tr>\n",
              "      <th>593</th>\n",
              "      <td>Silence of the Lambs, The (1991)</td>\n",
              "      <td>Crime|Horror|Thriller</td>\n",
              "      <td>279.0</td>\n",
              "    </tr>\n",
              "    <tr>\n",
              "      <th>2571</th>\n",
              "      <td>Matrix, The (1999)</td>\n",
              "      <td>Action|Sci-Fi|Thriller</td>\n",
              "      <td>278.0</td>\n",
              "    </tr>\n",
              "  </tbody>\n",
              "</table>\n",
              "</div>"
            ],
            "text/plain": [
              "                                    Título  ... Total_Votos\n",
              "Id_Filme                                    ...            \n",
              "356                    Forrest Gump (1994)  ...       329.0\n",
              "318       Shawshank Redemption, The (1994)  ...       317.0\n",
              "296                    Pulp Fiction (1994)  ...       307.0\n",
              "593       Silence of the Lambs, The (1991)  ...       279.0\n",
              "2571                    Matrix, The (1999)  ...       278.0\n",
              "\n",
              "[5 rows x 3 columns]"
            ]
          },
          "metadata": {
            "tags": []
          },
          "execution_count": 6
        }
      ]
    },
    {
      "cell_type": "code",
      "metadata": {
        "id": "ez6FroJUV2ZX",
        "colab_type": "code",
        "colab": {
          "base_uri": "https://localhost:8080/",
          "height": 87
        },
        "outputId": "b0a79c4b-bfeb-4bfd-ea1f-d69c2244c5fa"
      },
      "source": [
        "filmes.loc[700]   # método para localizar determinado dado"
      ],
      "execution_count": 7,
      "outputs": [
        {
          "output_type": "execute_result",
          "data": {
            "text/plain": [
              "Título         Angus (1995)\n",
              "Gêneros              Comedy\n",
              "Total_Votos               7\n",
              "Name: 700, dtype: object"
            ]
          },
          "metadata": {
            "tags": []
          },
          "execution_count": 7
        }
      ]
    },
    {
      "cell_type": "markdown",
      "metadata": {
        "id": "Pkuhq1HLaTW-",
        "colab_type": "text"
      },
      "source": [
        "# 2° Tentativa de Recomendação:\n",
        "  **Baseado na Média das Notas**"
      ]
    },
    {
      "cell_type": "code",
      "metadata": {
        "id": "zhemJFfiWqqx",
        "colab_type": "code",
        "colab": {
          "base_uri": "https://localhost:8080/",
          "height": 227
        },
        "outputId": "94555a31-5697-4879-f7b6-d603805c8573"
      },
      "source": [
        "media_notas = notas.groupby('Id_Filme').mean()['Nota']  # agrupa a coluna do Id_Filme pela media da coluna 'Nota'\n",
        "filmes['Média_Notas'] = media_notas  # atribui a series(variável) criada anteriormente a uma nova coluna do DF filmes\n",
        "filmes.sort_values('Média_Notas', ascending = False).head() # ordena de forma decrescente a média de notas "
      ],
      "execution_count": 8,
      "outputs": [
        {
          "output_type": "execute_result",
          "data": {
            "text/html": [
              "<div>\n",
              "<style scoped>\n",
              "    .dataframe tbody tr th:only-of-type {\n",
              "        vertical-align: middle;\n",
              "    }\n",
              "\n",
              "    .dataframe tbody tr th {\n",
              "        vertical-align: top;\n",
              "    }\n",
              "\n",
              "    .dataframe thead th {\n",
              "        text-align: right;\n",
              "    }\n",
              "</style>\n",
              "<table border=\"1\" class=\"dataframe\">\n",
              "  <thead>\n",
              "    <tr style=\"text-align: right;\">\n",
              "      <th></th>\n",
              "      <th>Título</th>\n",
              "      <th>Gêneros</th>\n",
              "      <th>Total_Votos</th>\n",
              "      <th>Média_Notas</th>\n",
              "    </tr>\n",
              "    <tr>\n",
              "      <th>Id_Filme</th>\n",
              "      <th></th>\n",
              "      <th></th>\n",
              "      <th></th>\n",
              "      <th></th>\n",
              "    </tr>\n",
              "  </thead>\n",
              "  <tbody>\n",
              "    <tr>\n",
              "      <th>88448</th>\n",
              "      <td>Paper Birds (Pájaros de papel) (2010)</td>\n",
              "      <td>Comedy|Drama</td>\n",
              "      <td>1.0</td>\n",
              "      <td>5.0</td>\n",
              "    </tr>\n",
              "    <tr>\n",
              "      <th>100556</th>\n",
              "      <td>Act of Killing, The (2012)</td>\n",
              "      <td>Documentary</td>\n",
              "      <td>1.0</td>\n",
              "      <td>5.0</td>\n",
              "    </tr>\n",
              "    <tr>\n",
              "      <th>143031</th>\n",
              "      <td>Jump In! (2007)</td>\n",
              "      <td>Comedy|Drama|Romance</td>\n",
              "      <td>1.0</td>\n",
              "      <td>5.0</td>\n",
              "    </tr>\n",
              "    <tr>\n",
              "      <th>143511</th>\n",
              "      <td>Human (2015)</td>\n",
              "      <td>Documentary</td>\n",
              "      <td>1.0</td>\n",
              "      <td>5.0</td>\n",
              "    </tr>\n",
              "    <tr>\n",
              "      <th>143559</th>\n",
              "      <td>L.A. Slasher (2015)</td>\n",
              "      <td>Comedy|Crime|Fantasy</td>\n",
              "      <td>1.0</td>\n",
              "      <td>5.0</td>\n",
              "    </tr>\n",
              "  </tbody>\n",
              "</table>\n",
              "</div>"
            ],
            "text/plain": [
              "                                         Título  ... Média_Notas\n",
              "Id_Filme                                         ...            \n",
              "88448     Paper Birds (Pájaros de papel) (2010)  ...         5.0\n",
              "100556               Act of Killing, The (2012)  ...         5.0\n",
              "143031                          Jump In! (2007)  ...         5.0\n",
              "143511                             Human (2015)  ...         5.0\n",
              "143559                      L.A. Slasher (2015)  ...         5.0\n",
              "\n",
              "[5 rows x 4 columns]"
            ]
          },
          "metadata": {
            "tags": []
          },
          "execution_count": 8
        }
      ]
    },
    {
      "cell_type": "markdown",
      "metadata": {
        "id": "N6ITmuirfu8f",
        "colab_type": "text"
      },
      "source": [
        "# 3° Tentativa de Recomendação:\n",
        "  **Média das Notas com Filtragem dos Números de Votos**"
      ]
    },
    {
      "cell_type": "code",
      "metadata": {
        "id": "c7yq7iG2alJG",
        "colab_type": "code",
        "colab": {
          "base_uri": "https://localhost:8080/",
          "height": 227
        },
        "outputId": "bb543d41-1efc-47f0-90f4-e289aea46f47"
      },
      "source": [
        "filmes_mais_50_votos = filmes.query('Total_Votos >= 50')\n",
        "filmes_mais_50_votos.sort_values('Média_Notas', ascending = False).head() \n",
        "# método query filtra o conjunto de dados baseado em uma condição "
      ],
      "execution_count": 9,
      "outputs": [
        {
          "output_type": "execute_result",
          "data": {
            "text/html": [
              "<div>\n",
              "<style scoped>\n",
              "    .dataframe tbody tr th:only-of-type {\n",
              "        vertical-align: middle;\n",
              "    }\n",
              "\n",
              "    .dataframe tbody tr th {\n",
              "        vertical-align: top;\n",
              "    }\n",
              "\n",
              "    .dataframe thead th {\n",
              "        text-align: right;\n",
              "    }\n",
              "</style>\n",
              "<table border=\"1\" class=\"dataframe\">\n",
              "  <thead>\n",
              "    <tr style=\"text-align: right;\">\n",
              "      <th></th>\n",
              "      <th>Título</th>\n",
              "      <th>Gêneros</th>\n",
              "      <th>Total_Votos</th>\n",
              "      <th>Média_Notas</th>\n",
              "    </tr>\n",
              "    <tr>\n",
              "      <th>Id_Filme</th>\n",
              "      <th></th>\n",
              "      <th></th>\n",
              "      <th></th>\n",
              "      <th></th>\n",
              "    </tr>\n",
              "  </thead>\n",
              "  <tbody>\n",
              "    <tr>\n",
              "      <th>318</th>\n",
              "      <td>Shawshank Redemption, The (1994)</td>\n",
              "      <td>Crime|Drama</td>\n",
              "      <td>317.0</td>\n",
              "      <td>4.429022</td>\n",
              "    </tr>\n",
              "    <tr>\n",
              "      <th>858</th>\n",
              "      <td>Godfather, The (1972)</td>\n",
              "      <td>Crime|Drama</td>\n",
              "      <td>192.0</td>\n",
              "      <td>4.289062</td>\n",
              "    </tr>\n",
              "    <tr>\n",
              "      <th>2959</th>\n",
              "      <td>Fight Club (1999)</td>\n",
              "      <td>Action|Crime|Drama|Thriller</td>\n",
              "      <td>218.0</td>\n",
              "      <td>4.272936</td>\n",
              "    </tr>\n",
              "    <tr>\n",
              "      <th>1276</th>\n",
              "      <td>Cool Hand Luke (1967)</td>\n",
              "      <td>Drama</td>\n",
              "      <td>57.0</td>\n",
              "      <td>4.271930</td>\n",
              "    </tr>\n",
              "    <tr>\n",
              "      <th>750</th>\n",
              "      <td>Dr. Strangelove or: How I Learned to Stop Worr...</td>\n",
              "      <td>Comedy|War</td>\n",
              "      <td>97.0</td>\n",
              "      <td>4.268041</td>\n",
              "    </tr>\n",
              "  </tbody>\n",
              "</table>\n",
              "</div>"
            ],
            "text/plain": [
              "                                                     Título  ... Média_Notas\n",
              "Id_Filme                                                     ...            \n",
              "318                        Shawshank Redemption, The (1994)  ...    4.429022\n",
              "858                                   Godfather, The (1972)  ...    4.289062\n",
              "2959                                      Fight Club (1999)  ...    4.272936\n",
              "1276                                  Cool Hand Luke (1967)  ...    4.271930\n",
              "750       Dr. Strangelove or: How I Learned to Stop Worr...  ...    4.268041\n",
              "\n",
              "[5 rows x 4 columns]"
            ]
          },
          "metadata": {
            "tags": []
          },
          "execution_count": 9
        }
      ]
    },
    {
      "cell_type": "markdown",
      "metadata": {
        "id": "sb8Wf0RQ50NI",
        "colab_type": "text"
      },
      "source": [
        "# 4° Tentativa de Recomendação\n",
        "**Filmes assistidos e Gêneros**"
      ]
    },
    {
      "cell_type": "code",
      "metadata": {
        "id": "FmX4-hCJf8ZI",
        "colab_type": "code",
        "colab": {
          "base_uri": "https://localhost:8080/",
          "height": 287
        },
        "outputId": "55990630-6e4f-4a9c-aa54-782894614c82"
      },
      "source": [
        "filmes_assistidos = [1, 17, 19, 22, 29, 44, 66]\n",
        "filmes.loc[filmes_assistidos]"
      ],
      "execution_count": 10,
      "outputs": [
        {
          "output_type": "execute_result",
          "data": {
            "text/html": [
              "<div>\n",
              "<style scoped>\n",
              "    .dataframe tbody tr th:only-of-type {\n",
              "        vertical-align: middle;\n",
              "    }\n",
              "\n",
              "    .dataframe tbody tr th {\n",
              "        vertical-align: top;\n",
              "    }\n",
              "\n",
              "    .dataframe thead th {\n",
              "        text-align: right;\n",
              "    }\n",
              "</style>\n",
              "<table border=\"1\" class=\"dataframe\">\n",
              "  <thead>\n",
              "    <tr style=\"text-align: right;\">\n",
              "      <th></th>\n",
              "      <th>Título</th>\n",
              "      <th>Gêneros</th>\n",
              "      <th>Total_Votos</th>\n",
              "      <th>Média_Notas</th>\n",
              "    </tr>\n",
              "    <tr>\n",
              "      <th>Id_Filme</th>\n",
              "      <th></th>\n",
              "      <th></th>\n",
              "      <th></th>\n",
              "      <th></th>\n",
              "    </tr>\n",
              "  </thead>\n",
              "  <tbody>\n",
              "    <tr>\n",
              "      <th>1</th>\n",
              "      <td>Toy Story (1995)</td>\n",
              "      <td>Adventure|Animation|Children|Comedy|Fantasy</td>\n",
              "      <td>215.0</td>\n",
              "      <td>3.920930</td>\n",
              "    </tr>\n",
              "    <tr>\n",
              "      <th>17</th>\n",
              "      <td>Sense and Sensibility (1995)</td>\n",
              "      <td>Drama|Romance</td>\n",
              "      <td>67.0</td>\n",
              "      <td>3.776119</td>\n",
              "    </tr>\n",
              "    <tr>\n",
              "      <th>19</th>\n",
              "      <td>Ace Ventura: When Nature Calls (1995)</td>\n",
              "      <td>Comedy</td>\n",
              "      <td>88.0</td>\n",
              "      <td>2.727273</td>\n",
              "    </tr>\n",
              "    <tr>\n",
              "      <th>22</th>\n",
              "      <td>Copycat (1995)</td>\n",
              "      <td>Crime|Drama|Horror|Mystery|Thriller</td>\n",
              "      <td>36.0</td>\n",
              "      <td>3.222222</td>\n",
              "    </tr>\n",
              "    <tr>\n",
              "      <th>29</th>\n",
              "      <td>City of Lost Children, The (Cité des enfants p...</td>\n",
              "      <td>Adventure|Drama|Fantasy|Mystery|Sci-Fi</td>\n",
              "      <td>38.0</td>\n",
              "      <td>4.013158</td>\n",
              "    </tr>\n",
              "    <tr>\n",
              "      <th>44</th>\n",
              "      <td>Mortal Kombat (1995)</td>\n",
              "      <td>Action|Adventure|Fantasy</td>\n",
              "      <td>46.0</td>\n",
              "      <td>2.543478</td>\n",
              "    </tr>\n",
              "    <tr>\n",
              "      <th>66</th>\n",
              "      <td>Lawnmower Man 2: Beyond Cyberspace (1996)</td>\n",
              "      <td>Action|Sci-Fi|Thriller</td>\n",
              "      <td>9.0</td>\n",
              "      <td>2.500000</td>\n",
              "    </tr>\n",
              "  </tbody>\n",
              "</table>\n",
              "</div>"
            ],
            "text/plain": [
              "                                                     Título  ... Média_Notas\n",
              "Id_Filme                                                     ...            \n",
              "1                                          Toy Story (1995)  ...    3.920930\n",
              "17                             Sense and Sensibility (1995)  ...    3.776119\n",
              "19                    Ace Ventura: When Nature Calls (1995)  ...    2.727273\n",
              "22                                           Copycat (1995)  ...    3.222222\n",
              "29        City of Lost Children, The (Cité des enfants p...  ...    4.013158\n",
              "44                                     Mortal Kombat (1995)  ...    2.543478\n",
              "66                Lawnmower Man 2: Beyond Cyberspace (1996)  ...    2.500000\n",
              "\n",
              "[7 rows x 4 columns]"
            ]
          },
          "metadata": {
            "tags": []
          },
          "execution_count": 10
        }
      ]
    },
    {
      "cell_type": "code",
      "metadata": {
        "id": "Qwm2m5Hk6-H7",
        "colab_type": "code",
        "colab": {
          "base_uri": "https://localhost:8080/",
          "height": 167
        },
        "outputId": "99965896-e0a2-4295-f4c5-7613ccd778f7"
      },
      "source": [
        "# filtra os generos iguais a estes e filmes com mais de 50 votos\n",
        "acao_aventura_fantasia = filmes_mais_50_votos.query(\"Gêneros == 'Action|Adventure|Fantasy'\")\n",
        "\n",
        "acao_aventura_fantasia.drop(filmes_assistidos, errors = 'ignore').sort_values('Média_Notas', ascending = False).head()\n",
        "# método drop para retirar filmes desses gêneros que ja foram assitidos, e ignorar os erros pois dentro dos filmes assistidos existem de outros generos"
      ],
      "execution_count": 11,
      "outputs": [
        {
          "output_type": "execute_result",
          "data": {
            "text/html": [
              "<div>\n",
              "<style scoped>\n",
              "    .dataframe tbody tr th:only-of-type {\n",
              "        vertical-align: middle;\n",
              "    }\n",
              "\n",
              "    .dataframe tbody tr th {\n",
              "        vertical-align: top;\n",
              "    }\n",
              "\n",
              "    .dataframe thead th {\n",
              "        text-align: right;\n",
              "    }\n",
              "</style>\n",
              "<table border=\"1\" class=\"dataframe\">\n",
              "  <thead>\n",
              "    <tr style=\"text-align: right;\">\n",
              "      <th></th>\n",
              "      <th>Título</th>\n",
              "      <th>Gêneros</th>\n",
              "      <th>Total_Votos</th>\n",
              "      <th>Média_Notas</th>\n",
              "    </tr>\n",
              "    <tr>\n",
              "      <th>Id_Filme</th>\n",
              "      <th></th>\n",
              "      <th></th>\n",
              "      <th></th>\n",
              "      <th></th>\n",
              "    </tr>\n",
              "  </thead>\n",
              "  <tbody>\n",
              "    <tr>\n",
              "      <th>2115</th>\n",
              "      <td>Indiana Jones and the Temple of Doom (1984)</td>\n",
              "      <td>Action|Adventure|Fantasy</td>\n",
              "      <td>108.0</td>\n",
              "      <td>3.638889</td>\n",
              "    </tr>\n",
              "    <tr>\n",
              "      <th>45722</th>\n",
              "      <td>Pirates of the Caribbean: Dead Man's Chest (2006)</td>\n",
              "      <td>Action|Adventure|Fantasy</td>\n",
              "      <td>72.0</td>\n",
              "      <td>3.506944</td>\n",
              "    </tr>\n",
              "    <tr>\n",
              "      <th>653</th>\n",
              "      <td>Dragonheart (1996)</td>\n",
              "      <td>Action|Adventure|Fantasy</td>\n",
              "      <td>65.0</td>\n",
              "      <td>3.092308</td>\n",
              "    </tr>\n",
              "  </tbody>\n",
              "</table>\n",
              "</div>"
            ],
            "text/plain": [
              "                                                     Título  ... Média_Notas\n",
              "Id_Filme                                                     ...            \n",
              "2115            Indiana Jones and the Temple of Doom (1984)  ...    3.638889\n",
              "45722     Pirates of the Caribbean: Dead Man's Chest (2006)  ...    3.506944\n",
              "653                                      Dragonheart (1996)  ...    3.092308\n",
              "\n",
              "[3 rows x 4 columns]"
            ]
          },
          "metadata": {
            "tags": []
          },
          "execution_count": 11
        }
      ]
    },
    {
      "cell_type": "markdown",
      "metadata": {
        "id": "tSm28dLyDIXR",
        "colab_type": "text"
      },
      "source": [
        "# 5° Tentativa de Recomendação\n",
        "**Filmes similares que outras pessoas assistiram**"
      ]
    },
    {
      "cell_type": "code",
      "metadata": {
        "id": "zXL_pM1pPdhm",
        "colab_type": "code",
        "colab": {}
      },
      "source": [
        "import numpy as np\n",
        "# função para calcular a distância entre dois vetores\n",
        "def distancia_vetores(a,b):\n",
        "  return np.linalg.norm(a - b)"
      ],
      "execution_count": 0,
      "outputs": []
    },
    {
      "cell_type": "code",
      "metadata": {
        "id": "tf5PMSYS8tW_",
        "colab_type": "code",
        "colab": {}
      },
      "source": [
        "# função para filtrar as notas de um usuário específico\n",
        "def notas_usuario(usuario):\n",
        "  notas_usuario = notas.query(\"Id_Usuário == %d\" %usuario) \n",
        "  notas_usuario = notas_usuario[['Id_Filme','Nota']].set_index('Id_Filme')  # seleciona apenas as colunas do IdFilme e Nota, além de substituir o index\n",
        "  return notas_usuario"
      ],
      "execution_count": 0,
      "outputs": []
    },
    {
      "cell_type": "code",
      "metadata": {
        "id": "dMihhrzPJ6j6",
        "colab_type": "code",
        "colab": {}
      },
      "source": [
        "# função para calcular a distância entre dois usuários\n",
        "def distancia_usuarios(user_1,user_2):\n",
        "  notas1 = notas_usuario(user_1)\n",
        "  notas2 = notas_usuario(user_2)\n",
        "  diferencas = notas1.join(notas2, lsuffix = \"_Esquerda\", rsuffix=\"_Direita\").dropna() # método dropna para exlcuir os filmes que apenas o usuario1 assistiu\n",
        "  # método join para juntar os DF, tendo que passar sufixos para o nome da coluna Nota para diferencia-las\n",
        "  \n",
        "  \n",
        "  minimo = 5\n",
        "  if(len(diferencas)< minimo):    # para desconsiderar usuarios que possuam um mínimo de filmes em comum\n",
        "   return [user_1, user_2, 9999] \n",
        "  #  return None\n",
        "    \n",
        "  \n",
        "  distancia = distancia_vetores(diferencas['Nota_Esquerda'],diferencas['Nota_Direita'])\n",
        "  return [user_1, user_2, distancia]"
      ],
      "execution_count": 0,
      "outputs": []
    },
    {
      "cell_type": "code",
      "metadata": {
        "id": "Vl6ij3XwQHlx",
        "colab_type": "code",
        "colab": {}
      },
      "source": [
        "# função para calcular a distância entre um usuário e o resto\n",
        "def distancia_todos(usuario):\n",
        "  todos_usuarios = notas['Id_Usuário'].unique()   # método unique para receber todos os usuários do DF\n",
        "  distancias = [distancia_usuarios(usuario, usuario_id) for usuario_id in todos_usuarios] # um loop para percorrer cada usuario\n",
        "  distancias = pd.DataFrame(distancias, columns = ['Usuário_Escolhido','Todos_Usuários','Distância'])  # transforma a variável distancias em uma DF para poder maniupala-la melhor  \n",
        "  return distancias"
      ],
      "execution_count": 0,
      "outputs": []
    },
    {
      "cell_type": "code",
      "metadata": {
        "id": "z1vlPQzskY6z",
        "colab_type": "code",
        "colab": {}
      },
      "source": [
        "# função para ordenar a distancia entre os usuários\n",
        "def ordem_distancia(usuario):\n",
        "  distancias = distancia_todos(usuario)\n",
        "  distancias = distancias.sort_values('Distância')  # coloca em ordem crescente\n",
        "  distancias = distancias.set_index('Todos_Usuários').drop(usuario)  # coloca a coluna de todos os usuarios como índice e retira a 1° linha para não comparar com o proprio usuario\n",
        "  return distancias"
      ],
      "execution_count": 0,
      "outputs": []
    },
    {
      "cell_type": "code",
      "metadata": {
        "id": "FW8ZDYcyTNBE",
        "colab_type": "code",
        "colab": {
          "base_uri": "https://localhost:8080/",
          "height": 197
        },
        "outputId": "615249b5-ccc0-45b9-a507-e0d0956487bf"
      },
      "source": [
        "distancia_todos(1).head()"
      ],
      "execution_count": 17,
      "outputs": [
        {
          "output_type": "execute_result",
          "data": {
            "text/html": [
              "<div>\n",
              "<style scoped>\n",
              "    .dataframe tbody tr th:only-of-type {\n",
              "        vertical-align: middle;\n",
              "    }\n",
              "\n",
              "    .dataframe tbody tr th {\n",
              "        vertical-align: top;\n",
              "    }\n",
              "\n",
              "    .dataframe thead th {\n",
              "        text-align: right;\n",
              "    }\n",
              "</style>\n",
              "<table border=\"1\" class=\"dataframe\">\n",
              "  <thead>\n",
              "    <tr style=\"text-align: right;\">\n",
              "      <th></th>\n",
              "      <th>Usuário_Escolhido</th>\n",
              "      <th>Todos_Usuários</th>\n",
              "      <th>Distância</th>\n",
              "    </tr>\n",
              "  </thead>\n",
              "  <tbody>\n",
              "    <tr>\n",
              "      <th>0</th>\n",
              "      <td>1</td>\n",
              "      <td>1</td>\n",
              "      <td>0.000000</td>\n",
              "    </tr>\n",
              "    <tr>\n",
              "      <th>1</th>\n",
              "      <td>1</td>\n",
              "      <td>2</td>\n",
              "      <td>9999.000000</td>\n",
              "    </tr>\n",
              "    <tr>\n",
              "      <th>2</th>\n",
              "      <td>1</td>\n",
              "      <td>3</td>\n",
              "      <td>8.200610</td>\n",
              "    </tr>\n",
              "    <tr>\n",
              "      <th>3</th>\n",
              "      <td>1</td>\n",
              "      <td>4</td>\n",
              "      <td>11.135529</td>\n",
              "    </tr>\n",
              "    <tr>\n",
              "      <th>4</th>\n",
              "      <td>1</td>\n",
              "      <td>5</td>\n",
              "      <td>3.741657</td>\n",
              "    </tr>\n",
              "  </tbody>\n",
              "</table>\n",
              "</div>"
            ],
            "text/plain": [
              "   Usuário_Escolhido  Todos_Usuários    Distância\n",
              "0                  1               1     0.000000\n",
              "1                  1               2  9999.000000\n",
              "2                  1               3     8.200610\n",
              "3                  1               4    11.135529\n",
              "4                  1               5     3.741657"
            ]
          },
          "metadata": {
            "tags": []
          },
          "execution_count": 17
        }
      ]
    },
    {
      "cell_type": "markdown",
      "metadata": {
        "id": "31idAJYBU52s",
        "colab_type": "text"
      },
      "source": [
        "# 6° Tentativa de Recomendação\n",
        "**Filmes similares da pessoa mais próxima**"
      ]
    },
    {
      "cell_type": "code",
      "metadata": {
        "id": "S_U8svZHc85k",
        "colab_type": "code",
        "colab": {}
      },
      "source": [
        "# função para achar usuários com notas mais próximas, passando a quantidade de usuários que é para ser analisado\n",
        "def mais_proximos(usuario, num_usuarios = None):\n",
        "  distancias = distancia_todos(usuario, num_usuarios = num_usuarios)\n",
        "  distancias = distancias.sort_values('Distância')  # coloca em ordem crescente\n",
        "  distancias = distancias.set_index('Todos_Usuários').drop(usuario)  # coloca a coluna de todos os usuarios como índice e retira a 1° linha para não comparar com o proprio usuario\n",
        "  return distancias"
      ],
      "execution_count": 0,
      "outputs": []
    },
    {
      "cell_type": "code",
      "metadata": {
        "id": "tvSRu3-tg9UZ",
        "colab_type": "code",
        "colab": {}
      },
      "source": [
        "def distancia_todos(usuario, num_usuarios = None):\n",
        "  todos_usuarios = notas['Id_Usuário'].unique()   # método unique para receber todos os usuários do DF\n",
        "  if num_usuarios:\n",
        "    todos_usuarios = todos_usuarios[:num_usuarios]   # para percorrer até o número desejado de usuários\n",
        "    \n",
        "  distancias = [distancia_usuarios(usuario, usuario_id) for usuario_id in todos_usuarios] # um loop para percorrer cada usuario\n",
        "  distancias = list(filter(None,distancias))    # para filtrar os usuários que possuem muito pouco em comum\n",
        "  distancias = pd.DataFrame(distancias, columns = ['Usuário_Escolhido','Todos_Usuários','Distância'])  # transforma a variável distancias em uma DF para poder maniupala-la melhor  \n",
        "  return distancias"
      ],
      "execution_count": 0,
      "outputs": []
    },
    {
      "cell_type": "code",
      "metadata": {
        "id": "xA0KTIQkW_QK",
        "colab_type": "code",
        "colab": {}
      },
      "source": [
        "# função que recomenda baseado no que a pessoa mais similar a ela viu\n",
        "def recomendar(usuario, num_usuarios = None):\n",
        "  notas_usuario_escolhido = notas_usuario(usuario)  # pega as notas do usuario escolhido\n",
        "  filmes_vistos = notas_usuario_escolhido.index     # extrai os filmes ja vistos por ele\n",
        "\n",
        "\n",
        "  similares = mais_proximos(usuario, num_usuarios = num_usuarios) # pega os usuarios mais similares\n",
        "  similar = similares.iloc[0].name  # pega o índice (name) da primeira linha(iloc), para selecionar o usuário mais similar\n",
        "  notas_similar = notas_usuario(similar)  # extrai as notas do usuario mais similiar\n",
        "  notas_similar = notas_similar.drop(filmes_vistos, errors = 'ignore')  # retira os filmes ja vistos pelo usuario escolhido\n",
        "  recomendacao = notas_similar.sort_values('Nota', ascending = False).join(filmes)  # ordena de acordo com as notas que a pessoa similar deu, e junta com o DF de filmes(1° criado)\n",
        "  return recomendacao"
      ],
      "execution_count": 0,
      "outputs": []
    },
    {
      "cell_type": "code",
      "metadata": {
        "id": "MwCLeKmQXFVc",
        "colab_type": "code",
        "colab": {
          "base_uri": "https://localhost:8080/",
          "height": 227
        },
        "outputId": "aecf620d-00bd-4122-e6e1-ddd504ad46be"
      },
      "source": [
        "recomendar(1).head()"
      ],
      "execution_count": 21,
      "outputs": [
        {
          "output_type": "execute_result",
          "data": {
            "text/html": [
              "<div>\n",
              "<style scoped>\n",
              "    .dataframe tbody tr th:only-of-type {\n",
              "        vertical-align: middle;\n",
              "    }\n",
              "\n",
              "    .dataframe tbody tr th {\n",
              "        vertical-align: top;\n",
              "    }\n",
              "\n",
              "    .dataframe thead th {\n",
              "        text-align: right;\n",
              "    }\n",
              "</style>\n",
              "<table border=\"1\" class=\"dataframe\">\n",
              "  <thead>\n",
              "    <tr style=\"text-align: right;\">\n",
              "      <th></th>\n",
              "      <th>Nota</th>\n",
              "      <th>Título</th>\n",
              "      <th>Gêneros</th>\n",
              "      <th>Total_Votos</th>\n",
              "      <th>Média_Notas</th>\n",
              "    </tr>\n",
              "    <tr>\n",
              "      <th>Id_Filme</th>\n",
              "      <th></th>\n",
              "      <th></th>\n",
              "      <th></th>\n",
              "      <th></th>\n",
              "      <th></th>\n",
              "    </tr>\n",
              "  </thead>\n",
              "  <tbody>\n",
              "    <tr>\n",
              "      <th>8636</th>\n",
              "      <td>5.0</td>\n",
              "      <td>Spider-Man 2 (2004)</td>\n",
              "      <td>Action|Adventure|Sci-Fi|IMAX</td>\n",
              "      <td>79.0</td>\n",
              "      <td>3.803797</td>\n",
              "    </tr>\n",
              "    <tr>\n",
              "      <th>58559</th>\n",
              "      <td>5.0</td>\n",
              "      <td>Dark Knight, The (2008)</td>\n",
              "      <td>Action|Crime|Drama|IMAX</td>\n",
              "      <td>149.0</td>\n",
              "      <td>4.238255</td>\n",
              "    </tr>\n",
              "    <tr>\n",
              "      <th>33794</th>\n",
              "      <td>5.0</td>\n",
              "      <td>Batman Begins (2005)</td>\n",
              "      <td>Action|Crime|IMAX</td>\n",
              "      <td>116.0</td>\n",
              "      <td>3.862069</td>\n",
              "    </tr>\n",
              "    <tr>\n",
              "      <th>4993</th>\n",
              "      <td>5.0</td>\n",
              "      <td>Lord of the Rings: The Fellowship of the Ring,...</td>\n",
              "      <td>Adventure|Fantasy</td>\n",
              "      <td>198.0</td>\n",
              "      <td>4.106061</td>\n",
              "    </tr>\n",
              "    <tr>\n",
              "      <th>5349</th>\n",
              "      <td>5.0</td>\n",
              "      <td>Spider-Man (2002)</td>\n",
              "      <td>Action|Adventure|Sci-Fi|Thriller</td>\n",
              "      <td>122.0</td>\n",
              "      <td>3.540984</td>\n",
              "    </tr>\n",
              "  </tbody>\n",
              "</table>\n",
              "</div>"
            ],
            "text/plain": [
              "          Nota  ... Média_Notas\n",
              "Id_Filme        ...            \n",
              "8636       5.0  ...    3.803797\n",
              "58559      5.0  ...    4.238255\n",
              "33794      5.0  ...    3.862069\n",
              "4993       5.0  ...    4.106061\n",
              "5349       5.0  ...    3.540984\n",
              "\n",
              "[5 rows x 5 columns]"
            ]
          },
          "metadata": {
            "tags": []
          },
          "execution_count": 21
        }
      ]
    },
    {
      "cell_type": "markdown",
      "metadata": {
        "id": "JmvVsPqPlF3v",
        "colab_type": "text"
      },
      "source": [
        "# 7° Tentativa de Recomendação\n",
        "**Filmes similares DAS PESSOAS mais próximas**"
      ]
    },
    {
      "cell_type": "code",
      "metadata": {
        "id": "S5QWlrbKPVjP",
        "colab_type": "code",
        "colab": {}
      },
      "source": [
        "# praticamente igual a função mais_proximos porem com o nome mais usual(também conhecido como KNN), além de passar a quantidade de usuários mais próximos\n",
        "def k_nearest_neighbors(usuario, k_mais_proximos = 10 ,num_usuarios = None):\n",
        "  distancias = distancia_todos(usuario, num_usuarios = num_usuarios)\n",
        "  distancias = distancias.sort_values('Distância')  # coloca em ordem crescente\n",
        "  distancias = distancias.set_index('Todos_Usuários').drop(usuario)  # coloca a coluna de todos os usuarios como índice e retira a 1° linha para não comparar com o proprio usuario\n",
        "  return distancias.head(k_mais_proximos)"
      ],
      "execution_count": 0,
      "outputs": []
    },
    {
      "cell_type": "code",
      "metadata": {
        "id": "DCeXdw7Xijge",
        "colab_type": "code",
        "colab": {}
      },
      "source": [
        "# função que recomenda baseado no que as pessoas mais similares a ela viram\n",
        "def recomendam(usuario, k_mais_proximos = 10, num_usuarios = None):\n",
        "  notas_usuario_escolhido = notas_usuario(usuario)  # pega as notas do usuario escolhido\n",
        "  filmes_vistos = notas_usuario_escolhido.index     # extrai os filmes ja vistos por ele\n",
        "\n",
        "  similares = k_nearest_neighbors(usuario, k_mais_proximos = k_mais_proximos , num_usuarios = num_usuarios) # pega os usuarios mais similares\n",
        "  usuarios_similares = similares.index   # pega o índice dos usuários mais similares\n",
        "  notas_similares = notas.set_index('Id_Usuário').loc[usuarios_similares]  # dentro do Id_Usuario, do DF notas, localizar os usuários similares \n",
        "  recomendacao = notas_similares.groupby('Id_Filme').mean()[['Nota']]  # agrupa pelos filmes e retorna a média das notas dos usuários similares, usando dois colchetes para retornar um DF\n",
        "  recomendacao = recomendacao.sort_values('Nota', ascending = False).join(filmes) \n",
        "  return recomendacao"
      ],
      "execution_count": 0,
      "outputs": []
    },
    {
      "cell_type": "code",
      "metadata": {
        "id": "-JQWRUoqRKTL",
        "colab_type": "code",
        "colab": {
          "base_uri": "https://localhost:8080/",
          "height": 227
        },
        "outputId": "ddc61bc0-0454-4ee2-9cb0-3c7c09c29987"
      },
      "source": [
        "recomendam(1).head()"
      ],
      "execution_count": 24,
      "outputs": [
        {
          "output_type": "execute_result",
          "data": {
            "text/html": [
              "<div>\n",
              "<style scoped>\n",
              "    .dataframe tbody tr th:only-of-type {\n",
              "        vertical-align: middle;\n",
              "    }\n",
              "\n",
              "    .dataframe tbody tr th {\n",
              "        vertical-align: top;\n",
              "    }\n",
              "\n",
              "    .dataframe thead th {\n",
              "        text-align: right;\n",
              "    }\n",
              "</style>\n",
              "<table border=\"1\" class=\"dataframe\">\n",
              "  <thead>\n",
              "    <tr style=\"text-align: right;\">\n",
              "      <th></th>\n",
              "      <th>Nota</th>\n",
              "      <th>Título</th>\n",
              "      <th>Gêneros</th>\n",
              "      <th>Total_Votos</th>\n",
              "      <th>Média_Notas</th>\n",
              "    </tr>\n",
              "    <tr>\n",
              "      <th>Id_Filme</th>\n",
              "      <th></th>\n",
              "      <th></th>\n",
              "      <th></th>\n",
              "      <th></th>\n",
              "      <th></th>\n",
              "    </tr>\n",
              "  </thead>\n",
              "  <tbody>\n",
              "    <tr>\n",
              "      <th>1704</th>\n",
              "      <td>5.0</td>\n",
              "      <td>Good Will Hunting (1997)</td>\n",
              "      <td>Drama|Romance</td>\n",
              "      <td>141.0</td>\n",
              "      <td>4.078014</td>\n",
              "    </tr>\n",
              "    <tr>\n",
              "      <th>57504</th>\n",
              "      <td>5.0</td>\n",
              "      <td>Girl Who Leapt Through Time, The (Toki o kaker...</td>\n",
              "      <td>Animation|Comedy|Drama|Romance|Sci-Fi</td>\n",
              "      <td>10.0</td>\n",
              "      <td>4.100000</td>\n",
              "    </tr>\n",
              "    <tr>\n",
              "      <th>38304</th>\n",
              "      <td>5.0</td>\n",
              "      <td>No Direction Home: Bob Dylan (2005)</td>\n",
              "      <td>Documentary</td>\n",
              "      <td>4.0</td>\n",
              "      <td>4.625000</td>\n",
              "    </tr>\n",
              "    <tr>\n",
              "      <th>48394</th>\n",
              "      <td>5.0</td>\n",
              "      <td>Pan's Labyrinth (Laberinto del fauno, El) (2006)</td>\n",
              "      <td>Drama|Fantasy|Thriller</td>\n",
              "      <td>81.0</td>\n",
              "      <td>3.814815</td>\n",
              "    </tr>\n",
              "    <tr>\n",
              "      <th>2300</th>\n",
              "      <td>5.0</td>\n",
              "      <td>Producers, The (1968)</td>\n",
              "      <td>Comedy</td>\n",
              "      <td>33.0</td>\n",
              "      <td>3.969697</td>\n",
              "    </tr>\n",
              "  </tbody>\n",
              "</table>\n",
              "</div>"
            ],
            "text/plain": [
              "          Nota  ... Média_Notas\n",
              "Id_Filme        ...            \n",
              "1704       5.0  ...    4.078014\n",
              "57504      5.0  ...    4.100000\n",
              "38304      5.0  ...    4.625000\n",
              "48394      5.0  ...    3.814815\n",
              "2300       5.0  ...    3.969697\n",
              "\n",
              "[5 rows x 5 columns]"
            ]
          },
          "metadata": {
            "tags": []
          },
          "execution_count": 24
        }
      ]
    },
    {
      "cell_type": "markdown",
      "metadata": {
        "id": "Gjmi8ilUN34e",
        "colab_type": "text"
      },
      "source": [
        "# Testar um Novo Usuário"
      ]
    },
    {
      "cell_type": "code",
      "metadata": {
        "id": "3ZULUQdFZYJF",
        "colab_type": "code",
        "colab": {}
      },
      "source": [
        "# função para adicionar um novo usuário (com filmes e notas dadas) no DataFrame notas\n",
        "def novo_usuario(dados):\n",
        "  novo_usuario = notas['Id_Usuário'].max()+1   # cria o Id do novo usuário, que será o último Id existente + 1\n",
        "  notas_novo_usuario = pd.DataFrame(dados,columns = ['Id_Filme','Nota'])  # cria um DF com os filmes e notas do novo usuário  \n",
        "  notas_novo_usuario['Id_Usuário'] = novo_usuario   # adiciona o Id criado as notas e filmes dele\n",
        "  return pd.concat([notas,notas_novo_usuario], sort=True)   # junta o DF das notas do usuario novo ao DF de notas, entre colchetes pois recebe uma lista"
      ],
      "execution_count": 0,
      "outputs": []
    },
    {
      "cell_type": "code",
      "metadata": {
        "id": "cvI2Sd_3ZY36",
        "colab_type": "code",
        "colab": {
          "base_uri": "https://localhost:8080/",
          "height": 347
        },
        "outputId": "9a499839-d03a-4bb2-8ed7-c04c7911ed01"
      },
      "source": [
        "notas = novo_usuario([[58559,2],[33794,2],[5349,2],[8636,2],[1704,5]])\n",
        "notas.tail(10)"
      ],
      "execution_count": 26,
      "outputs": [
        {
          "output_type": "execute_result",
          "data": {
            "text/html": [
              "<div>\n",
              "<style scoped>\n",
              "    .dataframe tbody tr th:only-of-type {\n",
              "        vertical-align: middle;\n",
              "    }\n",
              "\n",
              "    .dataframe tbody tr th {\n",
              "        vertical-align: top;\n",
              "    }\n",
              "\n",
              "    .dataframe thead th {\n",
              "        text-align: right;\n",
              "    }\n",
              "</style>\n",
              "<table border=\"1\" class=\"dataframe\">\n",
              "  <thead>\n",
              "    <tr style=\"text-align: right;\">\n",
              "      <th></th>\n",
              "      <th>Id_Filme</th>\n",
              "      <th>Id_Usuário</th>\n",
              "      <th>Momento</th>\n",
              "      <th>Nota</th>\n",
              "    </tr>\n",
              "  </thead>\n",
              "  <tbody>\n",
              "    <tr>\n",
              "      <th>100831</th>\n",
              "      <td>166534</td>\n",
              "      <td>610</td>\n",
              "      <td>1.493848e+09</td>\n",
              "      <td>4.0</td>\n",
              "    </tr>\n",
              "    <tr>\n",
              "      <th>100832</th>\n",
              "      <td>168248</td>\n",
              "      <td>610</td>\n",
              "      <td>1.493850e+09</td>\n",
              "      <td>5.0</td>\n",
              "    </tr>\n",
              "    <tr>\n",
              "      <th>100833</th>\n",
              "      <td>168250</td>\n",
              "      <td>610</td>\n",
              "      <td>1.494273e+09</td>\n",
              "      <td>5.0</td>\n",
              "    </tr>\n",
              "    <tr>\n",
              "      <th>100834</th>\n",
              "      <td>168252</td>\n",
              "      <td>610</td>\n",
              "      <td>1.493846e+09</td>\n",
              "      <td>5.0</td>\n",
              "    </tr>\n",
              "    <tr>\n",
              "      <th>100835</th>\n",
              "      <td>170875</td>\n",
              "      <td>610</td>\n",
              "      <td>1.493846e+09</td>\n",
              "      <td>3.0</td>\n",
              "    </tr>\n",
              "    <tr>\n",
              "      <th>0</th>\n",
              "      <td>58559</td>\n",
              "      <td>611</td>\n",
              "      <td>NaN</td>\n",
              "      <td>2.0</td>\n",
              "    </tr>\n",
              "    <tr>\n",
              "      <th>1</th>\n",
              "      <td>33794</td>\n",
              "      <td>611</td>\n",
              "      <td>NaN</td>\n",
              "      <td>2.0</td>\n",
              "    </tr>\n",
              "    <tr>\n",
              "      <th>2</th>\n",
              "      <td>5349</td>\n",
              "      <td>611</td>\n",
              "      <td>NaN</td>\n",
              "      <td>2.0</td>\n",
              "    </tr>\n",
              "    <tr>\n",
              "      <th>3</th>\n",
              "      <td>8636</td>\n",
              "      <td>611</td>\n",
              "      <td>NaN</td>\n",
              "      <td>2.0</td>\n",
              "    </tr>\n",
              "    <tr>\n",
              "      <th>4</th>\n",
              "      <td>1704</td>\n",
              "      <td>611</td>\n",
              "      <td>NaN</td>\n",
              "      <td>5.0</td>\n",
              "    </tr>\n",
              "  </tbody>\n",
              "</table>\n",
              "</div>"
            ],
            "text/plain": [
              "        Id_Filme  Id_Usuário       Momento  Nota\n",
              "100831    166534         610  1.493848e+09   4.0\n",
              "100832    168248         610  1.493850e+09   5.0\n",
              "100833    168250         610  1.494273e+09   5.0\n",
              "100834    168252         610  1.493846e+09   5.0\n",
              "100835    170875         610  1.493846e+09   3.0\n",
              "0          58559         611           NaN   2.0\n",
              "1          33794         611           NaN   2.0\n",
              "2           5349         611           NaN   2.0\n",
              "3           8636         611           NaN   2.0\n",
              "4           1704         611           NaN   5.0"
            ]
          },
          "metadata": {
            "tags": []
          },
          "execution_count": 26
        }
      ]
    },
    {
      "cell_type": "code",
      "metadata": {
        "id": "RAPjbuOUTcTY",
        "colab_type": "code",
        "colab": {
          "base_uri": "https://localhost:8080/",
          "height": 316
        },
        "outputId": "bc7cbb92-3183-47a1-beca-b3a6bc6bd5a4"
      },
      "source": [
        "recomendam(612).head()"
      ],
      "execution_count": 27,
      "outputs": [
        {
          "output_type": "error",
          "ename": "KeyError",
          "evalue": "ignored",
          "traceback": [
            "\u001b[0;31m---------------------------------------------------------------------------\u001b[0m",
            "\u001b[0;31mKeyError\u001b[0m                                  Traceback (most recent call last)",
            "\u001b[0;32m<ipython-input-27-035f6cee0ff8>\u001b[0m in \u001b[0;36m<module>\u001b[0;34m()\u001b[0m\n\u001b[0;32m----> 1\u001b[0;31m \u001b[0mrecomendam\u001b[0m\u001b[0;34m(\u001b[0m\u001b[0;36m612\u001b[0m\u001b[0;34m)\u001b[0m\u001b[0;34m.\u001b[0m\u001b[0mhead\u001b[0m\u001b[0;34m(\u001b[0m\u001b[0;34m)\u001b[0m\u001b[0;34m\u001b[0m\u001b[0;34m\u001b[0m\u001b[0m\n\u001b[0m",
            "\u001b[0;32m<ipython-input-23-377f2b189246>\u001b[0m in \u001b[0;36mrecomendam\u001b[0;34m(usuario, k_mais_proximos, num_usuarios)\u001b[0m\n\u001b[1;32m      3\u001b[0m   \u001b[0mfilmes_vistos\u001b[0m \u001b[0;34m=\u001b[0m \u001b[0mnotas_usuario_escolhido\u001b[0m\u001b[0;34m.\u001b[0m\u001b[0mindex\u001b[0m     \u001b[0;31m# extrai os filmes ja vistos por ele\u001b[0m\u001b[0;34m\u001b[0m\u001b[0;34m\u001b[0m\u001b[0m\n\u001b[1;32m      4\u001b[0m \u001b[0;34m\u001b[0m\u001b[0m\n\u001b[0;32m----> 5\u001b[0;31m   \u001b[0msimilares\u001b[0m \u001b[0;34m=\u001b[0m \u001b[0mk_nearest_neighbors\u001b[0m\u001b[0;34m(\u001b[0m\u001b[0musuario\u001b[0m\u001b[0;34m,\u001b[0m \u001b[0mk_mais_proximos\u001b[0m \u001b[0;34m=\u001b[0m \u001b[0mk_mais_proximos\u001b[0m \u001b[0;34m,\u001b[0m \u001b[0mnum_usuarios\u001b[0m \u001b[0;34m=\u001b[0m \u001b[0mnum_usuarios\u001b[0m\u001b[0;34m)\u001b[0m \u001b[0;31m# pega os usuarios mais similares\u001b[0m\u001b[0;34m\u001b[0m\u001b[0;34m\u001b[0m\u001b[0m\n\u001b[0m\u001b[1;32m      6\u001b[0m   \u001b[0musuarios_similares\u001b[0m \u001b[0;34m=\u001b[0m \u001b[0msimilares\u001b[0m\u001b[0;34m.\u001b[0m\u001b[0mindex\u001b[0m   \u001b[0;31m# pega o índice dos usuários mais similares\u001b[0m\u001b[0;34m\u001b[0m\u001b[0;34m\u001b[0m\u001b[0m\n\u001b[1;32m      7\u001b[0m   \u001b[0mnotas_similares\u001b[0m \u001b[0;34m=\u001b[0m \u001b[0mnotas\u001b[0m\u001b[0;34m.\u001b[0m\u001b[0mset_index\u001b[0m\u001b[0;34m(\u001b[0m\u001b[0;34m'Id_Usuário'\u001b[0m\u001b[0;34m)\u001b[0m\u001b[0;34m.\u001b[0m\u001b[0mloc\u001b[0m\u001b[0;34m[\u001b[0m\u001b[0musuarios_similares\u001b[0m\u001b[0;34m]\u001b[0m  \u001b[0;31m# dentro do Id_Usuario, do DF notas, localizar os usuários similares\u001b[0m\u001b[0;34m\u001b[0m\u001b[0;34m\u001b[0m\u001b[0m\n",
            "\u001b[0;32m<ipython-input-22-ceb750e0d9a0>\u001b[0m in \u001b[0;36mk_nearest_neighbors\u001b[0;34m(usuario, k_mais_proximos, num_usuarios)\u001b[0m\n\u001b[1;32m      2\u001b[0m   \u001b[0mdistancias\u001b[0m \u001b[0;34m=\u001b[0m \u001b[0mdistancia_todos\u001b[0m\u001b[0;34m(\u001b[0m\u001b[0musuario\u001b[0m\u001b[0;34m,\u001b[0m \u001b[0mnum_usuarios\u001b[0m \u001b[0;34m=\u001b[0m \u001b[0mnum_usuarios\u001b[0m\u001b[0;34m)\u001b[0m\u001b[0;34m\u001b[0m\u001b[0;34m\u001b[0m\u001b[0m\n\u001b[1;32m      3\u001b[0m   \u001b[0mdistancias\u001b[0m \u001b[0;34m=\u001b[0m \u001b[0mdistancias\u001b[0m\u001b[0;34m.\u001b[0m\u001b[0msort_values\u001b[0m\u001b[0;34m(\u001b[0m\u001b[0;34m'Distância'\u001b[0m\u001b[0;34m)\u001b[0m  \u001b[0;31m# coloca em ordem crescente\u001b[0m\u001b[0;34m\u001b[0m\u001b[0;34m\u001b[0m\u001b[0m\n\u001b[0;32m----> 4\u001b[0;31m   \u001b[0mdistancias\u001b[0m \u001b[0;34m=\u001b[0m \u001b[0mdistancias\u001b[0m\u001b[0;34m.\u001b[0m\u001b[0mset_index\u001b[0m\u001b[0;34m(\u001b[0m\u001b[0;34m'Todos_Usuários'\u001b[0m\u001b[0;34m)\u001b[0m\u001b[0;34m.\u001b[0m\u001b[0mdrop\u001b[0m\u001b[0;34m(\u001b[0m\u001b[0musuario\u001b[0m\u001b[0;34m)\u001b[0m  \u001b[0;31m# coloca a coluna de todos os usuarios como índice e retira a 1° linha para não comparar com o proprio usuario\u001b[0m\u001b[0;34m\u001b[0m\u001b[0;34m\u001b[0m\u001b[0m\n\u001b[0m\u001b[1;32m      5\u001b[0m   \u001b[0;32mreturn\u001b[0m \u001b[0mdistancias\u001b[0m\u001b[0;34m.\u001b[0m\u001b[0mhead\u001b[0m\u001b[0;34m(\u001b[0m\u001b[0mk_mais_proximos\u001b[0m\u001b[0;34m)\u001b[0m\u001b[0;34m\u001b[0m\u001b[0;34m\u001b[0m\u001b[0m\n",
            "\u001b[0;32m/usr/local/lib/python3.6/dist-packages/pandas/core/frame.py\u001b[0m in \u001b[0;36mdrop\u001b[0;34m(self, labels, axis, index, columns, level, inplace, errors)\u001b[0m\n\u001b[1;32m   3995\u001b[0m             \u001b[0mlevel\u001b[0m\u001b[0;34m=\u001b[0m\u001b[0mlevel\u001b[0m\u001b[0;34m,\u001b[0m\u001b[0;34m\u001b[0m\u001b[0;34m\u001b[0m\u001b[0m\n\u001b[1;32m   3996\u001b[0m             \u001b[0minplace\u001b[0m\u001b[0;34m=\u001b[0m\u001b[0minplace\u001b[0m\u001b[0;34m,\u001b[0m\u001b[0;34m\u001b[0m\u001b[0;34m\u001b[0m\u001b[0m\n\u001b[0;32m-> 3997\u001b[0;31m             \u001b[0merrors\u001b[0m\u001b[0;34m=\u001b[0m\u001b[0merrors\u001b[0m\u001b[0;34m,\u001b[0m\u001b[0;34m\u001b[0m\u001b[0;34m\u001b[0m\u001b[0m\n\u001b[0m\u001b[1;32m   3998\u001b[0m         )\n\u001b[1;32m   3999\u001b[0m \u001b[0;34m\u001b[0m\u001b[0m\n",
            "\u001b[0;32m/usr/local/lib/python3.6/dist-packages/pandas/core/generic.py\u001b[0m in \u001b[0;36mdrop\u001b[0;34m(self, labels, axis, index, columns, level, inplace, errors)\u001b[0m\n\u001b[1;32m   3934\u001b[0m         \u001b[0;32mfor\u001b[0m \u001b[0maxis\u001b[0m\u001b[0;34m,\u001b[0m \u001b[0mlabels\u001b[0m \u001b[0;32min\u001b[0m \u001b[0maxes\u001b[0m\u001b[0;34m.\u001b[0m\u001b[0mitems\u001b[0m\u001b[0;34m(\u001b[0m\u001b[0;34m)\u001b[0m\u001b[0;34m:\u001b[0m\u001b[0;34m\u001b[0m\u001b[0;34m\u001b[0m\u001b[0m\n\u001b[1;32m   3935\u001b[0m             \u001b[0;32mif\u001b[0m \u001b[0mlabels\u001b[0m \u001b[0;32mis\u001b[0m \u001b[0;32mnot\u001b[0m \u001b[0;32mNone\u001b[0m\u001b[0;34m:\u001b[0m\u001b[0;34m\u001b[0m\u001b[0;34m\u001b[0m\u001b[0m\n\u001b[0;32m-> 3936\u001b[0;31m                 \u001b[0mobj\u001b[0m \u001b[0;34m=\u001b[0m \u001b[0mobj\u001b[0m\u001b[0;34m.\u001b[0m\u001b[0m_drop_axis\u001b[0m\u001b[0;34m(\u001b[0m\u001b[0mlabels\u001b[0m\u001b[0;34m,\u001b[0m \u001b[0maxis\u001b[0m\u001b[0;34m,\u001b[0m \u001b[0mlevel\u001b[0m\u001b[0;34m=\u001b[0m\u001b[0mlevel\u001b[0m\u001b[0;34m,\u001b[0m \u001b[0merrors\u001b[0m\u001b[0;34m=\u001b[0m\u001b[0merrors\u001b[0m\u001b[0;34m)\u001b[0m\u001b[0;34m\u001b[0m\u001b[0;34m\u001b[0m\u001b[0m\n\u001b[0m\u001b[1;32m   3937\u001b[0m \u001b[0;34m\u001b[0m\u001b[0m\n\u001b[1;32m   3938\u001b[0m         \u001b[0;32mif\u001b[0m \u001b[0minplace\u001b[0m\u001b[0;34m:\u001b[0m\u001b[0;34m\u001b[0m\u001b[0;34m\u001b[0m\u001b[0m\n",
            "\u001b[0;32m/usr/local/lib/python3.6/dist-packages/pandas/core/generic.py\u001b[0m in \u001b[0;36m_drop_axis\u001b[0;34m(self, labels, axis, level, errors)\u001b[0m\n\u001b[1;32m   3968\u001b[0m                 \u001b[0mnew_axis\u001b[0m \u001b[0;34m=\u001b[0m \u001b[0maxis\u001b[0m\u001b[0;34m.\u001b[0m\u001b[0mdrop\u001b[0m\u001b[0;34m(\u001b[0m\u001b[0mlabels\u001b[0m\u001b[0;34m,\u001b[0m \u001b[0mlevel\u001b[0m\u001b[0;34m=\u001b[0m\u001b[0mlevel\u001b[0m\u001b[0;34m,\u001b[0m \u001b[0merrors\u001b[0m\u001b[0;34m=\u001b[0m\u001b[0merrors\u001b[0m\u001b[0;34m)\u001b[0m\u001b[0;34m\u001b[0m\u001b[0;34m\u001b[0m\u001b[0m\n\u001b[1;32m   3969\u001b[0m             \u001b[0;32melse\u001b[0m\u001b[0;34m:\u001b[0m\u001b[0;34m\u001b[0m\u001b[0;34m\u001b[0m\u001b[0m\n\u001b[0;32m-> 3970\u001b[0;31m                 \u001b[0mnew_axis\u001b[0m \u001b[0;34m=\u001b[0m \u001b[0maxis\u001b[0m\u001b[0;34m.\u001b[0m\u001b[0mdrop\u001b[0m\u001b[0;34m(\u001b[0m\u001b[0mlabels\u001b[0m\u001b[0;34m,\u001b[0m \u001b[0merrors\u001b[0m\u001b[0;34m=\u001b[0m\u001b[0merrors\u001b[0m\u001b[0;34m)\u001b[0m\u001b[0;34m\u001b[0m\u001b[0;34m\u001b[0m\u001b[0m\n\u001b[0m\u001b[1;32m   3971\u001b[0m             \u001b[0mresult\u001b[0m \u001b[0;34m=\u001b[0m \u001b[0mself\u001b[0m\u001b[0;34m.\u001b[0m\u001b[0mreindex\u001b[0m\u001b[0;34m(\u001b[0m\u001b[0;34m**\u001b[0m\u001b[0;34m{\u001b[0m\u001b[0maxis_name\u001b[0m\u001b[0;34m:\u001b[0m \u001b[0mnew_axis\u001b[0m\u001b[0;34m}\u001b[0m\u001b[0;34m)\u001b[0m\u001b[0;34m\u001b[0m\u001b[0;34m\u001b[0m\u001b[0m\n\u001b[1;32m   3972\u001b[0m \u001b[0;34m\u001b[0m\u001b[0m\n",
            "\u001b[0;32m/usr/local/lib/python3.6/dist-packages/pandas/core/indexes/base.py\u001b[0m in \u001b[0;36mdrop\u001b[0;34m(self, labels, errors)\u001b[0m\n\u001b[1;32m   5015\u001b[0m         \u001b[0;32mif\u001b[0m \u001b[0mmask\u001b[0m\u001b[0;34m.\u001b[0m\u001b[0many\u001b[0m\u001b[0;34m(\u001b[0m\u001b[0;34m)\u001b[0m\u001b[0;34m:\u001b[0m\u001b[0;34m\u001b[0m\u001b[0;34m\u001b[0m\u001b[0m\n\u001b[1;32m   5016\u001b[0m             \u001b[0;32mif\u001b[0m \u001b[0merrors\u001b[0m \u001b[0;34m!=\u001b[0m \u001b[0;34m\"ignore\"\u001b[0m\u001b[0;34m:\u001b[0m\u001b[0;34m\u001b[0m\u001b[0;34m\u001b[0m\u001b[0m\n\u001b[0;32m-> 5017\u001b[0;31m                 \u001b[0;32mraise\u001b[0m \u001b[0mKeyError\u001b[0m\u001b[0;34m(\u001b[0m\u001b[0;34mf\"{labels[mask]} not found in axis\"\u001b[0m\u001b[0;34m)\u001b[0m\u001b[0;34m\u001b[0m\u001b[0;34m\u001b[0m\u001b[0m\n\u001b[0m\u001b[1;32m   5018\u001b[0m             \u001b[0mindexer\u001b[0m \u001b[0;34m=\u001b[0m \u001b[0mindexer\u001b[0m\u001b[0;34m[\u001b[0m\u001b[0;34m~\u001b[0m\u001b[0mmask\u001b[0m\u001b[0;34m]\u001b[0m\u001b[0;34m\u001b[0m\u001b[0;34m\u001b[0m\u001b[0m\n\u001b[1;32m   5019\u001b[0m         \u001b[0;32mreturn\u001b[0m \u001b[0mself\u001b[0m\u001b[0;34m.\u001b[0m\u001b[0mdelete\u001b[0m\u001b[0;34m(\u001b[0m\u001b[0mindexer\u001b[0m\u001b[0;34m)\u001b[0m\u001b[0;34m\u001b[0m\u001b[0;34m\u001b[0m\u001b[0m\n",
            "\u001b[0;31mKeyError\u001b[0m: '[612] not found in axis'"
          ]
        }
      ]
    },
    {
      "cell_type": "markdown",
      "metadata": {
        "id": "DwKjbel7WFON",
        "colab_type": "text"
      },
      "source": [
        "# Filtragem\n",
        "**KNN para Filmes com Mais de 50 Votos**"
      ]
    },
    {
      "cell_type": "code",
      "metadata": {
        "id": "m49ryvDkaHgV",
        "colab_type": "code",
        "colab": {
          "base_uri": "https://localhost:8080/",
          "height": 227
        },
        "outputId": "ac584e6c-4c46-4408-9368-4290d6c3d01c"
      },
      "source": [
        "notas = notas.set_index('Id_Filme').loc[filmes_mais_50_votos.index]   # substitui o índice para ser Id_Filme\n",
        "notas.head()"
      ],
      "execution_count": 28,
      "outputs": [
        {
          "output_type": "execute_result",
          "data": {
            "text/html": [
              "<div>\n",
              "<style scoped>\n",
              "    .dataframe tbody tr th:only-of-type {\n",
              "        vertical-align: middle;\n",
              "    }\n",
              "\n",
              "    .dataframe tbody tr th {\n",
              "        vertical-align: top;\n",
              "    }\n",
              "\n",
              "    .dataframe thead th {\n",
              "        text-align: right;\n",
              "    }\n",
              "</style>\n",
              "<table border=\"1\" class=\"dataframe\">\n",
              "  <thead>\n",
              "    <tr style=\"text-align: right;\">\n",
              "      <th></th>\n",
              "      <th>Id_Usuário</th>\n",
              "      <th>Momento</th>\n",
              "      <th>Nota</th>\n",
              "    </tr>\n",
              "    <tr>\n",
              "      <th>Id_Filme</th>\n",
              "      <th></th>\n",
              "      <th></th>\n",
              "      <th></th>\n",
              "    </tr>\n",
              "  </thead>\n",
              "  <tbody>\n",
              "    <tr>\n",
              "      <th>1</th>\n",
              "      <td>1</td>\n",
              "      <td>9.649827e+08</td>\n",
              "      <td>4.0</td>\n",
              "    </tr>\n",
              "    <tr>\n",
              "      <th>1</th>\n",
              "      <td>5</td>\n",
              "      <td>8.474350e+08</td>\n",
              "      <td>4.0</td>\n",
              "    </tr>\n",
              "    <tr>\n",
              "      <th>1</th>\n",
              "      <td>7</td>\n",
              "      <td>1.106636e+09</td>\n",
              "      <td>4.5</td>\n",
              "    </tr>\n",
              "    <tr>\n",
              "      <th>1</th>\n",
              "      <td>15</td>\n",
              "      <td>1.510578e+09</td>\n",
              "      <td>2.5</td>\n",
              "    </tr>\n",
              "    <tr>\n",
              "      <th>1</th>\n",
              "      <td>17</td>\n",
              "      <td>1.305696e+09</td>\n",
              "      <td>4.5</td>\n",
              "    </tr>\n",
              "  </tbody>\n",
              "</table>\n",
              "</div>"
            ],
            "text/plain": [
              "          Id_Usuário       Momento  Nota\n",
              "Id_Filme                                \n",
              "1                  1  9.649827e+08   4.0\n",
              "1                  5  8.474350e+08   4.0\n",
              "1                  7  1.106636e+09   4.5\n",
              "1                 15  1.510578e+09   2.5\n",
              "1                 17  1.305696e+09   4.5"
            ]
          },
          "metadata": {
            "tags": []
          },
          "execution_count": 28
        }
      ]
    },
    {
      "cell_type": "code",
      "metadata": {
        "id": "Nfk3RpUJXZfF",
        "colab_type": "code",
        "colab": {
          "base_uri": "https://localhost:8080/",
          "height": 197
        },
        "outputId": "cc6783f3-ab21-4946-e788-92190f5aaac7"
      },
      "source": [
        "notas = notas.reset_index()    # reseta o índice\n",
        "notas.head()"
      ],
      "execution_count": 29,
      "outputs": [
        {
          "output_type": "execute_result",
          "data": {
            "text/html": [
              "<div>\n",
              "<style scoped>\n",
              "    .dataframe tbody tr th:only-of-type {\n",
              "        vertical-align: middle;\n",
              "    }\n",
              "\n",
              "    .dataframe tbody tr th {\n",
              "        vertical-align: top;\n",
              "    }\n",
              "\n",
              "    .dataframe thead th {\n",
              "        text-align: right;\n",
              "    }\n",
              "</style>\n",
              "<table border=\"1\" class=\"dataframe\">\n",
              "  <thead>\n",
              "    <tr style=\"text-align: right;\">\n",
              "      <th></th>\n",
              "      <th>Id_Filme</th>\n",
              "      <th>Id_Usuário</th>\n",
              "      <th>Momento</th>\n",
              "      <th>Nota</th>\n",
              "    </tr>\n",
              "  </thead>\n",
              "  <tbody>\n",
              "    <tr>\n",
              "      <th>0</th>\n",
              "      <td>1</td>\n",
              "      <td>1</td>\n",
              "      <td>9.649827e+08</td>\n",
              "      <td>4.0</td>\n",
              "    </tr>\n",
              "    <tr>\n",
              "      <th>1</th>\n",
              "      <td>1</td>\n",
              "      <td>5</td>\n",
              "      <td>8.474350e+08</td>\n",
              "      <td>4.0</td>\n",
              "    </tr>\n",
              "    <tr>\n",
              "      <th>2</th>\n",
              "      <td>1</td>\n",
              "      <td>7</td>\n",
              "      <td>1.106636e+09</td>\n",
              "      <td>4.5</td>\n",
              "    </tr>\n",
              "    <tr>\n",
              "      <th>3</th>\n",
              "      <td>1</td>\n",
              "      <td>15</td>\n",
              "      <td>1.510578e+09</td>\n",
              "      <td>2.5</td>\n",
              "    </tr>\n",
              "    <tr>\n",
              "      <th>4</th>\n",
              "      <td>1</td>\n",
              "      <td>17</td>\n",
              "      <td>1.305696e+09</td>\n",
              "      <td>4.5</td>\n",
              "    </tr>\n",
              "  </tbody>\n",
              "</table>\n",
              "</div>"
            ],
            "text/plain": [
              "   Id_Filme  Id_Usuário       Momento  Nota\n",
              "0         1           1  9.649827e+08   4.0\n",
              "1         1           5  8.474350e+08   4.0\n",
              "2         1           7  1.106636e+09   4.5\n",
              "3         1          15  1.510578e+09   2.5\n",
              "4         1          17  1.305696e+09   4.5"
            ]
          },
          "metadata": {
            "tags": []
          },
          "execution_count": 29
        }
      ]
    },
    {
      "cell_type": "markdown",
      "metadata": {
        "id": "KJywMVPbcq87",
        "colab_type": "text"
      },
      "source": [
        "**Mínimo de usuários com recomendações**"
      ]
    },
    {
      "cell_type": "code",
      "metadata": {
        "id": "rP3QM-6ydT5y",
        "colab_type": "code",
        "colab": {}
      },
      "source": [
        "def k_nearest_neighbors(usuario, k_mais_proximos = 10 ,num_usuarios = None):\n",
        "  distancias = distancia_todos(usuario, num_usuarios = num_usuarios)\n",
        "  distancias = distancias.sort_values('Distância')  \n",
        "  distancias = distancias.set_index('Todos_Usuários').drop(usuario, errors = 'ignore')    # adiciona o 'errors = 'ignore'' \n",
        "  return distancias.head(k_mais_proximos)"
      ],
      "execution_count": 0,
      "outputs": []
    },
    {
      "cell_type": "code",
      "metadata": {
        "id": "0IymclWwYS2e",
        "colab_type": "code",
        "colab": {}
      },
      "source": [
        "def recomendam(usuario, k_mais_proximos = 10, num_usuarios = None):\n",
        "  notas_usuario_escolhido = notas_usuario(usuario) \n",
        "  filmes_vistos = notas_usuario_escolhido.index     \n",
        "\n",
        "  similares = k_nearest_neighbors(usuario, k_mais_proximos = k_mais_proximos , num_usuarios = num_usuarios)\n",
        "  usuarios_similares = similares.index\n",
        "  notas_similares = notas.set_index('Id_Usuário').loc[usuarios_similares]\n",
        "  recomendacao = notas_similares.groupby('Id_Filme').mean()[['Nota']]\n",
        "  aparicoes = notas_similares.groupby('Id_Filme').count()[['Nota']]   # conta o número de vezes que cada filme é votado pelos usuários similares e transforma aparicoes em DF\n",
        "  \n",
        "  filtro_minimo = k_mais_proximos/2   # 5\n",
        "  recomendacao = recomendacao.join(aparicoes, lsuffix = '_Média_Usuários', rsuffix = '_Aparições_Usuários')   # junta a recomendacao com a aparições passando sufixos para diferenciar as colunas das notas\n",
        "  recomendacao = recomendacao.query(\"Nota_Aparições_Usuários >= %.2f\" %filtro_minimo)  # Logo filtra aparições menores do que 5\n",
        "  recomendacao = recomendacao.sort_values('Nota_Média_Usuários', ascending = False).join(filmes)   # atualizar Nota para Nota_Média_Usuários\n",
        "  recomendacao = recomendacao.drop(filmes_vistos,errors = 'ignore')  # para retirar filmes ja vistos\n",
        "  return recomendacao"
      ],
      "execution_count": 0,
      "outputs": []
    },
    {
      "cell_type": "code",
      "metadata": {
        "id": "BrsfCDItdCUb",
        "colab_type": "code",
        "colab": {
          "base_uri": "https://localhost:8080/",
          "height": 227
        },
        "outputId": "7c10eaa0-7648-4101-d391-a7f5c8069e88"
      },
      "source": [
        "recomendam(612).head()"
      ],
      "execution_count": 35,
      "outputs": [
        {
          "output_type": "execute_result",
          "data": {
            "text/html": [
              "<div>\n",
              "<style scoped>\n",
              "    .dataframe tbody tr th:only-of-type {\n",
              "        vertical-align: middle;\n",
              "    }\n",
              "\n",
              "    .dataframe tbody tr th {\n",
              "        vertical-align: top;\n",
              "    }\n",
              "\n",
              "    .dataframe thead th {\n",
              "        text-align: right;\n",
              "    }\n",
              "</style>\n",
              "<table border=\"1\" class=\"dataframe\">\n",
              "  <thead>\n",
              "    <tr style=\"text-align: right;\">\n",
              "      <th></th>\n",
              "      <th>Nota_Média_Usuários</th>\n",
              "      <th>Nota_Aparições_Usuários</th>\n",
              "      <th>Título</th>\n",
              "      <th>Gêneros</th>\n",
              "      <th>Total_Votos</th>\n",
              "      <th>Média_Notas</th>\n",
              "    </tr>\n",
              "    <tr>\n",
              "      <th>Id_Filme</th>\n",
              "      <th></th>\n",
              "      <th></th>\n",
              "      <th></th>\n",
              "      <th></th>\n",
              "      <th></th>\n",
              "      <th></th>\n",
              "    </tr>\n",
              "  </thead>\n",
              "  <tbody>\n",
              "    <tr>\n",
              "      <th>356</th>\n",
              "      <td>4.200000</td>\n",
              "      <td>5</td>\n",
              "      <td>Forrest Gump (1994)</td>\n",
              "      <td>Comedy|Drama|Romance|War</td>\n",
              "      <td>329.0</td>\n",
              "      <td>4.164134</td>\n",
              "    </tr>\n",
              "    <tr>\n",
              "      <th>2858</th>\n",
              "      <td>4.166667</td>\n",
              "      <td>6</td>\n",
              "      <td>American Beauty (1999)</td>\n",
              "      <td>Drama|Romance</td>\n",
              "      <td>204.0</td>\n",
              "      <td>4.056373</td>\n",
              "    </tr>\n",
              "    <tr>\n",
              "      <th>39</th>\n",
              "      <td>4.083333</td>\n",
              "      <td>6</td>\n",
              "      <td>Clueless (1995)</td>\n",
              "      <td>Comedy|Romance</td>\n",
              "      <td>104.0</td>\n",
              "      <td>3.293269</td>\n",
              "    </tr>\n",
              "    <tr>\n",
              "      <th>1197</th>\n",
              "      <td>4.000000</td>\n",
              "      <td>6</td>\n",
              "      <td>Princess Bride, The (1987)</td>\n",
              "      <td>Action|Adventure|Comedy|Fantasy|Romance</td>\n",
              "      <td>142.0</td>\n",
              "      <td>4.232394</td>\n",
              "    </tr>\n",
              "    <tr>\n",
              "      <th>260</th>\n",
              "      <td>3.833333</td>\n",
              "      <td>6</td>\n",
              "      <td>Star Wars: Episode IV - A New Hope (1977)</td>\n",
              "      <td>Action|Adventure|Sci-Fi</td>\n",
              "      <td>251.0</td>\n",
              "      <td>4.231076</td>\n",
              "    </tr>\n",
              "  </tbody>\n",
              "</table>\n",
              "</div>"
            ],
            "text/plain": [
              "          Nota_Média_Usuários  ...  Média_Notas\n",
              "Id_Filme                       ...             \n",
              "356                  4.200000  ...     4.164134\n",
              "2858                 4.166667  ...     4.056373\n",
              "39                   4.083333  ...     3.293269\n",
              "1197                 4.000000  ...     4.232394\n",
              "260                  3.833333  ...     4.231076\n",
              "\n",
              "[5 rows x 6 columns]"
            ]
          },
          "metadata": {
            "tags": []
          },
          "execution_count": 35
        }
      ]
    },
    {
      "cell_type": "code",
      "metadata": {
        "id": "c3SspNi5dgpP",
        "colab_type": "code",
        "colab": {
          "base_uri": "https://localhost:8080/",
          "height": 137
        },
        "outputId": "5c21e42d-6e5f-4ed0-d5e6-f49c06f78d2a"
      },
      "source": [
        "recomendam(612, k_mais_proximos = 20).head()"
      ],
      "execution_count": 36,
      "outputs": [
        {
          "output_type": "execute_result",
          "data": {
            "text/html": [
              "<div>\n",
              "<style scoped>\n",
              "    .dataframe tbody tr th:only-of-type {\n",
              "        vertical-align: middle;\n",
              "    }\n",
              "\n",
              "    .dataframe tbody tr th {\n",
              "        vertical-align: top;\n",
              "    }\n",
              "\n",
              "    .dataframe thead th {\n",
              "        text-align: right;\n",
              "    }\n",
              "</style>\n",
              "<table border=\"1\" class=\"dataframe\">\n",
              "  <thead>\n",
              "    <tr style=\"text-align: right;\">\n",
              "      <th></th>\n",
              "      <th>Nota_Média_Usuários</th>\n",
              "      <th>Nota_Aparições_Usuários</th>\n",
              "      <th>Título</th>\n",
              "      <th>Gêneros</th>\n",
              "      <th>Total_Votos</th>\n",
              "      <th>Média_Notas</th>\n",
              "    </tr>\n",
              "    <tr>\n",
              "      <th>Id_Filme</th>\n",
              "      <th></th>\n",
              "      <th></th>\n",
              "      <th></th>\n",
              "      <th></th>\n",
              "      <th></th>\n",
              "      <th></th>\n",
              "    </tr>\n",
              "  </thead>\n",
              "  <tbody>\n",
              "    <tr>\n",
              "      <th>356</th>\n",
              "      <td>3.769231</td>\n",
              "      <td>13</td>\n",
              "      <td>Forrest Gump (1994)</td>\n",
              "      <td>Comedy|Drama|Romance|War</td>\n",
              "      <td>329.0</td>\n",
              "      <td>4.164134</td>\n",
              "    </tr>\n",
              "    <tr>\n",
              "      <th>593</th>\n",
              "      <td>3.590909</td>\n",
              "      <td>11</td>\n",
              "      <td>Silence of the Lambs, The (1991)</td>\n",
              "      <td>Crime|Horror|Thriller</td>\n",
              "      <td>279.0</td>\n",
              "      <td>4.161290</td>\n",
              "    </tr>\n",
              "  </tbody>\n",
              "</table>\n",
              "</div>"
            ],
            "text/plain": [
              "          Nota_Média_Usuários  ...  Média_Notas\n",
              "Id_Filme                       ...             \n",
              "356                  3.769231  ...     4.164134\n",
              "593                  3.590909  ...     4.161290\n",
              "\n",
              "[2 rows x 6 columns]"
            ]
          },
          "metadata": {
            "tags": []
          },
          "execution_count": 36
        }
      ]
    },
    {
      "cell_type": "code",
      "metadata": {
        "id": "MfzDJTCXjuWR",
        "colab_type": "code",
        "colab": {
          "base_uri": "https://localhost:8080/",
          "height": 227
        },
        "outputId": "8aeca75a-5ec9-4778-88a9-2437bd8c0510"
      },
      "source": [
        "recomendam(1).head()"
      ],
      "execution_count": 37,
      "outputs": [
        {
          "output_type": "execute_result",
          "data": {
            "text/html": [
              "<div>\n",
              "<style scoped>\n",
              "    .dataframe tbody tr th:only-of-type {\n",
              "        vertical-align: middle;\n",
              "    }\n",
              "\n",
              "    .dataframe tbody tr th {\n",
              "        vertical-align: top;\n",
              "    }\n",
              "\n",
              "    .dataframe thead th {\n",
              "        text-align: right;\n",
              "    }\n",
              "</style>\n",
              "<table border=\"1\" class=\"dataframe\">\n",
              "  <thead>\n",
              "    <tr style=\"text-align: right;\">\n",
              "      <th></th>\n",
              "      <th>Nota_Média_Usuários</th>\n",
              "      <th>Nota_Aparições_Usuários</th>\n",
              "      <th>Título</th>\n",
              "      <th>Gêneros</th>\n",
              "      <th>Total_Votos</th>\n",
              "      <th>Média_Notas</th>\n",
              "    </tr>\n",
              "    <tr>\n",
              "      <th>Id_Filme</th>\n",
              "      <th></th>\n",
              "      <th></th>\n",
              "      <th></th>\n",
              "      <th></th>\n",
              "      <th></th>\n",
              "      <th></th>\n",
              "    </tr>\n",
              "  </thead>\n",
              "  <tbody>\n",
              "    <tr>\n",
              "      <th>7153</th>\n",
              "      <td>4.700000</td>\n",
              "      <td>5</td>\n",
              "      <td>Lord of the Rings: The Return of the King, The...</td>\n",
              "      <td>Action|Adventure|Drama|Fantasy</td>\n",
              "      <td>185.0</td>\n",
              "      <td>4.118919</td>\n",
              "    </tr>\n",
              "    <tr>\n",
              "      <th>58559</th>\n",
              "      <td>4.700000</td>\n",
              "      <td>5</td>\n",
              "      <td>Dark Knight, The (2008)</td>\n",
              "      <td>Action|Crime|Drama|IMAX</td>\n",
              "      <td>149.0</td>\n",
              "      <td>4.238255</td>\n",
              "    </tr>\n",
              "    <tr>\n",
              "      <th>4993</th>\n",
              "      <td>4.666667</td>\n",
              "      <td>6</td>\n",
              "      <td>Lord of the Rings: The Fellowship of the Ring,...</td>\n",
              "      <td>Adventure|Fantasy</td>\n",
              "      <td>198.0</td>\n",
              "      <td>4.106061</td>\n",
              "    </tr>\n",
              "    <tr>\n",
              "      <th>318</th>\n",
              "      <td>4.642857</td>\n",
              "      <td>7</td>\n",
              "      <td>Shawshank Redemption, The (1994)</td>\n",
              "      <td>Crime|Drama</td>\n",
              "      <td>317.0</td>\n",
              "      <td>4.429022</td>\n",
              "    </tr>\n",
              "    <tr>\n",
              "      <th>109487</th>\n",
              "      <td>4.583333</td>\n",
              "      <td>6</td>\n",
              "      <td>Interstellar (2014)</td>\n",
              "      <td>Sci-Fi|IMAX</td>\n",
              "      <td>73.0</td>\n",
              "      <td>3.993151</td>\n",
              "    </tr>\n",
              "  </tbody>\n",
              "</table>\n",
              "</div>"
            ],
            "text/plain": [
              "          Nota_Média_Usuários  ...  Média_Notas\n",
              "Id_Filme                       ...             \n",
              "7153                 4.700000  ...     4.118919\n",
              "58559                4.700000  ...     4.238255\n",
              "4993                 4.666667  ...     4.106061\n",
              "318                  4.642857  ...     4.429022\n",
              "109487               4.583333  ...     3.993151\n",
              "\n",
              "[5 rows x 6 columns]"
            ]
          },
          "metadata": {
            "tags": []
          },
          "execution_count": 37
        }
      ]
    },
    {
      "cell_type": "code",
      "metadata": {
        "id": "m5ZvNB7JoVM5",
        "colab_type": "code",
        "colab": {}
      },
      "source": [
        ""
      ],
      "execution_count": 0,
      "outputs": []
    }
  ]
}